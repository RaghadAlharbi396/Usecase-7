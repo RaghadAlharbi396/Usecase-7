{
 "cells": [
  {
   "cell_type": "code",
   "execution_count": 270,
   "id": "e69c4ba1-85f3-4a02-ae37-c64347a01803",
   "metadata": {},
   "outputs": [],
   "source": [
    "# To ignore warnings\n",
    "import warnings\n",
    "warnings.filterwarnings(\"ignore\")\n",
    "import pandas as pd\n",
    "import numpy as np\n",
    "import matplotlib.pyplot as plt\n",
    "import seaborn as sns\n",
    "import dtale\n",
    "\n",
    "from sklearn.model_selection import train_test_split\n",
    "from sklearn.preprocessing import StandardScaler\n",
    "from sklearn.linear_model import LinearRegression, Ridge, Lasso\n",
    "from sklearn.linear_model import LogisticRegression\n",
    "from sklearn.metrics import accuracy_score, confusion_matrix, precision_score, recall_score, f1_score\n",
    "from sklearn.model_selection import GridSearchCV\n",
    "from sklearn.preprocessing import LabelEncoder\n",
    "\n",
    "from sklearn import metrics\n",
    "\n",
    "%matplotlib inline"
   ]
  },
  {
   "cell_type": "markdown",
   "id": "e395e8bf-b530-4720-8d0f-26811e927d6e",
   "metadata": {},
   "source": [
    "## Loading the data\n",
    "We can now load the dataset into pandas using the read_csv() function. This converts the CSV file into a Pandas dataframe."
   ]
  },
  {
   "cell_type": "code",
   "execution_count": 271,
   "id": "cf4030b0-aa7f-4bd7-8e9c-c1b7f4d202d0",
   "metadata": {},
   "outputs": [],
   "source": [
    "#Read in the csv file and convert to a Pandas dataframe\n",
    "football_players_data = pd.read_csv('Data/final_data.csv')"
   ]
  },
  {
   "cell_type": "markdown",
   "id": "ca5ed983-0f72-43eb-8168-6fafd48c562e",
   "metadata": {},
   "source": [
    "### Viewing the dataframe\n",
    "We can get a quick sense of the size of our dataset by using the shape method. This returns a tuple with the number of rows and columns in the dataset."
   ]
  },
  {
   "cell_type": "code",
   "execution_count": 272,
   "id": "bfde0b69-613c-4dd1-8ebf-e4d2e570e653",
   "metadata": {},
   "outputs": [
    {
     "data": {
      "text/html": [
       "\n",
       "        <iframe\n",
       "            width=\"100%\"\n",
       "            height=\"475\"\n",
       "            src=\"http://Raghads-Mac.local:40000/dtale/iframe/10\"\n",
       "            frameborder=\"0\"\n",
       "            allowfullscreen\n",
       "            \n",
       "        ></iframe>\n",
       "        "
      ],
      "text/plain": [
       "<IPython.lib.display.IFrame at 0x305561fd0>"
      ]
     },
     "metadata": {},
     "output_type": "display_data"
    },
    {
     "data": {
      "text/plain": []
     },
     "execution_count": 272,
     "metadata": {},
     "output_type": "execute_result"
    }
   ],
   "source": [
    "dtale.show(football_players_data)\n",
    "\n",
    "# player: This column likely contains a unique identifier for each player, potentially a player ID or a reference code.\n",
    "# team: This indicates the football team that the player is currently a part of.\n",
    "# name: This column contains the full name of the football player.\n",
    "# position: This specifies the player’s position on the field, e.g., forward, midfielder, defender, goalkeeper.\n",
    "# height: The height of the player, usually measured in centimeters or meters. It's represented as a floating-point number.\n",
    "# age: The player's age, typically expressed as the number of years the player has lived.\n",
    "# appearance: The number of appearances (games) the player has made for their team during a given season or period.\n",
    "# goals: The total number of goals scored by the player during the specified period.\n",
    "# assists: The total number of assists (when a player helps another player score a goal) the player has made.\n",
    "# yellow cards: The total number of yellow cards the player has received during their matches, indicating a warning for unsporting behavior.\n",
    "# second yellow cards: This likely represents the number of second yellow cards the player has received in a match, which typically leads to a red card and ejection from the game.\n",
    "# red cards: The total number of red cards the player has received, indicating a serious offense resulting in the player’s ejection from the game.\n",
    "# goals conceded: For goalkeepers, this column likely records the total number of goals their team has conceded while they were on the field.\n",
    "# clean sheets: The number of matches in which the player’s team, particularly the goalkeeper, did not concede any goals.\n",
    "# minutes played: The total number of minutes the player has been on the field during matches.\n",
    "# days_injured: The total number of days the player has been injured and unavailable to play.\n",
    "# games_injured: The number of games the player missed due to injury.\n",
    "# award: This could represent whether the player has won any awards (e.g., Player of the Match) or a score representing their individual accolades.\n",
    "# current_value: The current market value of the player, often in their respective currency in EUR, representing the estimated transfer fee or worth.\n",
    "# highest_value: The highest market value the player has reached in the past, showing their peak worth.\n",
    "# position_encoded: This is likely a numerical encoding of the player’s position, used for machine learning or statistical modeling, where each position is assigned a unique integer.Goalkeeper – 1, Defender – 2, midfield – 3, Attack - 4\n",
    "# winger: A binary column (1 or 0), possibly indicating whether the player is a winger (1 = yes, 0 = no)."
   ]
  },
  {
   "cell_type": "markdown",
   "id": "bd2b5bc4-db37-4432-b666-0714afd0c4ca",
   "metadata": {},
   "source": [
    "## 1. Data Profiling:\n",
    "Data profiling is a comprehensive process of examining the data available in an existing dataset and collecting statistics and information about that data. "
   ]
  },
  {
   "cell_type": "code",
   "execution_count": 273,
   "id": "672f2081-5a2c-4908-8cbd-29519fb3cac5",
   "metadata": {},
   "outputs": [
    {
     "data": {
      "text/plain": [
       "(10754, 22)"
      ]
     },
     "execution_count": 273,
     "metadata": {},
     "output_type": "execute_result"
    }
   ],
   "source": [
    "football_players_data.shape"
   ]
  },
  {
   "cell_type": "code",
   "execution_count": 274,
   "id": "eb0eaee6",
   "metadata": {},
   "outputs": [
    {
     "data": {
      "text/plain": [
       "Index(['player', 'team', 'name', 'position', 'height', 'age', 'appearance',\n",
       "       'goals', 'assists', 'yellow cards', 'second yellow cards', 'red cards',\n",
       "       'goals conceded', 'clean sheets', 'minutes played', 'days_injured',\n",
       "       'games_injured', 'award', 'current_value', 'highest_value',\n",
       "       'position_encoded', 'winger'],\n",
       "      dtype='object')"
      ]
     },
     "execution_count": 274,
     "metadata": {},
     "output_type": "execute_result"
    }
   ],
   "source": [
    "football_players_data.columns"
   ]
  },
  {
   "cell_type": "markdown",
   "id": "834929aa-fd6a-4ec5-84d4-77c4b3c1a506",
   "metadata": {},
   "source": [
    "The process of profiling differs slightly for categorical and numerical variables due to their inherent differences.\n",
    "\n",
    "**The two main types of data are:**\n",
    "- Quantitative (numerical) data\n",
    "- Qualitative (categorical) data"
   ]
  },
  {
   "cell_type": "markdown",
   "id": "3a9954f5-6fbc-45b4-ad86-3e21b6e0ca2d",
   "metadata": {},
   "source": [
    "### Data Quality Checks\n",
    "Data quality checks involve the process of ensuring that the data is accurate, complete, consistent, relevant, and reliable. \n",
    "\n",
    "\n",
    "**Here are typical steps involved in checking data quality:**"
   ]
  },
  {
   "cell_type": "markdown",
   "id": "4818c876-173d-4e56-9e7d-b4334d2def25",
   "metadata": {},
   "source": [
    "#### 1. Reliability:\n",
    "Evaluate the data's source and collection process to determine its trustworthiness."
   ]
  },
  {
   "cell_type": "code",
   "execution_count": 124,
   "id": "9034ae7b-dc1d-4cba-8f9e-bb499d021cde",
   "metadata": {},
   "outputs": [],
   "source": [
    "# The data source is frome Keggle So I will trust the data source"
   ]
  },
  {
   "cell_type": "markdown",
   "id": "2ce0cc59-8c92-4acc-8d07-c40764e1a86b",
   "metadata": {},
   "source": [
    "#### 2. Timeliness: \n",
    "Ensure the data is up-to-date and reflective of the current situation or the period of interest for the analysis."
   ]
  },
  {
   "cell_type": "code",
   "execution_count": 125,
   "id": "4b78ae35-7226-4cb6-b8b2-a46c2ed17cf9",
   "metadata": {},
   "outputs": [],
   "source": [
    "# The Data from 2022 and 2023 And The Time period thet i wiil work with is 2022 to 2023"
   ]
  },
  {
   "cell_type": "markdown",
   "id": "7fab0fe2-6624-4615-b9d8-3c3669056bf8",
   "metadata": {},
   "source": [
    "#### 3. Consistency: \n",
    "\n",
    "Confirm that the data is consistent within the dataset and across multiple data sources. For example, the same data point should not have different values in different places.\n"
   ]
  },
  {
   "cell_type": "code",
   "execution_count": 126,
   "id": "7fecc573-959f-4800-8ddd-a67985c68b18",
   "metadata": {},
   "outputs": [],
   "source": [
    "# The data is one and The Same format"
   ]
  },
  {
   "cell_type": "markdown",
   "id": "bec3d183-bba0-4b12-b963-487daab1e876",
   "metadata": {},
   "source": [
    "#### 4. Relevance: \n",
    "Assess whether the data is appropriate and applicable for the intended analysis. Data that is not relevant can skew results and lead to incorrect conclusions.\n",
    "\n",
    "**Key considerations for relevance include:**\n",
    "\n",
    "> 1. Sample Appropriateness: Confirm that your data sample aligns with your analysis objectives. For instance, utilizing data from the Northern region will not yield accurate insights for the Western region of the Kingdom.\n",
    ">\n",
    "> 2. Variable Selection: Any column will not be relevant for our analysis, we can get rid of these using the drop() method. We will set the “axis” argument to 1 since we’re dealing with columns, and set the “inplace” argument to True to make the change permanent.\n"
   ]
  },
  {
   "cell_type": "code",
   "execution_count": 127,
   "id": "50a934b7-a0cd-443f-8a27-f10e9a6e8647",
   "metadata": {
    "scrolled": true
   },
   "outputs": [],
   "source": [
    "# Sample: data sample aligns with My analysis objectives.\n",
    "#Variable Selection: I drop colume player"
   ]
  },
  {
   "cell_type": "markdown",
   "id": "0f5e3a2a-bbb7-4d06-8220-c93277b70146",
   "metadata": {},
   "source": [
    "#### 5. Uniqueness: \n",
    "Check for and remove duplicate records to prevent skewed analysis results.\n"
   ]
  },
  {
   "cell_type": "code",
   "execution_count": 279,
   "id": "a509a7aa-58f4-4d39-8eb8-e8298a21f2a7",
   "metadata": {},
   "outputs": [
    {
     "data": {
      "text/plain": [
       "0"
      ]
     },
     "execution_count": 279,
     "metadata": {},
     "output_type": "execute_result"
    }
   ],
   "source": [
    "football_players_data.duplicated().sum()"
   ]
  },
  {
   "cell_type": "code",
   "execution_count": 280,
   "id": "4a25b7d3",
   "metadata": {},
   "outputs": [
    {
     "data": {
      "text/plain": [
       "170"
      ]
     },
     "execution_count": 280,
     "metadata": {},
     "output_type": "execute_result"
    }
   ],
   "source": [
    "football_players_data['name'].duplicated().sum()"
   ]
  },
  {
   "cell_type": "code",
   "execution_count": 281,
   "id": "78999c4e",
   "metadata": {},
   "outputs": [
    {
     "data": {
      "text/html": [
       "\n",
       "        <iframe\n",
       "            width=\"100%\"\n",
       "            height=\"475\"\n",
       "            src=\"http://Raghads-Mac.local:40000/dtale/iframe/11\"\n",
       "            frameborder=\"0\"\n",
       "            allowfullscreen\n",
       "            \n",
       "        ></iframe>\n",
       "        "
      ],
      "text/plain": [
       "<IPython.lib.display.IFrame at 0x30557f910>"
      ]
     },
     "metadata": {},
     "output_type": "display_data"
    },
    {
     "data": {
      "text/plain": []
     },
     "execution_count": 281,
     "metadata": {},
     "output_type": "execute_result"
    }
   ],
   "source": [
    "dtale.show(football_players_data[football_players_data['name'].duplicated(keep=False)])\n",
    "# Diffteint playrs with the same name"
   ]
  },
  {
   "cell_type": "code",
   "execution_count": 126,
   "id": "04c62559-3b48-48cf-a4e9-857e2e0ff416",
   "metadata": {},
   "outputs": [],
   "source": [
    "# go to delete duplicates columns"
   ]
  },
  {
   "cell_type": "markdown",
   "id": "c7724ac2-4ea2-4cf4-a9e0-e64368f87b92",
   "metadata": {},
   "source": [
    "#### 6. Completeness: \n",
    "Ensure that no critical data is missing. This might mean checking for null values or required fields that are empty.\n",
    "\n",
    "We will start by checking the dataset for missing or null values. For this, we can use the isna() method which returns a dataframe of boolean values indicating if a field is null or not. To group all missing values by column, we can include the sum() method."
   ]
  },
  {
   "cell_type": "code",
   "execution_count": 282,
   "id": "48a4de54-a344-4b94-9908-9528c15c13f7",
   "metadata": {},
   "outputs": [
    {
     "data": {
      "text/plain": [
       "team                     0\n",
       "name                     0\n",
       "position                 0\n",
       "height                   0\n",
       "age                      0\n",
       "appearance               0\n",
       "goals                    0\n",
       "assists                  0\n",
       "yellow cards             0\n",
       "second yellow cards      0\n",
       "red cards                0\n",
       "goals conceded           0\n",
       "clean sheets             0\n",
       "minutes played           0\n",
       "days_injured             0\n",
       "games_injured            0\n",
       "award                    0\n",
       "current_value            0\n",
       "highest_value            0\n",
       "position_encoded         0\n",
       "winger                   0\n",
       "total_red_cards          0\n",
       "current_value_million    0\n",
       "dtype: int64"
      ]
     },
     "execution_count": 282,
     "metadata": {},
     "output_type": "execute_result"
    }
   ],
   "source": [
    "#Display number missing values per column\n",
    "football_players_data.isnull().sum()"
   ]
  },
  {
   "cell_type": "code",
   "execution_count": 283,
   "id": "fa7bf8a4",
   "metadata": {},
   "outputs": [
    {
     "data": {
      "text/plain": [
       "team                     10754\n",
       "name                     10754\n",
       "position                 10754\n",
       "height                   10754\n",
       "age                      10754\n",
       "appearance               10754\n",
       "goals                    10754\n",
       "assists                  10754\n",
       "yellow cards             10754\n",
       "second yellow cards      10754\n",
       "red cards                10754\n",
       "goals conceded           10754\n",
       "clean sheets             10754\n",
       "minutes played           10754\n",
       "days_injured             10754\n",
       "games_injured            10754\n",
       "award                    10754\n",
       "current_value            10754\n",
       "highest_value            10754\n",
       "position_encoded         10754\n",
       "winger                   10754\n",
       "total_red_cards          10754\n",
       "current_value_million    10754\n",
       "dtype: int64"
      ]
     },
     "execution_count": 283,
     "metadata": {},
     "output_type": "execute_result"
    }
   ],
   "source": [
    "wrong_input = (football_players_data.notna()) & (football_players_data != '-') & (football_players_data != ' ')\n",
    "wrong_input.sum(axis=0)\n",
    "#All data are complete"
   ]
  },
  {
   "cell_type": "code",
   "execution_count": 129,
   "id": "abec31c4-0904-4b73-8cee-b7bc14ab1e67",
   "metadata": {},
   "outputs": [],
   "source": [
    "# go to clean them "
   ]
  },
  {
   "cell_type": "markdown",
   "id": "b40de63c-5a1d-49ed-a87e-c5229ee08bbe",
   "metadata": {},
   "source": [
    "#### 7. Check Accuracy:\n",
    "\n",
    "Verify that the data is correct and precise. This could involve comparing data samples with known sources or using validation rules.\n",
    "\n",
    "**The process includes:**\n",
    "1. Validating the appropriateness of data types for the dataset.\n",
    "2. Identifying outliers  using established validation  rule"
   ]
  },
  {
   "cell_type": "code",
   "execution_count": 284,
   "id": "68be5334-ae10-4abd-8097-3259fe5e72c8",
   "metadata": {},
   "outputs": [
    {
     "name": "stdout",
     "output_type": "stream",
     "text": [
      "<class 'pandas.core.frame.DataFrame'>\n",
      "RangeIndex: 10754 entries, 0 to 10753\n",
      "Data columns (total 23 columns):\n",
      " #   Column                 Non-Null Count  Dtype  \n",
      "---  ------                 --------------  -----  \n",
      " 0   team                   10754 non-null  object \n",
      " 1   name                   10754 non-null  object \n",
      " 2   position               10754 non-null  object \n",
      " 3   height                 10754 non-null  float64\n",
      " 4   age                    10754 non-null  float64\n",
      " 5   appearance             10754 non-null  int64  \n",
      " 6   goals                  10754 non-null  float64\n",
      " 7   assists                10754 non-null  float64\n",
      " 8   yellow cards           10754 non-null  float64\n",
      " 9   second yellow cards    10754 non-null  float64\n",
      " 10  red cards              10754 non-null  float64\n",
      " 11  goals conceded         10754 non-null  float64\n",
      " 12  clean sheets           10754 non-null  float64\n",
      " 13  minutes played         10754 non-null  int64  \n",
      " 14  days_injured           10754 non-null  int64  \n",
      " 15  games_injured          10754 non-null  int64  \n",
      " 16  award                  10754 non-null  int64  \n",
      " 17  current_value          10754 non-null  int64  \n",
      " 18  highest_value          10754 non-null  int64  \n",
      " 19  position_encoded       10754 non-null  int64  \n",
      " 20  winger                 10754 non-null  int64  \n",
      " 21  total_red_cards        10754 non-null  float64\n",
      " 22  current_value_million  10754 non-null  float64\n",
      "dtypes: float64(11), int64(9), object(3)\n",
      "memory usage: 1.9+ MB\n"
     ]
    }
   ],
   "source": [
    "# check columns types \n",
    "football_players_data.info()"
   ]
  },
  {
   "cell_type": "markdown",
   "id": "9f6ab62a",
   "metadata": {},
   "source": [
    "For  \"goals,\" \"assists,\" \"yellow cards,\" \"second yellow cards,\" \"red cards,\" \"goals conceded,\" and \"clean sheets the data source transformed to a per 90 minutes basis. This transformation involved dividing each statistical value by the corresponding per 90 value (calculated as minutes played divided by 90). That why there are in floate not int"
   ]
  },
  {
   "cell_type": "code",
   "execution_count": 134,
   "id": "8081663a",
   "metadata": {},
   "outputs": [],
   "source": [
    "# i wiil add second yellow cards to red cards seince thay are the same mining and add new coulme total_red_cards"
   ]
  },
  {
   "cell_type": "code",
   "execution_count": 285,
   "id": "aad4dd78",
   "metadata": {},
   "outputs": [
    {
     "data": {
      "text/plain": [
       "Index(['team', 'name', 'position', 'height', 'age', 'appearance', 'goals',\n",
       "       'assists', 'yellow cards', 'second yellow cards', 'red cards',\n",
       "       'goals conceded', 'clean sheets', 'minutes played', 'days_injured',\n",
       "       'games_injured', 'award', 'current_value', 'highest_value',\n",
       "       'position_encoded', 'winger', 'total_red_cards',\n",
       "       'current_value_million'],\n",
       "      dtype='object')"
      ]
     },
     "execution_count": 285,
     "metadata": {},
     "output_type": "execute_result"
    }
   ],
   "source": [
    "football_players_data.columns"
   ]
  },
  {
   "cell_type": "code",
   "execution_count": 286,
   "id": "b22e9f1e",
   "metadata": {},
   "outputs": [
    {
     "name": "stdout",
     "output_type": "stream",
     "text": [
      "<class 'pandas.core.frame.DataFrame'>\n",
      "RangeIndex: 10754 entries, 0 to 10753\n",
      "Data columns (total 23 columns):\n",
      " #   Column                 Non-Null Count  Dtype  \n",
      "---  ------                 --------------  -----  \n",
      " 0   team                   10754 non-null  object \n",
      " 1   name                   10754 non-null  object \n",
      " 2   position               10754 non-null  object \n",
      " 3   height                 10754 non-null  float64\n",
      " 4   age                    10754 non-null  float64\n",
      " 5   appearance             10754 non-null  int64  \n",
      " 6   goals                  10754 non-null  float64\n",
      " 7   assists                10754 non-null  float64\n",
      " 8   yellow cards           10754 non-null  float64\n",
      " 9   second yellow cards    10754 non-null  float64\n",
      " 10  red cards              10754 non-null  float64\n",
      " 11  goals conceded         10754 non-null  float64\n",
      " 12  clean sheets           10754 non-null  float64\n",
      " 13  minutes played         10754 non-null  int64  \n",
      " 14  days_injured           10754 non-null  int64  \n",
      " 15  games_injured          10754 non-null  int64  \n",
      " 16  award                  10754 non-null  int64  \n",
      " 17  current_value          10754 non-null  int64  \n",
      " 18  highest_value          10754 non-null  int64  \n",
      " 19  position_encoded       10754 non-null  int64  \n",
      " 20  winger                 10754 non-null  int64  \n",
      " 21  total_red_cards        10754 non-null  float64\n",
      " 22  current_value_million  10754 non-null  float64\n",
      "dtypes: float64(11), int64(9), object(3)\n",
      "memory usage: 1.9+ MB\n"
     ]
    }
   ],
   "source": [
    "football_players_data.info()"
   ]
  },
  {
   "cell_type": "code",
   "execution_count": 134,
   "id": "2ee790ba-dcc0-45f1-b6f8-0133e913e149",
   "metadata": {},
   "outputs": [],
   "source": [
    "# go to clean them "
   ]
  },
  {
   "cell_type": "code",
   "execution_count": 135,
   "id": "c69b303a-5459-45f9-a28e-fcee45c21c05",
   "metadata": {},
   "outputs": [],
   "source": [
    "# check outliers "
   ]
  },
  {
   "cell_type": "code",
   "execution_count": 287,
   "id": "5184df8f",
   "metadata": {},
   "outputs": [
    {
     "data": {
      "text/html": [
       "<div>\n",
       "<style scoped>\n",
       "    .dataframe tbody tr th:only-of-type {\n",
       "        vertical-align: middle;\n",
       "    }\n",
       "\n",
       "    .dataframe tbody tr th {\n",
       "        vertical-align: top;\n",
       "    }\n",
       "\n",
       "    .dataframe thead th {\n",
       "        text-align: right;\n",
       "    }\n",
       "</style>\n",
       "<table border=\"1\" class=\"dataframe\">\n",
       "  <thead>\n",
       "    <tr style=\"text-align: right;\">\n",
       "      <th></th>\n",
       "      <th>count</th>\n",
       "      <th>mean</th>\n",
       "      <th>std</th>\n",
       "      <th>min</th>\n",
       "      <th>25%</th>\n",
       "      <th>50%</th>\n",
       "      <th>75%</th>\n",
       "      <th>max</th>\n",
       "    </tr>\n",
       "  </thead>\n",
       "  <tbody>\n",
       "    <tr>\n",
       "      <th>height</th>\n",
       "      <td>10754.0</td>\n",
       "      <td>1.812404e+02</td>\n",
       "      <td>6.969818e+00</td>\n",
       "      <td>156.0</td>\n",
       "      <td>176.000000</td>\n",
       "      <td>1.812404e+02</td>\n",
       "      <td>1.860000e+02</td>\n",
       "      <td>2.060000e+02</td>\n",
       "    </tr>\n",
       "    <tr>\n",
       "      <th>age</th>\n",
       "      <td>10754.0</td>\n",
       "      <td>2.604190e+01</td>\n",
       "      <td>4.777629e+00</td>\n",
       "      <td>15.0</td>\n",
       "      <td>22.000000</td>\n",
       "      <td>2.600000e+01</td>\n",
       "      <td>2.900000e+01</td>\n",
       "      <td>4.300000e+01</td>\n",
       "    </tr>\n",
       "    <tr>\n",
       "      <th>appearance</th>\n",
       "      <td>10754.0</td>\n",
       "      <td>3.640701e+01</td>\n",
       "      <td>2.652654e+01</td>\n",
       "      <td>0.0</td>\n",
       "      <td>12.000000</td>\n",
       "      <td>3.500000e+01</td>\n",
       "      <td>5.900000e+01</td>\n",
       "      <td>1.070000e+02</td>\n",
       "    </tr>\n",
       "    <tr>\n",
       "      <th>goals</th>\n",
       "      <td>10754.0</td>\n",
       "      <td>1.255543e-01</td>\n",
       "      <td>2.355851e-01</td>\n",
       "      <td>0.0</td>\n",
       "      <td>0.000000</td>\n",
       "      <td>4.596918e-02</td>\n",
       "      <td>1.722625e-01</td>\n",
       "      <td>1.125000e+01</td>\n",
       "    </tr>\n",
       "    <tr>\n",
       "      <th>assists</th>\n",
       "      <td>10754.0</td>\n",
       "      <td>8.697765e-02</td>\n",
       "      <td>1.433513e-01</td>\n",
       "      <td>0.0</td>\n",
       "      <td>0.000000</td>\n",
       "      <td>4.077323e-02</td>\n",
       "      <td>1.331361e-01</td>\n",
       "      <td>4.000000e+00</td>\n",
       "    </tr>\n",
       "    <tr>\n",
       "      <th>yellow cards</th>\n",
       "      <td>10754.0</td>\n",
       "      <td>1.897572e-01</td>\n",
       "      <td>4.323879e-01</td>\n",
       "      <td>0.0</td>\n",
       "      <td>0.053191</td>\n",
       "      <td>1.502504e-01</td>\n",
       "      <td>2.482759e-01</td>\n",
       "      <td>3.000000e+01</td>\n",
       "    </tr>\n",
       "    <tr>\n",
       "      <th>second yellow cards</th>\n",
       "      <td>10754.0</td>\n",
       "      <td>4.665667e-03</td>\n",
       "      <td>2.523200e-02</td>\n",
       "      <td>0.0</td>\n",
       "      <td>0.000000</td>\n",
       "      <td>0.000000e+00</td>\n",
       "      <td>0.000000e+00</td>\n",
       "      <td>1.000000e+00</td>\n",
       "    </tr>\n",
       "    <tr>\n",
       "      <th>red cards</th>\n",
       "      <td>10754.0</td>\n",
       "      <td>6.826070e-03</td>\n",
       "      <td>8.114266e-02</td>\n",
       "      <td>0.0</td>\n",
       "      <td>0.000000</td>\n",
       "      <td>0.000000e+00</td>\n",
       "      <td>0.000000e+00</td>\n",
       "      <td>6.923077e+00</td>\n",
       "    </tr>\n",
       "    <tr>\n",
       "      <th>goals conceded</th>\n",
       "      <td>10754.0</td>\n",
       "      <td>1.316555e-01</td>\n",
       "      <td>4.423355e-01</td>\n",
       "      <td>0.0</td>\n",
       "      <td>0.000000</td>\n",
       "      <td>0.000000e+00</td>\n",
       "      <td>0.000000e+00</td>\n",
       "      <td>9.000000e+00</td>\n",
       "    </tr>\n",
       "    <tr>\n",
       "      <th>clean sheets</th>\n",
       "      <td>10754.0</td>\n",
       "      <td>4.488090e-02</td>\n",
       "      <td>9.244373e-01</td>\n",
       "      <td>0.0</td>\n",
       "      <td>0.000000</td>\n",
       "      <td>0.000000e+00</td>\n",
       "      <td>0.000000e+00</td>\n",
       "      <td>9.000000e+01</td>\n",
       "    </tr>\n",
       "    <tr>\n",
       "      <th>minutes played</th>\n",
       "      <td>10754.0</td>\n",
       "      <td>2.470789e+03</td>\n",
       "      <td>2.021703e+03</td>\n",
       "      <td>0.0</td>\n",
       "      <td>660.000000</td>\n",
       "      <td>2.101500e+03</td>\n",
       "      <td>3.968000e+03</td>\n",
       "      <td>9.510000e+03</td>\n",
       "    </tr>\n",
       "    <tr>\n",
       "      <th>days_injured</th>\n",
       "      <td>10754.0</td>\n",
       "      <td>1.179617e+02</td>\n",
       "      <td>1.752068e+02</td>\n",
       "      <td>0.0</td>\n",
       "      <td>0.000000</td>\n",
       "      <td>3.700000e+01</td>\n",
       "      <td>1.810000e+02</td>\n",
       "      <td>2.349000e+03</td>\n",
       "    </tr>\n",
       "    <tr>\n",
       "      <th>games_injured</th>\n",
       "      <td>10754.0</td>\n",
       "      <td>1.582630e+01</td>\n",
       "      <td>2.338361e+01</td>\n",
       "      <td>0.0</td>\n",
       "      <td>0.000000</td>\n",
       "      <td>5.000000e+00</td>\n",
       "      <td>2.400000e+01</td>\n",
       "      <td>3.390000e+02</td>\n",
       "    </tr>\n",
       "    <tr>\n",
       "      <th>award</th>\n",
       "      <td>10754.0</td>\n",
       "      <td>1.960759e+00</td>\n",
       "      <td>3.743936e+00</td>\n",
       "      <td>0.0</td>\n",
       "      <td>0.000000</td>\n",
       "      <td>1.000000e+00</td>\n",
       "      <td>2.000000e+00</td>\n",
       "      <td>9.200000e+01</td>\n",
       "    </tr>\n",
       "    <tr>\n",
       "      <th>current_value</th>\n",
       "      <td>10754.0</td>\n",
       "      <td>3.622971e+06</td>\n",
       "      <td>9.095410e+06</td>\n",
       "      <td>0.0</td>\n",
       "      <td>300000.000000</td>\n",
       "      <td>8.000000e+05</td>\n",
       "      <td>3.000000e+06</td>\n",
       "      <td>1.800000e+08</td>\n",
       "    </tr>\n",
       "    <tr>\n",
       "      <th>highest_value</th>\n",
       "      <td>10754.0</td>\n",
       "      <td>6.152606e+06</td>\n",
       "      <td>1.338988e+07</td>\n",
       "      <td>0.0</td>\n",
       "      <td>450000.000000</td>\n",
       "      <td>1.500000e+06</td>\n",
       "      <td>5.000000e+06</td>\n",
       "      <td>2.000000e+08</td>\n",
       "    </tr>\n",
       "    <tr>\n",
       "      <th>position_encoded</th>\n",
       "      <td>10754.0</td>\n",
       "      <td>2.713223e+00</td>\n",
       "      <td>9.863563e-01</td>\n",
       "      <td>1.0</td>\n",
       "      <td>2.000000</td>\n",
       "      <td>3.000000e+00</td>\n",
       "      <td>4.000000e+00</td>\n",
       "      <td>4.000000e+00</td>\n",
       "    </tr>\n",
       "    <tr>\n",
       "      <th>winger</th>\n",
       "      <td>10754.0</td>\n",
       "      <td>3.075135e-01</td>\n",
       "      <td>4.614854e-01</td>\n",
       "      <td>0.0</td>\n",
       "      <td>0.000000</td>\n",
       "      <td>0.000000e+00</td>\n",
       "      <td>1.000000e+00</td>\n",
       "      <td>1.000000e+00</td>\n",
       "    </tr>\n",
       "    <tr>\n",
       "      <th>total_red_cards</th>\n",
       "      <td>10754.0</td>\n",
       "      <td>1.149174e-02</td>\n",
       "      <td>8.491345e-02</td>\n",
       "      <td>0.0</td>\n",
       "      <td>0.000000</td>\n",
       "      <td>0.000000e+00</td>\n",
       "      <td>0.000000e+00</td>\n",
       "      <td>6.923077e+00</td>\n",
       "    </tr>\n",
       "    <tr>\n",
       "      <th>current_value_million</th>\n",
       "      <td>10754.0</td>\n",
       "      <td>3.622971e+00</td>\n",
       "      <td>9.095410e+00</td>\n",
       "      <td>0.0</td>\n",
       "      <td>0.300000</td>\n",
       "      <td>8.000000e-01</td>\n",
       "      <td>3.000000e+00</td>\n",
       "      <td>1.800000e+02</td>\n",
       "    </tr>\n",
       "  </tbody>\n",
       "</table>\n",
       "</div>"
      ],
      "text/plain": [
       "                         count          mean           std    min  \\\n",
       "height                 10754.0  1.812404e+02  6.969818e+00  156.0   \n",
       "age                    10754.0  2.604190e+01  4.777629e+00   15.0   \n",
       "appearance             10754.0  3.640701e+01  2.652654e+01    0.0   \n",
       "goals                  10754.0  1.255543e-01  2.355851e-01    0.0   \n",
       "assists                10754.0  8.697765e-02  1.433513e-01    0.0   \n",
       "yellow cards           10754.0  1.897572e-01  4.323879e-01    0.0   \n",
       "second yellow cards    10754.0  4.665667e-03  2.523200e-02    0.0   \n",
       "red cards              10754.0  6.826070e-03  8.114266e-02    0.0   \n",
       "goals conceded         10754.0  1.316555e-01  4.423355e-01    0.0   \n",
       "clean sheets           10754.0  4.488090e-02  9.244373e-01    0.0   \n",
       "minutes played         10754.0  2.470789e+03  2.021703e+03    0.0   \n",
       "days_injured           10754.0  1.179617e+02  1.752068e+02    0.0   \n",
       "games_injured          10754.0  1.582630e+01  2.338361e+01    0.0   \n",
       "award                  10754.0  1.960759e+00  3.743936e+00    0.0   \n",
       "current_value          10754.0  3.622971e+06  9.095410e+06    0.0   \n",
       "highest_value          10754.0  6.152606e+06  1.338988e+07    0.0   \n",
       "position_encoded       10754.0  2.713223e+00  9.863563e-01    1.0   \n",
       "winger                 10754.0  3.075135e-01  4.614854e-01    0.0   \n",
       "total_red_cards        10754.0  1.149174e-02  8.491345e-02    0.0   \n",
       "current_value_million  10754.0  3.622971e+00  9.095410e+00    0.0   \n",
       "\n",
       "                                 25%           50%           75%           max  \n",
       "height                    176.000000  1.812404e+02  1.860000e+02  2.060000e+02  \n",
       "age                        22.000000  2.600000e+01  2.900000e+01  4.300000e+01  \n",
       "appearance                 12.000000  3.500000e+01  5.900000e+01  1.070000e+02  \n",
       "goals                       0.000000  4.596918e-02  1.722625e-01  1.125000e+01  \n",
       "assists                     0.000000  4.077323e-02  1.331361e-01  4.000000e+00  \n",
       "yellow cards                0.053191  1.502504e-01  2.482759e-01  3.000000e+01  \n",
       "second yellow cards         0.000000  0.000000e+00  0.000000e+00  1.000000e+00  \n",
       "red cards                   0.000000  0.000000e+00  0.000000e+00  6.923077e+00  \n",
       "goals conceded              0.000000  0.000000e+00  0.000000e+00  9.000000e+00  \n",
       "clean sheets                0.000000  0.000000e+00  0.000000e+00  9.000000e+01  \n",
       "minutes played            660.000000  2.101500e+03  3.968000e+03  9.510000e+03  \n",
       "days_injured                0.000000  3.700000e+01  1.810000e+02  2.349000e+03  \n",
       "games_injured               0.000000  5.000000e+00  2.400000e+01  3.390000e+02  \n",
       "award                       0.000000  1.000000e+00  2.000000e+00  9.200000e+01  \n",
       "current_value          300000.000000  8.000000e+05  3.000000e+06  1.800000e+08  \n",
       "highest_value          450000.000000  1.500000e+06  5.000000e+06  2.000000e+08  \n",
       "position_encoded            2.000000  3.000000e+00  4.000000e+00  4.000000e+00  \n",
       "winger                      0.000000  0.000000e+00  1.000000e+00  1.000000e+00  \n",
       "total_red_cards             0.000000  0.000000e+00  0.000000e+00  6.923077e+00  \n",
       "current_value_million       0.300000  8.000000e-01  3.000000e+00  1.800000e+02  "
      ]
     },
     "execution_count": 287,
     "metadata": {},
     "output_type": "execute_result"
    }
   ],
   "source": [
    "football_players_data.describe().T"
   ]
  },
  {
   "cell_type": "markdown",
   "id": "73f019df",
   "metadata": {},
   "source": [
    "### check oitliers on current_value"
   ]
  },
  {
   "cell_type": "code",
   "execution_count": 288,
   "id": "564abd48",
   "metadata": {},
   "outputs": [
    {
     "data": {
      "image/png": "[encoded data removed]",
      "text/plain": [
       "<Figure size 1000x600 with 1 Axes>"
      ]
     },
     "metadata": {},
     "output_type": "display_data"
    }
   ],
   "source": [
    "# Plot the distribution of market value in millions\n",
    "plt.figure(figsize=(10, 6))\n",
    "sns.histplot(football_players_data['current_value_million'], kde=True, bins=20)\n",
    "plt.title('Distribution of Player Market Value (in Millions)')\n",
    "plt.xlabel('Market Value (in Millions)')\n",
    "plt.ylabel('Frequency')\n",
    "plt.show()\n"
   ]
  },
  {
   "cell_type": "markdown",
   "id": "4aca9d42-add6-45db-92cf-1f6dae5f277b",
   "metadata": {},
   "source": [
    "**What is an Outlier?** \n",
    "Outlier is an row/observation that appears far away and diverges from an overall pattern in a sample.\n",
    "\n",
    "**What are the types of Outliers?**\n",
    "1. Univariate: These outliers can be found when we look at distribution of a single variable\n",
    "2. Multivariate: are outliers in an n-dimensional space. In order to find them, you have to look at distributions in multi-dimensions. example (hight=100, weight=100) for a person\n",
    "\n",
    "**What causes Outliers?**\n",
    "Whenever we come across outliers, the ideal way to tackle them is to find out the reason of having these outliers. The method to deal with them would then depend on the reason of their occurrence.\n",
    "\n",
    "Let’s understand various types of outliers:\n",
    "\n",
    "1. Data Entry Errors:- Human errors such as errors caused during data collection, recording, or entry can cause outliers in data.\n",
    "2. Measurement Error: It is the most common source of outliers. This is caused when the measurement instrument used turns out to be faulty.\n",
    "3. Data Processing Error: Whenever we perform data mining, we extract data from multiple sources. It is possible that some manipulation or extraction errors may lead to outliers in the dataset.\n",
    "4. Sampling error: For instance, we have to measure the height of athletes. By mistake, we include a few basketball players in the sample. This inclusion is likely to cause outliers in the dataset.\n",
    "5. Natural Outlier: When an outlier is not artificial (due to error), it is a natural outlier. For instance: In my last assignment with one of the renowned insurance company, I noticed that the performance of top 50 financial advisors was far higher than rest of the population. Surprisingly, it was not due to any error. Hence, whenever we perform any data mining activity with advisors, we used to treat this segment separately.\n",
    "\n",
    "\n",
    "**What is the impact of Outliers on a dataset?**\n",
    "\n",
    "\n",
    "![image.png](https://www.analyticsvidhya.com/wp-content/uploads/2015/02/Outlier_31.png)\n",
    "\n",
    "\n",
    "\n",
    "**How to detect Outliers?**\n",
    "\n",
    "1. Most commonly used method to detect outliers is visualization (Univariate Graphical Analysis).\n",
    "\n",
    "We use 3 common visualization methods:\n",
    ">- Box-plot: A box plot is a method for graphically depicting groups of numerical data through their quartiles. The box extends from the Q1 to Q3 quartile values of the data, with a line at the median (Q2). The whiskers extend from the edges of the box to show the range of the data. Outlier points are those past the end of the whiskers. Box plots show robust measures of location and spread as well as providing information about symmetry and outliers.\n",
    ">\n",
    ">  \n",
    ">![image.png](https://miro.medium.com/v2/resize:fit:698/format:webp/1*VK5iHA2AB28HSZwWwUbNYg.png)\n",
    ">\n",
    ">\n",
    ">- Histogram\n",
    ">- Scatter Plot: A scatter plot is a mathematical diagram using Cartesian coordinates to display values for two variables for a set of data. The data are displayed as a collection of points, each having the value of one variable determining the position on the horizontal axis and the value of the other variable determining the position on the vertical axis. The points that are far from the population can be termed as an outlier.\n",
    ">\n",
    ">  \n",
    ">![image.png](https://miro.medium.com/v2/resize:fit:4800/format:webp/1*Ov6aH-8yIwNoUxtMFwgx4g.png)\n",
    ">\n",
    ">\n",
    "\n",
    "2. Using statistical method (Univariate Non-Graphical analysis):\n",
    ">- Any value, which is beyond the range of -1.5 x IQR to 1.5 x IQR\n",
    " \n",
    "![image.png](https://www.whatissixsigma.net/wp-content/uploads/2015/07/Box-Plot-Diagram-to-identify-Outliers-figure-1.png)\n",
    "\n",
    ">- Use capping methods. Any value which out of range of 5th and 95th percentile can be considered as outlier\n",
    ">- Data points, three or more standard deviation away from mean are considered outlier: The Z-score is the signed number of standard deviations by which the value of an observation or data point is above the mean value of what is being observed or measured. While calculating the Z-score we re-scale and center the data and look for data points that are too far from zero. These data points which are way too far from zero will be treated as the outliers. In most of the cases, a threshold of 3 or -3 is used i.e if the Z-score value is greater than or less than 3 or -3 respectively, that data point will be identified as outliers.\n",
    "> - Outlier detection is merely a special case of the examination of data for influential data points and it also depends on the business understanding\n"
   ]
  },
  {
   "cell_type": "code",
   "execution_count": 137,
   "id": "74ea6194-cc01-45d8-be38-c4543eb1714e",
   "metadata": {},
   "outputs": [],
   "source": [
    "# go to univariate graphical analysis\n",
    "# go to lesson : data visualisation 1 - chart type section\n",
    "# then go to univariate graphical analysis\n",
    "# detect outliers using graphs varbaly"
   ]
  },
  {
   "cell_type": "code",
   "execution_count": 138,
   "id": "48ecf77b-480c-4f64-9485-95be805bc357",
   "metadata": {},
   "outputs": [],
   "source": [
    "# go to lesson: statistics 1 then statistics 3\n",
    "# then go to univariate Non graphical analysis\n",
    "# detect outliers using numerical statistics "
   ]
  },
  {
   "cell_type": "code",
   "execution_count": null,
   "id": "ee200da8-62b0-492d-b118-f4d665a1fb16",
   "metadata": {},
   "outputs": [],
   "source": []
  },
  {
   "cell_type": "code",
   "execution_count": 139,
   "id": "4e66d611-6958-4860-8522-9ada7fce40b0",
   "metadata": {},
   "outputs": [],
   "source": [
    "# go to delete ouliers"
   ]
  },
  {
   "attachments": {},
   "cell_type": "markdown",
   "id": "4e886ec7-388c-414b-ada7-803c2fb1f2cb",
   "metadata": {},
   "source": [
    "## 2. Data Cleaning: \n",
    "\n",
    "Preliminary findings from data profiling can lead to cleaning the data by:\n",
    "- Handling missing values\n",
    "- Correcting errors.\n",
    "- Dealing with outliers.\n",
    "\n",
    "-------------------\n",
    "\n"
   ]
  },
  {
   "cell_type": "markdown",
   "id": "21876b48-f5ec-4970-85a9-0520d45d8841",
   "metadata": {},
   "source": [
    "### Handling missing values:"
   ]
  },
  {
   "cell_type": "markdown",
   "id": "c890d5a2-2a65-4090-9427-f89c0f011d3f",
   "metadata": {},
   "source": [
    "**Why my data has missing values?**\n",
    "They may occur at two stages:\n",
    "1. Data Extraction: It is possible that there are problems with extraction process. Errors at data extraction stage are typically easy to find and can be corrected easily as well.\n",
    "2. Data collection: These errors occur at time of data collection and are harder to correct.\n",
    "\n",
    "**Why do we need to handle the missing data?**\n",
    "To avoid:\n",
    "- Bias the conclusions.\n",
    "- Leading the business to make wrong decisions.\n",
    "\n",
    "**Which are the methods to treat missing values ?**\n",
    "1. Deletion: we delete rows where any of the variable is missing. Simplicity is one of the major advantage of this method, but this method reduces the power of model because it reduces the sample size.\n",
    "\n",
    "2. Imputation: is a method to fill in the missing values with estimated ones. This imputation is one of the most frequently used methods.\n",
    "\n",
    "    2.1. Mean/ Mode/ Median Imputation: It consists of replacing the missing data for a given attribute by the mean or median (quantitative attribute) or mode (qualitative attribute) of all known values of that variable.\n",
    "    > It can be of two types:\n",
    "    > - Generalized Imputation: In this case, we calculate the mean or median for all non missing values of that variable then replace missing value with mean or median.\n",
    "    > - Similar case Imputation: In this case, we calculate average for each group individually of non missing values then replace the missing value based on the group.\n",
    "\n",
    "    2.2. Constant Value\n",
    "   \n",
    "    2.3. Forward Filling\n",
    "   \n",
    "    2.4. Backward Filling\n",
    "\n",
    "6. Prediction Model:  Prediction model is one of the sophisticated method for handling missing data. Here, we create a predictive model to estimate values that will substitute the missing data.  In this case, we divide our data set into two sets: One set with no missing values for the variable and another one with missing values. First data set become training data set of the model while second data set with missing values is test data set and variable with missing values is treated as target variable. Next, we create a model to predict target variable based on other attributes of the training data set and populate missing values of test data set.\n",
    "\n",
    "> There are 2 drawbacks for this approach:\n",
    "> - The model estimated values are usually more well-behaved than the true values\n",
    "> - If there are no relationships with attributes in the data set and the attribute with missing values, then the model will not be precise for estimating missing values.\n",
    "\n",
    "9. KNN Imputation: In this method of imputation, the missing values of an attribute are imputed using the given number of attributes that are most similar to the attribute whose values are missing. The similarity of two attributes is determined using a distance function. It is also known to have certain advantage & disadvantages.\n",
    "\n",
    "   > **Advantages:**\n",
    "   > - k-nearest neighbour can predict both qualitative & quantitative attributes\n",
    "   > - Creation of predictive model for each attribute with missing data is not required\n",
    "   > - Attributes with multiple missing values can be easily treated\n",
    "   > - Correlation structure of the data is taken into consideration\n",
    "\n",
    "   > **Disadvantage:**\n",
    "   > - KNN algorithm is very time-consuming in analyzing large database. It searches through all the dataset looking for the most similar instances.\n",
    "   > - Choice of k-value is very critical. Higher value of k would include attributes which are significantly different from what we need whereas lower value of k implies missing out of significant attributes.\n",
    "\n",
    "--------------------\n"
   ]
  },
  {
   "cell_type": "code",
   "execution_count": 275,
   "id": "c0a7afdd",
   "metadata": {},
   "outputs": [
    {
     "data": {
      "text/html": [
       "<div>\n",
       "<style scoped>\n",
       "    .dataframe tbody tr th:only-of-type {\n",
       "        vertical-align: middle;\n",
       "    }\n",
       "\n",
       "    .dataframe tbody tr th {\n",
       "        vertical-align: top;\n",
       "    }\n",
       "\n",
       "    .dataframe thead th {\n",
       "        text-align: right;\n",
       "    }\n",
       "</style>\n",
       "<table border=\"1\" class=\"dataframe\">\n",
       "  <thead>\n",
       "    <tr style=\"text-align: right;\">\n",
       "      <th></th>\n",
       "      <th>player</th>\n",
       "      <th>team</th>\n",
       "      <th>name</th>\n",
       "      <th>position</th>\n",
       "      <th>height</th>\n",
       "      <th>age</th>\n",
       "      <th>appearance</th>\n",
       "      <th>goals</th>\n",
       "      <th>assists</th>\n",
       "      <th>yellow cards</th>\n",
       "      <th>...</th>\n",
       "      <th>goals conceded</th>\n",
       "      <th>clean sheets</th>\n",
       "      <th>minutes played</th>\n",
       "      <th>days_injured</th>\n",
       "      <th>games_injured</th>\n",
       "      <th>award</th>\n",
       "      <th>current_value</th>\n",
       "      <th>highest_value</th>\n",
       "      <th>position_encoded</th>\n",
       "      <th>winger</th>\n",
       "    </tr>\n",
       "  </thead>\n",
       "  <tbody>\n",
       "    <tr>\n",
       "      <th>0</th>\n",
       "      <td>/david-de-gea/profil/spieler/59377</td>\n",
       "      <td>Manchester United</td>\n",
       "      <td>David de Gea</td>\n",
       "      <td>Goalkeeper</td>\n",
       "      <td>189.0</td>\n",
       "      <td>32.0</td>\n",
       "      <td>104</td>\n",
       "      <td>0.000000</td>\n",
       "      <td>0.000000</td>\n",
       "      <td>0.009585</td>\n",
       "      <td>...</td>\n",
       "      <td>1.217252</td>\n",
       "      <td>0.335463</td>\n",
       "      <td>9390</td>\n",
       "      <td>42</td>\n",
       "      <td>5</td>\n",
       "      <td>13</td>\n",
       "      <td>15000000</td>\n",
       "      <td>70000000</td>\n",
       "      <td>1</td>\n",
       "      <td>0</td>\n",
       "    </tr>\n",
       "    <tr>\n",
       "      <th>1</th>\n",
       "      <td>/jack-butland/profil/spieler/128899</td>\n",
       "      <td>Manchester United</td>\n",
       "      <td>Jack Butland</td>\n",
       "      <td>Goalkeeper</td>\n",
       "      <td>196.0</td>\n",
       "      <td>30.0</td>\n",
       "      <td>15</td>\n",
       "      <td>0.000000</td>\n",
       "      <td>0.000000</td>\n",
       "      <td>0.069018</td>\n",
       "      <td>...</td>\n",
       "      <td>1.242331</td>\n",
       "      <td>0.207055</td>\n",
       "      <td>1304</td>\n",
       "      <td>510</td>\n",
       "      <td>58</td>\n",
       "      <td>1</td>\n",
       "      <td>1500000</td>\n",
       "      <td>22000000</td>\n",
       "      <td>1</td>\n",
       "      <td>0</td>\n",
       "    </tr>\n",
       "    <tr>\n",
       "      <th>2</th>\n",
       "      <td>/tom-heaton/profil/spieler/34130</td>\n",
       "      <td>Manchester United</td>\n",
       "      <td>Tom Heaton</td>\n",
       "      <td>Goalkeeper</td>\n",
       "      <td>188.0</td>\n",
       "      <td>37.0</td>\n",
       "      <td>4</td>\n",
       "      <td>0.000000</td>\n",
       "      <td>0.000000</td>\n",
       "      <td>0.000000</td>\n",
       "      <td>...</td>\n",
       "      <td>0.616438</td>\n",
       "      <td>0.924658</td>\n",
       "      <td>292</td>\n",
       "      <td>697</td>\n",
       "      <td>84</td>\n",
       "      <td>4</td>\n",
       "      <td>600000</td>\n",
       "      <td>6000000</td>\n",
       "      <td>1</td>\n",
       "      <td>0</td>\n",
       "    </tr>\n",
       "    <tr>\n",
       "      <th>3</th>\n",
       "      <td>/lisandro-martinez/profil/spieler/480762</td>\n",
       "      <td>Manchester United</td>\n",
       "      <td>Lisandro Martínez</td>\n",
       "      <td>Defender Centre-Back</td>\n",
       "      <td>175.0</td>\n",
       "      <td>25.0</td>\n",
       "      <td>82</td>\n",
       "      <td>0.028090</td>\n",
       "      <td>0.056180</td>\n",
       "      <td>0.224719</td>\n",
       "      <td>...</td>\n",
       "      <td>0.000000</td>\n",
       "      <td>0.000000</td>\n",
       "      <td>6408</td>\n",
       "      <td>175</td>\n",
       "      <td>22</td>\n",
       "      <td>9</td>\n",
       "      <td>50000000</td>\n",
       "      <td>50000000</td>\n",
       "      <td>2</td>\n",
       "      <td>0</td>\n",
       "    </tr>\n",
       "    <tr>\n",
       "      <th>4</th>\n",
       "      <td>/raphael-varane/profil/spieler/164770</td>\n",
       "      <td>Manchester United</td>\n",
       "      <td>Raphaël Varane</td>\n",
       "      <td>Defender Centre-Back</td>\n",
       "      <td>191.0</td>\n",
       "      <td>30.0</td>\n",
       "      <td>63</td>\n",
       "      <td>0.017889</td>\n",
       "      <td>0.017889</td>\n",
       "      <td>0.053667</td>\n",
       "      <td>...</td>\n",
       "      <td>0.000000</td>\n",
       "      <td>0.000000</td>\n",
       "      <td>5031</td>\n",
       "      <td>238</td>\n",
       "      <td>51</td>\n",
       "      <td>21</td>\n",
       "      <td>40000000</td>\n",
       "      <td>80000000</td>\n",
       "      <td>2</td>\n",
       "      <td>0</td>\n",
       "    </tr>\n",
       "  </tbody>\n",
       "</table>\n",
       "<p>5 rows × 22 columns</p>\n",
       "</div>"
      ],
      "text/plain": [
       "                                     player               team  \\\n",
       "0        /david-de-gea/profil/spieler/59377  Manchester United   \n",
       "1       /jack-butland/profil/spieler/128899  Manchester United   \n",
       "2          /tom-heaton/profil/spieler/34130  Manchester United   \n",
       "3  /lisandro-martinez/profil/spieler/480762  Manchester United   \n",
       "4     /raphael-varane/profil/spieler/164770  Manchester United   \n",
       "\n",
       "                name              position  height   age  appearance  \\\n",
       "0       David de Gea            Goalkeeper   189.0  32.0         104   \n",
       "1       Jack Butland            Goalkeeper   196.0  30.0          15   \n",
       "2         Tom Heaton            Goalkeeper   188.0  37.0           4   \n",
       "3  Lisandro Martínez  Defender Centre-Back   175.0  25.0          82   \n",
       "4     Raphaël Varane  Defender Centre-Back   191.0  30.0          63   \n",
       "\n",
       "      goals   assists  yellow cards  ...  goals conceded  clean sheets  \\\n",
       "0  0.000000  0.000000      0.009585  ...        1.217252      0.335463   \n",
       "1  0.000000  0.000000      0.069018  ...        1.242331      0.207055   \n",
       "2  0.000000  0.000000      0.000000  ...        0.616438      0.924658   \n",
       "3  0.028090  0.056180      0.224719  ...        0.000000      0.000000   \n",
       "4  0.017889  0.017889      0.053667  ...        0.000000      0.000000   \n",
       "\n",
       "   minutes played  days_injured  games_injured  award  current_value  \\\n",
       "0            9390            42              5     13       15000000   \n",
       "1            1304           510             58      1        1500000   \n",
       "2             292           697             84      4         600000   \n",
       "3            6408           175             22      9       50000000   \n",
       "4            5031           238             51     21       40000000   \n",
       "\n",
       "   highest_value  position_encoded  winger  \n",
       "0       70000000                 1       0  \n",
       "1       22000000                 1       0  \n",
       "2        6000000                 1       0  \n",
       "3       50000000                 2       0  \n",
       "4       80000000                 2       0  \n",
       "\n",
       "[5 rows x 22 columns]"
      ]
     },
     "execution_count": 275,
     "metadata": {},
     "output_type": "execute_result"
    }
   ],
   "source": [
    "football_players_data.head()"
   ]
  },
  {
   "cell_type": "code",
   "execution_count": 276,
   "id": "a3ceefae",
   "metadata": {},
   "outputs": [],
   "source": [
    "# Drop player\n",
    "football_players_data.drop(['player'],axis = 1,inplace = True)"
   ]
  },
  {
   "cell_type": "code",
   "execution_count": 277,
   "id": "57e741fb-71c1-46ad-a526-d8f0b1564dc3",
   "metadata": {},
   "outputs": [],
   "source": [
    "#combine the second yellow cards and red cards columns into a new column,\n",
    "football_players_data['total_red_cards'] = football_players_data['second yellow cards'] + football_players_data['red cards']\n"
   ]
  },
  {
   "cell_type": "code",
   "execution_count": 278,
   "id": "585be91c",
   "metadata": {},
   "outputs": [],
   "source": [
    "# current_value to millons \n",
    "football_players_data['current_value_million'] = football_players_data['current_value'] / 1_000_000"
   ]
  },
  {
   "cell_type": "code",
   "execution_count": 144,
   "id": "01287962-8077-4c01-8d1d-5f8aed6cb37a",
   "metadata": {},
   "outputs": [],
   "source": [
    "# go back to 6th dimention --> Completeness"
   ]
  },
  {
   "cell_type": "markdown",
   "id": "f7cee10f-0af8-44e5-b595-8e965294daad",
   "metadata": {},
   "source": [
    "### Correcting errors\n",
    "\n",
    "-------------------"
   ]
  },
  {
   "cell_type": "code",
   "execution_count": 145,
   "id": "f1d95da5-a3ba-473a-8243-aa177cadae20",
   "metadata": {},
   "outputs": [],
   "source": [
    "# go back to 7th dimension Accuracy "
   ]
  },
  {
   "cell_type": "markdown",
   "id": "5ecc7dbb-6867-44cf-8f99-1b969a80be40",
   "metadata": {},
   "source": [
    "### Dealing with outliers:"
   ]
  },
  {
   "attachments": {},
   "cell_type": "markdown",
   "id": "88347887-4bdf-48af-9486-cb8fe80c97af",
   "metadata": {},
   "source": [
    "**How to remove Outliers?**\n",
    "Most of the ways to deal with outliers are similar to the methods of missing values like deleting rows, transforming them, binning them, treat them as a separate group, imputing values and other statistical methods. Here, we will discuss the common techniques used to deal with outliers:\n",
    "\n",
    "1. Deleting rows: We delete outlier values if it is due to data entry error, data processing error or outlier rows are very small in numbers. We can also use trimming at both ends to remove outliers.\n",
    "\n",
    "2. Imputing: Like imputation of missing values, we can also impute outliers. We can use mean, median, mode imputation methods. Before imputing values, we should analyse if it is natural outlier or artificial. If it is artificial, we can go with imputing values. We can also use statistical model to predict values of outlier rows and after that we can impute it with predicted values.\n",
    "\n",
    "3. Treat separately: If there are significant number of outliers, we should treat them separately in the statistical model. One of the approach is to treat both groups as two different groups and build individual model for both groups and then combine the output.\n"
   ]
  },
  {
   "cell_type": "code",
   "execution_count": null,
   "id": "25a585f0-2b9c-42fa-bf21-cacc6aa3be3f",
   "metadata": {},
   "outputs": [],
   "source": []
  },
  {
   "cell_type": "markdown",
   "id": "98548b66-e309-4eb8-a5dc-65fe0abbf1e8",
   "metadata": {},
   "source": [
    "## 3. Univariate Analysis: \n",
    "\n",
    "This involves examining single variables to understand their characteristics (distribution, central tendency, dispersion, and shape).\n",
    "\n",
    "We calculate **numerical values** about the data that tells us about the distribution of the data. We also **draw graphs** showing visually how the data is distributed. **To answer the following questions about Features/characteristics of Data:**\n",
    "- Where is the center of the data? (location)\n",
    "- How much does the data vary? (scale)\n",
    "- What is the shape of the data? (shape)\n",
    "\n",
    "**The benefits of this analysis:**\n",
    "Statistics summary gives a high-level idea to identify whether the data has any outliers, data entry error, distribution of data such as the data is normally distributed or left/right skewed\n",
    "\n",
    "**In this step, we will explore variables one by one using following approaches:**"
   ]
  },
  {
   "cell_type": "markdown",
   "id": "d6718111-7ac2-4fff-9851-654655b62e0b",
   "metadata": {},
   "source": [
    "### 1. Univariate Graphical Analysis:\n",
    "Method to perform uni-variate analysis will depend on whether the variable type is categorical or numerical."
   ]
  },
  {
   "cell_type": "code",
   "execution_count": 144,
   "id": "db79d803-b75c-4686-a623-e8420321a90f",
   "metadata": {},
   "outputs": [
    {
     "data": {
      "text/html": [
       "\n",
       "        <iframe\n",
       "            width=\"100%\"\n",
       "            height=\"475\"\n",
       "            src=\"http://Raghads-Mac.local:40000/dtale/iframe/9\"\n",
       "            frameborder=\"0\"\n",
       "            allowfullscreen\n",
       "            \n",
       "        ></iframe>\n",
       "        "
      ],
      "text/plain": [
       "<IPython.lib.display.IFrame at 0x16a3d72b0>"
      ]
     },
     "metadata": {},
     "output_type": "display_data"
    },
    {
     "data": {
      "text/plain": []
     },
     "execution_count": 144,
     "metadata": {},
     "output_type": "execute_result"
    }
   ],
   "source": [
    "dtale.show(football_players_data)"
   ]
  },
  {
   "cell_type": "code",
   "execution_count": 145,
   "id": "c8851e8a",
   "metadata": {},
   "outputs": [
    {
     "data": {
      "image/png": "[encoded data removed]",
      "text/plain": [
       "<Figure size 1000x600 with 1 Axes>"
      ]
     },
     "metadata": {},
     "output_type": "display_data"
    },
    {
     "data": {
      "image/png": "[encoded data removed]",
      "text/plain": [
       "<Figure size 1000x600 with 1 Axes>"
      ]
     },
     "metadata": {},
     "output_type": "display_data"
    },
    {
     "data": {
      "image/png": "[encoded data removed]",
      "text/plain": [
       "<Figure size 1000x600 with 1 Axes>"
      ]
     },
     "metadata": {},
     "output_type": "display_data"
    },
    {
     "data": {
      "image/png": "[encoded data removed]",
      "text/plain": [
       "<Figure size 1200x600 with 1 Axes>"
      ]
     },
     "metadata": {},
     "output_type": "display_data"
    }
   ],
   "source": [
    "\n",
    "#  Distribution of Player Ages (Histogram)\n",
    "plt.figure(figsize=(10, 6))\n",
    "sns.histplot(football_players_data['age'], kde=True, bins=20)\n",
    "plt.title('Distribution of Player Ages')\n",
    "plt.xlabel('Age')\n",
    "plt.ylabel('Frequency')\n",
    "plt.show()\n",
    "\n",
    "#  Goals vs. Assists (Scatter plot)\n",
    "plt.figure(figsize=(10, 6))\n",
    "sns.scatterplot(x=football_players_data['goals'], y=football_players_data['assists'], alpha=0.6)\n",
    "plt.title('Goals vs. Assists')\n",
    "plt.xlabel('Goals')\n",
    "plt.ylabel('Assists')\n",
    "plt.show()\n",
    "\n",
    "\n",
    "# Minutes Played vs. Goals (Scatter plot)\n",
    "plt.figure(figsize=(10, 6))\n",
    "sns.scatterplot(x=football_players_data['minutes played'], y=football_players_data['goals'], alpha=0.6)\n",
    "plt.title('Minutes Played vs. Goals')\n",
    "plt.xlabel('Minutes Played')\n",
    "plt.ylabel('Goals')\n",
    "plt.show()\n",
    "\n",
    "\n",
    "# Team Performance (Bar chart for goals)\n",
    "team_goals = football_players_data.groupby('team')['goals'].sum().sort_values(ascending=False).head(10)\n",
    "plt.figure(figsize=(12, 6))\n",
    "team_goals.plot(kind='bar', color='skyblue')\n",
    "plt.title('Total Goals by Team (Top 10)')\n",
    "plt.xlabel('Team')\n",
    "plt.ylabel('Total Goals')\n",
    "plt.xticks(rotation=90)\n",
    "plt.show()\n"
   ]
  },
  {
   "cell_type": "markdown",
   "id": "0d57c4b9-9bb3-494d-85dd-b8d39afda139",
   "metadata": {},
   "source": [
    "#### I. Categorical Variables:\n",
    "\n",
    "we’ll use frequency table to understand distribution of each category\n",
    "- Bar Chart (Ordinal) - Orderd\n",
    "- Pie Chart (Nominal) - non Orderd"
   ]
  },
  {
   "cell_type": "code",
   "execution_count": null,
   "id": "72ece4b7-5508-403a-8fb0-f519fc74272a",
   "metadata": {},
   "outputs": [],
   "source": []
  },
  {
   "cell_type": "markdown",
   "id": "d2641f0d-80f2-493b-99b7-15476379a1e2",
   "metadata": {},
   "source": [
    "#### II. Numerical Variables:\n",
    "\n",
    "we need to understand the central tendency and spread of the variable (Descriptive Analysis) using:\n",
    "   - Box plot\n",
    "   - Histogram"
   ]
  },
  {
   "cell_type": "code",
   "execution_count": null,
   "id": "5be16f08-a072-4a02-a3ee-6f9d57786fb4",
   "metadata": {},
   "outputs": [],
   "source": []
  },
  {
   "cell_type": "markdown",
   "id": "d66677d3-44ad-414f-9b39-f9c1995ad043",
   "metadata": {},
   "source": [
    "### 2. Univariate Non-Graphical analysis: \n",
    "\n",
    "- Where is the center of the data? (location) --> **Measures of central tendency**\n",
    "- How much does the data vary? (scale) --> **Measure of variability**\n",
    "- What is the shape of the data? (shape) --> **Measures of variation combined with an average (measure of center) gives a good picture of the distribution of the data.**"
   ]
  },
  {
   "cell_type": "code",
   "execution_count": null,
   "id": "f1058d84-e61e-4f5b-b66a-29931e77821b",
   "metadata": {},
   "outputs": [],
   "source": []
  },
  {
   "cell_type": "markdown",
   "id": "f09bb809-0edd-432b-bf23-abd0840b3e16",
   "metadata": {},
   "source": [
    "## 4. Bivariate/Multivariate Analysis:\n",
    "\n",
    "Here, you look at the relationships between two or more variables. This can involve looking for correlations, patterns, and trends that suggest a relationship or an association.\n",
    "\n",
    "We can perform bi-variate analysis for any combination of categorical and numerical variables. The combination can be:\n",
    "| bi-variate variables   | Plot type |\n",
    "| ------------- | ------------- |\n",
    "| Categorical & Categorical| Stacked Bar Chart |\n",
    "| Categorical & numerical  | scatter plot, histogram, box plot|\n",
    "| numerical  & numerical  | Scatter plot, line chart| \n",
    "\n",
    "\n",
    "Multivariate Analysis:\n",
    "- Heat map\n",
    "- Bar Chart\n",
    "- Scatter Chart\n",
    "- Line Chart"
   ]
  },
  {
   "cell_type": "markdown",
   "id": "838f2864-ce9e-4f15-99c8-052d053154a7",
   "metadata": {},
   "source": [
    "**Categorical & Categorical --> (Stacked Column Chart)**"
   ]
  },
  {
   "cell_type": "code",
   "execution_count": null,
   "id": "73f9f2ac-8477-49ea-9c68-4fe44d4395b6",
   "metadata": {},
   "outputs": [],
   "source": []
  },
  {
   "cell_type": "markdown",
   "id": "730e088f-fe13-40da-8fbb-686f5135fa4d",
   "metadata": {},
   "source": [
    "**Categorical & numerical --> (scatter plot, histogram, box plot)**"
   ]
  },
  {
   "cell_type": "code",
   "execution_count": null,
   "id": "3590e345-2051-4215-91ac-07d196b510ef",
   "metadata": {},
   "outputs": [],
   "source": []
  },
  {
   "cell_type": "markdown",
   "id": "20aed48d-b78e-46da-963f-e7f15e2f4dc7",
   "metadata": {},
   "source": [
    "**numerical & numerical --> (Scatter plot, line chart)**"
   ]
  },
  {
   "cell_type": "code",
   "execution_count": null,
   "id": "41023177-01cb-4f39-a750-12be71b13bda",
   "metadata": {},
   "outputs": [],
   "source": []
  },
  {
   "cell_type": "markdown",
   "id": "efb43b30-b1f0-48a4-a19c-195810cc8a0f",
   "metadata": {},
   "source": [
    "We could also use a correlation matrix to get more specific information about the relationship between these two variables."
   ]
  },
  {
   "cell_type": "code",
   "execution_count": null,
   "id": "8406f58f-b825-4a15-8f6e-c68ca66bd483",
   "metadata": {},
   "outputs": [],
   "source": []
  },
  {
   "cell_type": "markdown",
   "id": "13dd8d2b",
   "metadata": {},
   "source": [
    "# ML"
   ]
  },
  {
   "cell_type": "code",
   "execution_count": 289,
   "id": "9828d3a6",
   "metadata": {},
   "outputs": [],
   "source": [
    "# Trget current_value\n",
    "categorical_features = ['team', 'position']\n",
    "numeric_features = ['height', 'age', 'appearance','goals','assists','yellow cards','goals conceded','clean sheets','minutes played',\n",
    "                    'days_injured','games_injured','award','highest_value','total_red_cards']"
   ]
  },
  {
   "cell_type": "code",
   "execution_count": 290,
   "id": "cc796614",
   "metadata": {},
   "outputs": [
    {
     "name": "stdout",
     "output_type": "stream",
     "text": [
      "team\n",
      "Daejeon Hana Citizen      46\n",
      "Jeonbuk Hyundai Motors    46\n",
      "FC Seoul                  45\n",
      "Gangwon FC                43\n",
      "Daegu FC                  42\n",
      "                          ..\n",
      "FC Barcelona              22\n",
      "Atlético de Madrid        22\n",
      "CA Osasuna                22\n",
      "Hatayspor                 12\n",
      "Gaziantep FK               6\n",
      "Name: count, Length: 374, dtype: int64\n",
      "position\n",
      "Defender Centre-Back          1821\n",
      "Attack Centre-Forward         1353\n",
      "Goalkeeper                    1229\n",
      "midfield-CentralMidfield      1149\n",
      "midfield-DefensiveMidfield     900\n",
      "Defender Right-Back            867\n",
      "Defender Left-Back             807\n",
      "midfield-AttackingMidfield     769\n",
      "Attack-RightWinger             717\n",
      "Attack-LeftWinger              714\n",
      "midfield-RightMidfield         102\n",
      "midfield-LeftMidfield          100\n",
      "midfield                        75\n",
      "Attack-SecondStriker            65\n",
      "Attack                          53\n",
      "Defender                        33\n",
      "Name: count, dtype: int64\n"
     ]
    }
   ],
   "source": [
    "for i in categorical_features:\n",
    "   print (football_players_data[i].value_counts())"
   ]
  },
  {
   "cell_type": "markdown",
   "id": "3912e776",
   "metadata": {},
   "source": [
    "#### 2. Feature engineering"
   ]
  },
  {
   "cell_type": "code",
   "execution_count": 291,
   "id": "d219d6cf",
   "metadata": {},
   "outputs": [
    {
     "data": {
      "text/html": [
       "<div>\n",
       "<style scoped>\n",
       "    .dataframe tbody tr th:only-of-type {\n",
       "        vertical-align: middle;\n",
       "    }\n",
       "\n",
       "    .dataframe tbody tr th {\n",
       "        vertical-align: top;\n",
       "    }\n",
       "\n",
       "    .dataframe thead th {\n",
       "        text-align: right;\n",
       "    }\n",
       "</style>\n",
       "<table border=\"1\" class=\"dataframe\">\n",
       "  <thead>\n",
       "    <tr style=\"text-align: right;\">\n",
       "      <th></th>\n",
       "      <th>team</th>\n",
       "      <th>name</th>\n",
       "      <th>position</th>\n",
       "      <th>height</th>\n",
       "      <th>age</th>\n",
       "      <th>appearance</th>\n",
       "      <th>goals</th>\n",
       "      <th>assists</th>\n",
       "      <th>yellow cards</th>\n",
       "      <th>second yellow cards</th>\n",
       "      <th>...</th>\n",
       "      <th>minutes played</th>\n",
       "      <th>days_injured</th>\n",
       "      <th>games_injured</th>\n",
       "      <th>award</th>\n",
       "      <th>current_value</th>\n",
       "      <th>highest_value</th>\n",
       "      <th>position_encoded</th>\n",
       "      <th>winger</th>\n",
       "      <th>total_red_cards</th>\n",
       "      <th>current_value_million</th>\n",
       "    </tr>\n",
       "  </thead>\n",
       "  <tbody>\n",
       "    <tr>\n",
       "      <th>0</th>\n",
       "      <td>Manchester United</td>\n",
       "      <td>David de Gea</td>\n",
       "      <td>Goalkeeper</td>\n",
       "      <td>189.0</td>\n",
       "      <td>32.0</td>\n",
       "      <td>104</td>\n",
       "      <td>0.0</td>\n",
       "      <td>0.0</td>\n",
       "      <td>0.009585</td>\n",
       "      <td>0.0</td>\n",
       "      <td>...</td>\n",
       "      <td>9390</td>\n",
       "      <td>42</td>\n",
       "      <td>5</td>\n",
       "      <td>13</td>\n",
       "      <td>15000000</td>\n",
       "      <td>70000000</td>\n",
       "      <td>1</td>\n",
       "      <td>0</td>\n",
       "      <td>0.0</td>\n",
       "      <td>15.0</td>\n",
       "    </tr>\n",
       "    <tr>\n",
       "      <th>1</th>\n",
       "      <td>Manchester United</td>\n",
       "      <td>Jack Butland</td>\n",
       "      <td>Goalkeeper</td>\n",
       "      <td>196.0</td>\n",
       "      <td>30.0</td>\n",
       "      <td>15</td>\n",
       "      <td>0.0</td>\n",
       "      <td>0.0</td>\n",
       "      <td>0.069018</td>\n",
       "      <td>0.0</td>\n",
       "      <td>...</td>\n",
       "      <td>1304</td>\n",
       "      <td>510</td>\n",
       "      <td>58</td>\n",
       "      <td>1</td>\n",
       "      <td>1500000</td>\n",
       "      <td>22000000</td>\n",
       "      <td>1</td>\n",
       "      <td>0</td>\n",
       "      <td>0.0</td>\n",
       "      <td>1.5</td>\n",
       "    </tr>\n",
       "  </tbody>\n",
       "</table>\n",
       "<p>2 rows × 23 columns</p>\n",
       "</div>"
      ],
      "text/plain": [
       "                team          name    position  height   age  appearance  \\\n",
       "0  Manchester United  David de Gea  Goalkeeper   189.0  32.0         104   \n",
       "1  Manchester United  Jack Butland  Goalkeeper   196.0  30.0          15   \n",
       "\n",
       "   goals  assists  yellow cards  second yellow cards  ...  minutes played  \\\n",
       "0    0.0      0.0      0.009585                  0.0  ...            9390   \n",
       "1    0.0      0.0      0.069018                  0.0  ...            1304   \n",
       "\n",
       "   days_injured  games_injured  award  current_value  highest_value  \\\n",
       "0            42              5     13       15000000       70000000   \n",
       "1           510             58      1        1500000       22000000   \n",
       "\n",
       "   position_encoded  winger  total_red_cards  current_value_million  \n",
       "0                 1       0              0.0                   15.0  \n",
       "1                 1       0              0.0                    1.5  \n",
       "\n",
       "[2 rows x 23 columns]"
      ]
     },
     "execution_count": 291,
     "metadata": {},
     "output_type": "execute_result"
    }
   ],
   "source": [
    "football_players_data.head(2)"
   ]
  },
  {
   "cell_type": "code",
   "execution_count": 292,
   "id": "2f793a08",
   "metadata": {},
   "outputs": [
    {
     "data": {
      "text/plain": [
       "['team', 'position']"
      ]
     },
     "execution_count": 292,
     "metadata": {},
     "output_type": "execute_result"
    }
   ],
   "source": [
    "categorical_features"
   ]
  },
  {
   "cell_type": "code",
   "execution_count": 293,
   "id": "03b06516",
   "metadata": {},
   "outputs": [],
   "source": [
    "football_players_data = pd.get_dummies(football_players_data, columns=categorical_features)"
   ]
  },
  {
   "cell_type": "code",
   "execution_count": 294,
   "id": "4a2487b2",
   "metadata": {},
   "outputs": [
    {
     "data": {
      "text/plain": [
       "(10754, 411)"
      ]
     },
     "execution_count": 294,
     "metadata": {},
     "output_type": "execute_result"
    }
   ],
   "source": [
    "football_players_data.shape"
   ]
  },
  {
   "cell_type": "code",
   "execution_count": 295,
   "id": "50400e39",
   "metadata": {},
   "outputs": [
    {
     "data": {
      "text/html": [
       "<div>\n",
       "<style scoped>\n",
       "    .dataframe tbody tr th:only-of-type {\n",
       "        vertical-align: middle;\n",
       "    }\n",
       "\n",
       "    .dataframe tbody tr th {\n",
       "        vertical-align: top;\n",
       "    }\n",
       "\n",
       "    .dataframe thead th {\n",
       "        text-align: right;\n",
       "    }\n",
       "</style>\n",
       "<table border=\"1\" class=\"dataframe\">\n",
       "  <thead>\n",
       "    <tr style=\"text-align: right;\">\n",
       "      <th></th>\n",
       "      <th>name</th>\n",
       "      <th>height</th>\n",
       "      <th>age</th>\n",
       "      <th>appearance</th>\n",
       "      <th>goals</th>\n",
       "      <th>assists</th>\n",
       "      <th>yellow cards</th>\n",
       "      <th>second yellow cards</th>\n",
       "      <th>red cards</th>\n",
       "      <th>goals conceded</th>\n",
       "      <th>...</th>\n",
       "      <th>position_Defender Centre-Back</th>\n",
       "      <th>position_Defender Left-Back</th>\n",
       "      <th>position_Defender Right-Back</th>\n",
       "      <th>position_Goalkeeper</th>\n",
       "      <th>position_midfield</th>\n",
       "      <th>position_midfield-AttackingMidfield</th>\n",
       "      <th>position_midfield-CentralMidfield</th>\n",
       "      <th>position_midfield-DefensiveMidfield</th>\n",
       "      <th>position_midfield-LeftMidfield</th>\n",
       "      <th>position_midfield-RightMidfield</th>\n",
       "    </tr>\n",
       "  </thead>\n",
       "  <tbody>\n",
       "    <tr>\n",
       "      <th>0</th>\n",
       "      <td>David de Gea</td>\n",
       "      <td>189.0</td>\n",
       "      <td>32.0</td>\n",
       "      <td>104</td>\n",
       "      <td>0.0</td>\n",
       "      <td>0.0</td>\n",
       "      <td>0.009585</td>\n",
       "      <td>0.0</td>\n",
       "      <td>0.0</td>\n",
       "      <td>1.217252</td>\n",
       "      <td>...</td>\n",
       "      <td>False</td>\n",
       "      <td>False</td>\n",
       "      <td>False</td>\n",
       "      <td>True</td>\n",
       "      <td>False</td>\n",
       "      <td>False</td>\n",
       "      <td>False</td>\n",
       "      <td>False</td>\n",
       "      <td>False</td>\n",
       "      <td>False</td>\n",
       "    </tr>\n",
       "    <tr>\n",
       "      <th>1</th>\n",
       "      <td>Jack Butland</td>\n",
       "      <td>196.0</td>\n",
       "      <td>30.0</td>\n",
       "      <td>15</td>\n",
       "      <td>0.0</td>\n",
       "      <td>0.0</td>\n",
       "      <td>0.069018</td>\n",
       "      <td>0.0</td>\n",
       "      <td>0.0</td>\n",
       "      <td>1.242331</td>\n",
       "      <td>...</td>\n",
       "      <td>False</td>\n",
       "      <td>False</td>\n",
       "      <td>False</td>\n",
       "      <td>True</td>\n",
       "      <td>False</td>\n",
       "      <td>False</td>\n",
       "      <td>False</td>\n",
       "      <td>False</td>\n",
       "      <td>False</td>\n",
       "      <td>False</td>\n",
       "    </tr>\n",
       "  </tbody>\n",
       "</table>\n",
       "<p>2 rows × 411 columns</p>\n",
       "</div>"
      ],
      "text/plain": [
       "           name  height   age  appearance  goals  assists  yellow cards  \\\n",
       "0  David de Gea   189.0  32.0         104    0.0      0.0      0.009585   \n",
       "1  Jack Butland   196.0  30.0          15    0.0      0.0      0.069018   \n",
       "\n",
       "   second yellow cards  red cards  goals conceded  ...  \\\n",
       "0                  0.0        0.0        1.217252  ...   \n",
       "1                  0.0        0.0        1.242331  ...   \n",
       "\n",
       "   position_Defender Centre-Back  position_Defender Left-Back  \\\n",
       "0                          False                        False   \n",
       "1                          False                        False   \n",
       "\n",
       "   position_Defender Right-Back  position_Goalkeeper  position_midfield  \\\n",
       "0                         False                 True              False   \n",
       "1                         False                 True              False   \n",
       "\n",
       "   position_midfield-AttackingMidfield  position_midfield-CentralMidfield  \\\n",
       "0                                False                              False   \n",
       "1                                False                              False   \n",
       "\n",
       "   position_midfield-DefensiveMidfield  position_midfield-LeftMidfield  \\\n",
       "0                                False                           False   \n",
       "1                                False                           False   \n",
       "\n",
       "   position_midfield-RightMidfield  \n",
       "0                            False  \n",
       "1                            False  \n",
       "\n",
       "[2 rows x 411 columns]"
      ]
     },
     "execution_count": 295,
     "metadata": {},
     "output_type": "execute_result"
    }
   ],
   "source": [
    "football_players_data.head(2)"
   ]
  },
  {
   "cell_type": "code",
   "execution_count": 296,
   "id": "bb16bdf5",
   "metadata": {},
   "outputs": [],
   "source": [
    "selected_columns = football_players_data.select_dtypes(include=['float64', 'int64','bool'])"
   ]
  },
  {
   "cell_type": "code",
   "execution_count": 297,
   "id": "87489acf",
   "metadata": {},
   "outputs": [
    {
     "name": "stdout",
     "output_type": "stream",
     "text": [
      "current_value            1.000000\n",
      "current_value_million    1.000000\n",
      "highest_value            0.834553\n",
      "minutes played           0.420542\n",
      "appearance               0.419656\n",
      "                           ...   \n",
      "position_Attack         -0.027709\n",
      "position_midfield       -0.032972\n",
      "age                     -0.050156\n",
      "goals conceded          -0.063529\n",
      "position_Goalkeeper     -0.077891\n",
      "Name: current_value_million, Length: 410, dtype: float64\n"
     ]
    }
   ],
   "source": [
    "correlation = selected_columns.corr()\n",
    "print(correlation['current_value_million'].sort_values(ascending=False))"
   ]
  },
  {
   "cell_type": "code",
   "execution_count": 298,
   "id": "504000b2",
   "metadata": {},
   "outputs": [
    {
     "data": {
      "text/plain": [
       "Index(['appearance', 'minutes played', 'award', 'current_value',\n",
       "       'highest_value', 'current_value_million', 'team_Arsenal FC',\n",
       "       'team_Bayern Munich', 'team_Chelsea FC', 'team_FC Barcelona',\n",
       "       'team_Manchester City', 'team_Paris Saint-Germain', 'team_Real Madrid'],\n",
       "      dtype='object')"
      ]
     },
     "execution_count": 298,
     "metadata": {},
     "output_type": "execute_result"
    }
   ],
   "source": [
    "# Set the correlation threshold\n",
    "threshold = 0.15  # You can change this value based on your requirement\n",
    "\n",
    "# Filter the correlations\n",
    "# We use `abs()` for absolute value to consider both strong positive and negative correlations\n",
    "selected_features = correlation[abs(correlation['current_value_million']) > threshold]['current_value_million'].index\n",
    "selected_features"
   ]
  },
  {
   "cell_type": "code",
   "execution_count": 299,
   "id": "c1b0d922",
   "metadata": {},
   "outputs": [
    {
     "data": {
      "text/html": [
       "<div>\n",
       "<style scoped>\n",
       "    .dataframe tbody tr th:only-of-type {\n",
       "        vertical-align: middle;\n",
       "    }\n",
       "\n",
       "    .dataframe tbody tr th {\n",
       "        vertical-align: top;\n",
       "    }\n",
       "\n",
       "    .dataframe thead th {\n",
       "        text-align: right;\n",
       "    }\n",
       "</style>\n",
       "<table border=\"1\" class=\"dataframe\">\n",
       "  <thead>\n",
       "    <tr style=\"text-align: right;\">\n",
       "      <th></th>\n",
       "      <th>appearance</th>\n",
       "      <th>minutes played</th>\n",
       "      <th>award</th>\n",
       "      <th>current_value</th>\n",
       "      <th>highest_value</th>\n",
       "      <th>current_value_million</th>\n",
       "      <th>team_Arsenal FC</th>\n",
       "      <th>team_Bayern Munich</th>\n",
       "      <th>team_Chelsea FC</th>\n",
       "      <th>team_FC Barcelona</th>\n",
       "      <th>team_Manchester City</th>\n",
       "      <th>team_Paris Saint-Germain</th>\n",
       "      <th>team_Real Madrid</th>\n",
       "    </tr>\n",
       "  </thead>\n",
       "  <tbody>\n",
       "    <tr>\n",
       "      <th>0</th>\n",
       "      <td>104</td>\n",
       "      <td>9390</td>\n",
       "      <td>13</td>\n",
       "      <td>15000000</td>\n",
       "      <td>70000000</td>\n",
       "      <td>15.0</td>\n",
       "      <td>False</td>\n",
       "      <td>False</td>\n",
       "      <td>False</td>\n",
       "      <td>False</td>\n",
       "      <td>False</td>\n",
       "      <td>False</td>\n",
       "      <td>False</td>\n",
       "    </tr>\n",
       "    <tr>\n",
       "      <th>1</th>\n",
       "      <td>15</td>\n",
       "      <td>1304</td>\n",
       "      <td>1</td>\n",
       "      <td>1500000</td>\n",
       "      <td>22000000</td>\n",
       "      <td>1.5</td>\n",
       "      <td>False</td>\n",
       "      <td>False</td>\n",
       "      <td>False</td>\n",
       "      <td>False</td>\n",
       "      <td>False</td>\n",
       "      <td>False</td>\n",
       "      <td>False</td>\n",
       "    </tr>\n",
       "    <tr>\n",
       "      <th>2</th>\n",
       "      <td>4</td>\n",
       "      <td>292</td>\n",
       "      <td>4</td>\n",
       "      <td>600000</td>\n",
       "      <td>6000000</td>\n",
       "      <td>0.6</td>\n",
       "      <td>False</td>\n",
       "      <td>False</td>\n",
       "      <td>False</td>\n",
       "      <td>False</td>\n",
       "      <td>False</td>\n",
       "      <td>False</td>\n",
       "      <td>False</td>\n",
       "    </tr>\n",
       "    <tr>\n",
       "      <th>3</th>\n",
       "      <td>82</td>\n",
       "      <td>6408</td>\n",
       "      <td>9</td>\n",
       "      <td>50000000</td>\n",
       "      <td>50000000</td>\n",
       "      <td>50.0</td>\n",
       "      <td>False</td>\n",
       "      <td>False</td>\n",
       "      <td>False</td>\n",
       "      <td>False</td>\n",
       "      <td>False</td>\n",
       "      <td>False</td>\n",
       "      <td>False</td>\n",
       "    </tr>\n",
       "    <tr>\n",
       "      <th>4</th>\n",
       "      <td>63</td>\n",
       "      <td>5031</td>\n",
       "      <td>21</td>\n",
       "      <td>40000000</td>\n",
       "      <td>80000000</td>\n",
       "      <td>40.0</td>\n",
       "      <td>False</td>\n",
       "      <td>False</td>\n",
       "      <td>False</td>\n",
       "      <td>False</td>\n",
       "      <td>False</td>\n",
       "      <td>False</td>\n",
       "      <td>False</td>\n",
       "    </tr>\n",
       "  </tbody>\n",
       "</table>\n",
       "</div>"
      ],
      "text/plain": [
       "   appearance  minutes played  award  current_value  highest_value  \\\n",
       "0         104            9390     13       15000000       70000000   \n",
       "1          15            1304      1        1500000       22000000   \n",
       "2           4             292      4         600000        6000000   \n",
       "3          82            6408      9       50000000       50000000   \n",
       "4          63            5031     21       40000000       80000000   \n",
       "\n",
       "   current_value_million  team_Arsenal FC  team_Bayern Munich  \\\n",
       "0                   15.0            False               False   \n",
       "1                    1.5            False               False   \n",
       "2                    0.6            False               False   \n",
       "3                   50.0            False               False   \n",
       "4                   40.0            False               False   \n",
       "\n",
       "   team_Chelsea FC  team_FC Barcelona  team_Manchester City  \\\n",
       "0            False              False                 False   \n",
       "1            False              False                 False   \n",
       "2            False              False                 False   \n",
       "3            False              False                 False   \n",
       "4            False              False                 False   \n",
       "\n",
       "   team_Paris Saint-Germain  team_Real Madrid  \n",
       "0                     False             False  \n",
       "1                     False             False  \n",
       "2                     False             False  \n",
       "3                     False             False  \n",
       "4                     False             False  "
      ]
     },
     "execution_count": 299,
     "metadata": {},
     "output_type": "execute_result"
    }
   ],
   "source": [
    "football_players_data_Liner = football_players_data[selected_features]\n",
    "football_players_data_Liner.head()"
   ]
  },
  {
   "cell_type": "code",
   "execution_count": 300,
   "id": "c5773e58",
   "metadata": {},
   "outputs": [
    {
     "data": {
      "text/plain": [
       "(10754, 13)"
      ]
     },
     "execution_count": 300,
     "metadata": {},
     "output_type": "execute_result"
    }
   ],
   "source": [
    "football_players_data_Liner.shape"
   ]
  },
  {
   "cell_type": "code",
   "execution_count": 301,
   "id": "ce8cef19",
   "metadata": {},
   "outputs": [],
   "source": [
    "# Prepare data \n",
    "X = football_players_data_Liner.drop(['current_value', 'current_value_million'], axis=1)\n",
    "y = football_players_data_Liner['current_value_million']\n",
    "\n",
    "# Split data into training and testing sets\n",
    "X_train, X_test, y_train, y_test = train_test_split(X, y,\n",
    "                                                    test_size=0.2,\n",
    "                                                    shuffle=True,\n",
    "                                                    random_state=42)\n",
    "\n",
    "# sacle the data\n",
    "scaler = StandardScaler()\n",
    "scaler.fit(X_train)\n",
    "X_train_scaled = scaler.transform(X_train)\n",
    "X_test_scaled = scaler.transform(X_test)"
   ]
  },
  {
   "cell_type": "code",
   "execution_count": 302,
   "id": "e8701c00",
   "metadata": {},
   "outputs": [
    {
     "data": {
      "text/plain": [
       "(10754, 11)"
      ]
     },
     "execution_count": 302,
     "metadata": {},
     "output_type": "execute_result"
    }
   ],
   "source": [
    "X.shape"
   ]
  },
  {
   "cell_type": "markdown",
   "id": "89b008b7",
   "metadata": {},
   "source": [
    "## Buliding the Model"
   ]
  },
  {
   "cell_type": "code",
   "execution_count": 303,
   "id": "bea4ce69",
   "metadata": {},
   "outputs": [],
   "source": [
    "model = LinearRegression()"
   ]
  },
  {
   "cell_type": "markdown",
   "id": "8f42695a",
   "metadata": {},
   "source": [
    "## Train the Model"
   ]
  },
  {
   "cell_type": "code",
   "execution_count": 304,
   "id": "22e4393d",
   "metadata": {},
   "outputs": [
    {
     "data": {
      "text/html": [
       "<style>#sk-container-id-8 {\n",
       "  /* Definition of color scheme common for light and dark mode */\n",
       "  --sklearn-color-text: #000;\n",
       "  --sklearn-color-text-muted: #666;\n",
       "  --sklearn-color-line: gray;\n",
       "  /* Definition of color scheme for unfitted estimators */\n",
       "  --sklearn-color-unfitted-level-0: #fff5e6;\n",
       "  --sklearn-color-unfitted-level-1: #f6e4d2;\n",
       "  --sklearn-color-unfitted-level-2: #ffe0b3;\n",
       "  --sklearn-color-unfitted-level-3: chocolate;\n",
       "  /* Definition of color scheme for fitted estimators */\n",
       "  --sklearn-color-fitted-level-0: #f0f8ff;\n",
       "  --sklearn-color-fitted-level-1: #d4ebff;\n",
       "  --sklearn-color-fitted-level-2: #b3dbfd;\n",
       "  --sklearn-color-fitted-level-3: cornflowerblue;\n",
       "\n",
       "  /* Specific color for light theme */\n",
       "  --sklearn-color-text-on-default-background: var(--sg-text-color, var(--theme-code-foreground, var(--jp-content-font-color1, black)));\n",
       "  --sklearn-color-background: var(--sg-background-color, var(--theme-background, var(--jp-layout-color0, white)));\n",
       "  --sklearn-color-border-box: var(--sg-text-color, var(--theme-code-foreground, var(--jp-content-font-color1, black)));\n",
       "  --sklearn-color-icon: #696969;\n",
       "\n",
       "  @media (prefers-color-scheme: dark) {\n",
       "    /* Redefinition of color scheme for dark theme */\n",
       "    --sklearn-color-text-on-default-background: var(--sg-text-color, var(--theme-code-foreground, var(--jp-content-font-color1, white)));\n",
       "    --sklearn-color-background: var(--sg-background-color, var(--theme-background, var(--jp-layout-color0, #111)));\n",
       "    --sklearn-color-border-box: var(--sg-text-color, var(--theme-code-foreground, var(--jp-content-font-color1, white)));\n",
       "    --sklearn-color-icon: #878787;\n",
       "  }\n",
       "}\n",
       "\n",
       "#sk-container-id-8 {\n",
       "  color: var(--sklearn-color-text);\n",
       "}\n",
       "\n",
       "#sk-container-id-8 pre {\n",
       "  padding: 0;\n",
       "}\n",
       "\n",
       "#sk-container-id-8 input.sk-hidden--visually {\n",
       "  border: 0;\n",
       "  clip: rect(1px 1px 1px 1px);\n",
       "  clip: rect(1px, 1px, 1px, 1px);\n",
       "  height: 1px;\n",
       "  margin: -1px;\n",
       "  overflow: hidden;\n",
       "  padding: 0;\n",
       "  position: absolute;\n",
       "  width: 1px;\n",
       "}\n",
       "\n",
       "#sk-container-id-8 div.sk-dashed-wrapped {\n",
       "  border: 1px dashed var(--sklearn-color-line);\n",
       "  margin: 0 0.4em 0.5em 0.4em;\n",
       "  box-sizing: border-box;\n",
       "  padding-bottom: 0.4em;\n",
       "  background-color: var(--sklearn-color-background);\n",
       "}\n",
       "\n",
       "#sk-container-id-8 div.sk-container {\n",
       "  /* jupyter's `normalize.less` sets `[hidden] { display: none; }`\n",
       "     but bootstrap.min.css set `[hidden] { display: none !important; }`\n",
       "     so we also need the `!important` here to be able to override the\n",
       "     default hidden behavior on the sphinx rendered scikit-learn.org.\n",
       "     See: https://github.com/scikit-learn/scikit-learn/issues/21755 */\n",
       "  display: inline-block !important;\n",
       "  position: relative;\n",
       "}\n",
       "\n",
       "#sk-container-id-8 div.sk-text-repr-fallback {\n",
       "  display: none;\n",
       "}\n",
       "\n",
       "div.sk-parallel-item,\n",
       "div.sk-serial,\n",
       "div.sk-item {\n",
       "  /* draw centered vertical line to link estimators */\n",
       "  background-image: linear-gradient(var(--sklearn-color-text-on-default-background), var(--sklearn-color-text-on-default-background));\n",
       "  background-size: 2px 100%;\n",
       "  background-repeat: no-repeat;\n",
       "  background-position: center center;\n",
       "}\n",
       "\n",
       "/* Parallel-specific style estimator block */\n",
       "\n",
       "#sk-container-id-8 div.sk-parallel-item::after {\n",
       "  content: \"\";\n",
       "  width: 100%;\n",
       "  border-bottom: 2px solid var(--sklearn-color-text-on-default-background);\n",
       "  flex-grow: 1;\n",
       "}\n",
       "\n",
       "#sk-container-id-8 div.sk-parallel {\n",
       "  display: flex;\n",
       "  align-items: stretch;\n",
       "  justify-content: center;\n",
       "  background-color: var(--sklearn-color-background);\n",
       "  position: relative;\n",
       "}\n",
       "\n",
       "#sk-container-id-8 div.sk-parallel-item {\n",
       "  display: flex;\n",
       "  flex-direction: column;\n",
       "}\n",
       "\n",
       "#sk-container-id-8 div.sk-parallel-item:first-child::after {\n",
       "  align-self: flex-end;\n",
       "  width: 50%;\n",
       "}\n",
       "\n",
       "#sk-container-id-8 div.sk-parallel-item:last-child::after {\n",
       "  align-self: flex-start;\n",
       "  width: 50%;\n",
       "}\n",
       "\n",
       "#sk-container-id-8 div.sk-parallel-item:only-child::after {\n",
       "  width: 0;\n",
       "}\n",
       "\n",
       "/* Serial-specific style estimator block */\n",
       "\n",
       "#sk-container-id-8 div.sk-serial {\n",
       "  display: flex;\n",
       "  flex-direction: column;\n",
       "  align-items: center;\n",
       "  background-color: var(--sklearn-color-background);\n",
       "  padding-right: 1em;\n",
       "  padding-left: 1em;\n",
       "}\n",
       "\n",
       "\n",
       "/* Toggleable style: style used for estimator/Pipeline/ColumnTransformer box that is\n",
       "clickable and can be expanded/collapsed.\n",
       "- Pipeline and ColumnTransformer use this feature and define the default style\n",
       "- Estimators will overwrite some part of the style using the `sk-estimator` class\n",
       "*/\n",
       "\n",
       "/* Pipeline and ColumnTransformer style (default) */\n",
       "\n",
       "#sk-container-id-8 div.sk-toggleable {\n",
       "  /* Default theme specific background. It is overwritten whether we have a\n",
       "  specific estimator or a Pipeline/ColumnTransformer */\n",
       "  background-color: var(--sklearn-color-background);\n",
       "}\n",
       "\n",
       "/* Toggleable label */\n",
       "#sk-container-id-8 label.sk-toggleable__label {\n",
       "  cursor: pointer;\n",
       "  display: flex;\n",
       "  width: 100%;\n",
       "  margin-bottom: 0;\n",
       "  padding: 0.5em;\n",
       "  box-sizing: border-box;\n",
       "  text-align: center;\n",
       "  align-items: start;\n",
       "  justify-content: space-between;\n",
       "  gap: 0.5em;\n",
       "}\n",
       "\n",
       "#sk-container-id-8 label.sk-toggleable__label .caption {\n",
       "  font-size: 0.6rem;\n",
       "  font-weight: lighter;\n",
       "  color: var(--sklearn-color-text-muted);\n",
       "}\n",
       "\n",
       "#sk-container-id-8 label.sk-toggleable__label-arrow:before {\n",
       "  /* Arrow on the left of the label */\n",
       "  content: \"▸\";\n",
       "  float: left;\n",
       "  margin-right: 0.25em;\n",
       "  color: var(--sklearn-color-icon);\n",
       "}\n",
       "\n",
       "#sk-container-id-8 label.sk-toggleable__label-arrow:hover:before {\n",
       "  color: var(--sklearn-color-text);\n",
       "}\n",
       "\n",
       "/* Toggleable content - dropdown */\n",
       "\n",
       "#sk-container-id-8 div.sk-toggleable__content {\n",
       "  max-height: 0;\n",
       "  max-width: 0;\n",
       "  overflow: hidden;\n",
       "  text-align: left;\n",
       "  /* unfitted */\n",
       "  background-color: var(--sklearn-color-unfitted-level-0);\n",
       "}\n",
       "\n",
       "#sk-container-id-8 div.sk-toggleable__content.fitted {\n",
       "  /* fitted */\n",
       "  background-color: var(--sklearn-color-fitted-level-0);\n",
       "}\n",
       "\n",
       "#sk-container-id-8 div.sk-toggleable__content pre {\n",
       "  margin: 0.2em;\n",
       "  border-radius: 0.25em;\n",
       "  color: var(--sklearn-color-text);\n",
       "  /* unfitted */\n",
       "  background-color: var(--sklearn-color-unfitted-level-0);\n",
       "}\n",
       "\n",
       "#sk-container-id-8 div.sk-toggleable__content.fitted pre {\n",
       "  /* unfitted */\n",
       "  background-color: var(--sklearn-color-fitted-level-0);\n",
       "}\n",
       "\n",
       "#sk-container-id-8 input.sk-toggleable__control:checked~div.sk-toggleable__content {\n",
       "  /* Expand drop-down */\n",
       "  max-height: 200px;\n",
       "  max-width: 100%;\n",
       "  overflow: auto;\n",
       "}\n",
       "\n",
       "#sk-container-id-8 input.sk-toggleable__control:checked~label.sk-toggleable__label-arrow:before {\n",
       "  content: \"▾\";\n",
       "}\n",
       "\n",
       "/* Pipeline/ColumnTransformer-specific style */\n",
       "\n",
       "#sk-container-id-8 div.sk-label input.sk-toggleable__control:checked~label.sk-toggleable__label {\n",
       "  color: var(--sklearn-color-text);\n",
       "  background-color: var(--sklearn-color-unfitted-level-2);\n",
       "}\n",
       "\n",
       "#sk-container-id-8 div.sk-label.fitted input.sk-toggleable__control:checked~label.sk-toggleable__label {\n",
       "  background-color: var(--sklearn-color-fitted-level-2);\n",
       "}\n",
       "\n",
       "/* Estimator-specific style */\n",
       "\n",
       "/* Colorize estimator box */\n",
       "#sk-container-id-8 div.sk-estimator input.sk-toggleable__control:checked~label.sk-toggleable__label {\n",
       "  /* unfitted */\n",
       "  background-color: var(--sklearn-color-unfitted-level-2);\n",
       "}\n",
       "\n",
       "#sk-container-id-8 div.sk-estimator.fitted input.sk-toggleable__control:checked~label.sk-toggleable__label {\n",
       "  /* fitted */\n",
       "  background-color: var(--sklearn-color-fitted-level-2);\n",
       "}\n",
       "\n",
       "#sk-container-id-8 div.sk-label label.sk-toggleable__label,\n",
       "#sk-container-id-8 div.sk-label label {\n",
       "  /* The background is the default theme color */\n",
       "  color: var(--sklearn-color-text-on-default-background);\n",
       "}\n",
       "\n",
       "/* On hover, darken the color of the background */\n",
       "#sk-container-id-8 div.sk-label:hover label.sk-toggleable__label {\n",
       "  color: var(--sklearn-color-text);\n",
       "  background-color: var(--sklearn-color-unfitted-level-2);\n",
       "}\n",
       "\n",
       "/* Label box, darken color on hover, fitted */\n",
       "#sk-container-id-8 div.sk-label.fitted:hover label.sk-toggleable__label.fitted {\n",
       "  color: var(--sklearn-color-text);\n",
       "  background-color: var(--sklearn-color-fitted-level-2);\n",
       "}\n",
       "\n",
       "/* Estimator label */\n",
       "\n",
       "#sk-container-id-8 div.sk-label label {\n",
       "  font-family: monospace;\n",
       "  font-weight: bold;\n",
       "  display: inline-block;\n",
       "  line-height: 1.2em;\n",
       "}\n",
       "\n",
       "#sk-container-id-8 div.sk-label-container {\n",
       "  text-align: center;\n",
       "}\n",
       "\n",
       "/* Estimator-specific */\n",
       "#sk-container-id-8 div.sk-estimator {\n",
       "  font-family: monospace;\n",
       "  border: 1px dotted var(--sklearn-color-border-box);\n",
       "  border-radius: 0.25em;\n",
       "  box-sizing: border-box;\n",
       "  margin-bottom: 0.5em;\n",
       "  /* unfitted */\n",
       "  background-color: var(--sklearn-color-unfitted-level-0);\n",
       "}\n",
       "\n",
       "#sk-container-id-8 div.sk-estimator.fitted {\n",
       "  /* fitted */\n",
       "  background-color: var(--sklearn-color-fitted-level-0);\n",
       "}\n",
       "\n",
       "/* on hover */\n",
       "#sk-container-id-8 div.sk-estimator:hover {\n",
       "  /* unfitted */\n",
       "  background-color: var(--sklearn-color-unfitted-level-2);\n",
       "}\n",
       "\n",
       "#sk-container-id-8 div.sk-estimator.fitted:hover {\n",
       "  /* fitted */\n",
       "  background-color: var(--sklearn-color-fitted-level-2);\n",
       "}\n",
       "\n",
       "/* Specification for estimator info (e.g. \"i\" and \"?\") */\n",
       "\n",
       "/* Common style for \"i\" and \"?\" */\n",
       "\n",
       ".sk-estimator-doc-link,\n",
       "a:link.sk-estimator-doc-link,\n",
       "a:visited.sk-estimator-doc-link {\n",
       "  float: right;\n",
       "  font-size: smaller;\n",
       "  line-height: 1em;\n",
       "  font-family: monospace;\n",
       "  background-color: var(--sklearn-color-background);\n",
       "  border-radius: 1em;\n",
       "  height: 1em;\n",
       "  width: 1em;\n",
       "  text-decoration: none !important;\n",
       "  margin-left: 0.5em;\n",
       "  text-align: center;\n",
       "  /* unfitted */\n",
       "  border: var(--sklearn-color-unfitted-level-1) 1pt solid;\n",
       "  color: var(--sklearn-color-unfitted-level-1);\n",
       "}\n",
       "\n",
       ".sk-estimator-doc-link.fitted,\n",
       "a:link.sk-estimator-doc-link.fitted,\n",
       "a:visited.sk-estimator-doc-link.fitted {\n",
       "  /* fitted */\n",
       "  border: var(--sklearn-color-fitted-level-1) 1pt solid;\n",
       "  color: var(--sklearn-color-fitted-level-1);\n",
       "}\n",
       "\n",
       "/* On hover */\n",
       "div.sk-estimator:hover .sk-estimator-doc-link:hover,\n",
       ".sk-estimator-doc-link:hover,\n",
       "div.sk-label-container:hover .sk-estimator-doc-link:hover,\n",
       ".sk-estimator-doc-link:hover {\n",
       "  /* unfitted */\n",
       "  background-color: var(--sklearn-color-unfitted-level-3);\n",
       "  color: var(--sklearn-color-background);\n",
       "  text-decoration: none;\n",
       "}\n",
       "\n",
       "div.sk-estimator.fitted:hover .sk-estimator-doc-link.fitted:hover,\n",
       ".sk-estimator-doc-link.fitted:hover,\n",
       "div.sk-label-container:hover .sk-estimator-doc-link.fitted:hover,\n",
       ".sk-estimator-doc-link.fitted:hover {\n",
       "  /* fitted */\n",
       "  background-color: var(--sklearn-color-fitted-level-3);\n",
       "  color: var(--sklearn-color-background);\n",
       "  text-decoration: none;\n",
       "}\n",
       "\n",
       "/* Span, style for the box shown on hovering the info icon */\n",
       ".sk-estimator-doc-link span {\n",
       "  display: none;\n",
       "  z-index: 9999;\n",
       "  position: relative;\n",
       "  font-weight: normal;\n",
       "  right: .2ex;\n",
       "  padding: .5ex;\n",
       "  margin: .5ex;\n",
       "  width: min-content;\n",
       "  min-width: 20ex;\n",
       "  max-width: 50ex;\n",
       "  color: var(--sklearn-color-text);\n",
       "  box-shadow: 2pt 2pt 4pt #999;\n",
       "  /* unfitted */\n",
       "  background: var(--sklearn-color-unfitted-level-0);\n",
       "  border: .5pt solid var(--sklearn-color-unfitted-level-3);\n",
       "}\n",
       "\n",
       ".sk-estimator-doc-link.fitted span {\n",
       "  /* fitted */\n",
       "  background: var(--sklearn-color-fitted-level-0);\n",
       "  border: var(--sklearn-color-fitted-level-3);\n",
       "}\n",
       "\n",
       ".sk-estimator-doc-link:hover span {\n",
       "  display: block;\n",
       "}\n",
       "\n",
       "/* \"?\"-specific style due to the `<a>` HTML tag */\n",
       "\n",
       "#sk-container-id-8 a.estimator_doc_link {\n",
       "  float: right;\n",
       "  font-size: 1rem;\n",
       "  line-height: 1em;\n",
       "  font-family: monospace;\n",
       "  background-color: var(--sklearn-color-background);\n",
       "  border-radius: 1rem;\n",
       "  height: 1rem;\n",
       "  width: 1rem;\n",
       "  text-decoration: none;\n",
       "  /* unfitted */\n",
       "  color: var(--sklearn-color-unfitted-level-1);\n",
       "  border: var(--sklearn-color-unfitted-level-1) 1pt solid;\n",
       "}\n",
       "\n",
       "#sk-container-id-8 a.estimator_doc_link.fitted {\n",
       "  /* fitted */\n",
       "  border: var(--sklearn-color-fitted-level-1) 1pt solid;\n",
       "  color: var(--sklearn-color-fitted-level-1);\n",
       "}\n",
       "\n",
       "/* On hover */\n",
       "#sk-container-id-8 a.estimator_doc_link:hover {\n",
       "  /* unfitted */\n",
       "  background-color: var(--sklearn-color-unfitted-level-3);\n",
       "  color: var(--sklearn-color-background);\n",
       "  text-decoration: none;\n",
       "}\n",
       "\n",
       "#sk-container-id-8 a.estimator_doc_link.fitted:hover {\n",
       "  /* fitted */\n",
       "  background-color: var(--sklearn-color-fitted-level-3);\n",
       "}\n",
       "</style><div id=\"sk-container-id-8\" class=\"sk-top-container\"><div class=\"sk-text-repr-fallback\"><pre>LinearRegression()</pre><b>In a Jupyter environment, please rerun this cell to show the HTML representation or trust the notebook. <br />On GitHub, the HTML representation is unable to render, please try loading this page with nbviewer.org.</b></div><div class=\"sk-container\" hidden><div class=\"sk-item\"><div class=\"sk-estimator fitted sk-toggleable\"><input class=\"sk-toggleable__control sk-hidden--visually\" id=\"sk-estimator-id-8\" type=\"checkbox\" checked><label for=\"sk-estimator-id-8\" class=\"sk-toggleable__label fitted sk-toggleable__label-arrow\"><div><div>LinearRegression</div></div><div><a class=\"sk-estimator-doc-link fitted\" rel=\"noreferrer\" target=\"_blank\" href=\"https://scikit-learn.org/1.6/modules/generated/sklearn.linear_model.LinearRegression.html\">?<span>Documentation for LinearRegression</span></a><span class=\"sk-estimator-doc-link fitted\">i<span>Fitted</span></span></div></label><div class=\"sk-toggleable__content fitted\"><pre>LinearRegression()</pre></div> </div></div></div></div>"
      ],
      "text/plain": [
       "LinearRegression()"
      ]
     },
     "execution_count": 304,
     "metadata": {},
     "output_type": "execute_result"
    }
   ],
   "source": [
    "# Fit the model on the training data\n",
    "model.fit(X_train_scaled, y_train)"
   ]
  },
  {
   "cell_type": "markdown",
   "id": "aee6a2d0",
   "metadata": {},
   "source": [
    "## Test the Model"
   ]
  },
  {
   "cell_type": "code",
   "execution_count": 305,
   "id": "8d52ba0c",
   "metadata": {},
   "outputs": [],
   "source": [
    "# Predict and evaluate the model\n",
    "y_pred = model.predict(X_test_scaled)      # Linear regression model"
   ]
  },
  {
   "cell_type": "markdown",
   "id": "53541358",
   "metadata": {},
   "source": [
    "## Interpretation of the Model"
   ]
  },
  {
   "cell_type": "code",
   "execution_count": 306,
   "id": "2da6af5b",
   "metadata": {},
   "outputs": [],
   "source": [
    "coeff_df = pd.DataFrame(model.coef_,X.columns,columns=['Coefficient'])   # Linear model cofficients"
   ]
  },
  {
   "cell_type": "code",
   "execution_count": 307,
   "id": "df108c1f",
   "metadata": {},
   "outputs": [
    {
     "data": {
      "text/html": [
       "<div>\n",
       "<style scoped>\n",
       "    .dataframe tbody tr th:only-of-type {\n",
       "        vertical-align: middle;\n",
       "    }\n",
       "\n",
       "    .dataframe tbody tr th {\n",
       "        vertical-align: top;\n",
       "    }\n",
       "\n",
       "    .dataframe thead th {\n",
       "        text-align: right;\n",
       "    }\n",
       "</style>\n",
       "<table border=\"1\" class=\"dataframe\">\n",
       "  <thead>\n",
       "    <tr style=\"text-align: right;\">\n",
       "      <th></th>\n",
       "      <th>Coefficient</th>\n",
       "    </tr>\n",
       "  </thead>\n",
       "  <tbody>\n",
       "    <tr>\n",
       "      <th>appearance</th>\n",
       "      <td>-0.971306</td>\n",
       "    </tr>\n",
       "    <tr>\n",
       "      <th>minutes played</th>\n",
       "      <td>1.941930</td>\n",
       "    </tr>\n",
       "    <tr>\n",
       "      <th>award</th>\n",
       "      <td>-2.004860</td>\n",
       "    </tr>\n",
       "    <tr>\n",
       "      <th>highest_value</th>\n",
       "      <td>7.659188</td>\n",
       "    </tr>\n",
       "    <tr>\n",
       "      <th>team_Arsenal FC</th>\n",
       "      <td>0.510199</td>\n",
       "    </tr>\n",
       "    <tr>\n",
       "      <th>team_Bayern Munich</th>\n",
       "      <td>0.601409</td>\n",
       "    </tr>\n",
       "    <tr>\n",
       "      <th>team_Chelsea FC</th>\n",
       "      <td>0.241121</td>\n",
       "    </tr>\n",
       "    <tr>\n",
       "      <th>team_FC Barcelona</th>\n",
       "      <td>0.341672</td>\n",
       "    </tr>\n",
       "    <tr>\n",
       "      <th>team_Manchester City</th>\n",
       "      <td>0.667964</td>\n",
       "    </tr>\n",
       "    <tr>\n",
       "      <th>team_Paris Saint-Germain</th>\n",
       "      <td>0.460540</td>\n",
       "    </tr>\n",
       "    <tr>\n",
       "      <th>team_Real Madrid</th>\n",
       "      <td>0.222642</td>\n",
       "    </tr>\n",
       "  </tbody>\n",
       "</table>\n",
       "</div>"
      ],
      "text/plain": [
       "                          Coefficient\n",
       "appearance                  -0.971306\n",
       "minutes played               1.941930\n",
       "award                       -2.004860\n",
       "highest_value                7.659188\n",
       "team_Arsenal FC              0.510199\n",
       "team_Bayern Munich           0.601409\n",
       "team_Chelsea FC              0.241121\n",
       "team_FC Barcelona            0.341672\n",
       "team_Manchester City         0.667964\n",
       "team_Paris Saint-Germain     0.460540\n",
       "team_Real Madrid             0.222642"
      ]
     },
     "execution_count": 307,
     "metadata": {},
     "output_type": "execute_result"
    }
   ],
   "source": [
    "coeff_df"
   ]
  },
  {
   "cell_type": "code",
   "execution_count": 308,
   "id": "ea92b0b5",
   "metadata": {},
   "outputs": [
    {
     "name": "stdout",
     "output_type": "stream",
     "text": [
      " Linear regression intercept: 3.622354992444496\n"
     ]
    }
   ],
   "source": [
    "print(f\" Linear regression intercept: {model.intercept_}\") "
   ]
  },
  {
   "cell_type": "markdown",
   "id": "14766f6e",
   "metadata": {},
   "source": [
    "## Evaluating the Model "
   ]
  },
  {
   "cell_type": "markdown",
   "id": "b907d256",
   "metadata": {},
   "source": [
    "1. Mean Square Error"
   ]
  },
  {
   "cell_type": "code",
   "execution_count": 309,
   "id": "faf14e59",
   "metadata": {},
   "outputs": [],
   "source": [
    "y_base = [y_train.mean()] * len(y_test)"
   ]
  },
  {
   "cell_type": "code",
   "execution_count": 310,
   "id": "c2d8c4a8",
   "metadata": {},
   "outputs": [
    {
     "data": {
      "text/plain": [
       "[3.6223549924444964,\n",
       " 3.6223549924444964,\n",
       " 3.6223549924444964,\n",
       " 3.6223549924444964,\n",
       " 3.6223549924444964,\n",
       " 3.6223549924444964,\n",
       " 3.6223549924444964,\n",
       " 3.6223549924444964,\n",
       " 3.6223549924444964,\n",
       " 3.6223549924444964,\n",
       " 3.6223549924444964,\n",
       " 3.6223549924444964,\n",
       " 3.6223549924444964,\n",
       " 3.6223549924444964,\n",
       " 3.6223549924444964,\n",
       " 3.6223549924444964,\n",
       " 3.6223549924444964,\n",
       " 3.6223549924444964,\n",
       " 3.6223549924444964,\n",
       " 3.6223549924444964,\n",
       " 3.6223549924444964,\n",
       " 3.6223549924444964,\n",
       " 3.6223549924444964,\n",
       " 3.6223549924444964,\n",
       " 3.6223549924444964,\n",
       " 3.6223549924444964,\n",
       " 3.6223549924444964,\n",
       " 3.6223549924444964,\n",
       " 3.6223549924444964,\n",
       " 3.6223549924444964,\n",
       " 3.6223549924444964,\n",
       " 3.6223549924444964,\n",
       " 3.6223549924444964,\n",
       " 3.6223549924444964,\n",
       " 3.6223549924444964,\n",
       " 3.6223549924444964,\n",
       " 3.6223549924444964,\n",
       " 3.6223549924444964,\n",
       " 3.6223549924444964,\n",
       " 3.6223549924444964,\n",
       " 3.6223549924444964,\n",
       " 3.6223549924444964,\n",
       " 3.6223549924444964,\n",
       " 3.6223549924444964,\n",
       " 3.6223549924444964,\n",
       " 3.6223549924444964,\n",
       " 3.6223549924444964,\n",
       " 3.6223549924444964,\n",
       " 3.6223549924444964,\n",
       " 3.6223549924444964,\n",
       " 3.6223549924444964,\n",
       " 3.6223549924444964,\n",
       " 3.6223549924444964,\n",
       " 3.6223549924444964,\n",
       " 3.6223549924444964,\n",
       " 3.6223549924444964,\n",
       " 3.6223549924444964,\n",
       " 3.6223549924444964,\n",
       " 3.6223549924444964,\n",
       " 3.6223549924444964,\n",
       " 3.6223549924444964,\n",
       " 3.6223549924444964,\n",
       " 3.6223549924444964,\n",
       " 3.6223549924444964,\n",
       " 3.6223549924444964,\n",
       " 3.6223549924444964,\n",
       " 3.6223549924444964,\n",
       " 3.6223549924444964,\n",
       " 3.6223549924444964,\n",
       " 3.6223549924444964,\n",
       " 3.6223549924444964,\n",
       " 3.6223549924444964,\n",
       " 3.6223549924444964,\n",
       " 3.6223549924444964,\n",
       " 3.6223549924444964,\n",
       " 3.6223549924444964,\n",
       " 3.6223549924444964,\n",
       " 3.6223549924444964,\n",
       " 3.6223549924444964,\n",
       " 3.6223549924444964,\n",
       " 3.6223549924444964,\n",
       " 3.6223549924444964,\n",
       " 3.6223549924444964,\n",
       " 3.6223549924444964,\n",
       " 3.6223549924444964,\n",
       " 3.6223549924444964,\n",
       " 3.6223549924444964,\n",
       " 3.6223549924444964,\n",
       " 3.6223549924444964,\n",
       " 3.6223549924444964,\n",
       " 3.6223549924444964,\n",
       " 3.6223549924444964,\n",
       " 3.6223549924444964,\n",
       " 3.6223549924444964,\n",
       " 3.6223549924444964,\n",
       " 3.6223549924444964,\n",
       " 3.6223549924444964,\n",
       " 3.6223549924444964,\n",
       " 3.6223549924444964,\n",
       " 3.6223549924444964,\n",
       " 3.6223549924444964,\n",
       " 3.6223549924444964,\n",
       " 3.6223549924444964,\n",
       " 3.6223549924444964,\n",
       " 3.6223549924444964,\n",
       " 3.6223549924444964,\n",
       " 3.6223549924444964,\n",
       " 3.6223549924444964,\n",
       " 3.6223549924444964,\n",
       " 3.6223549924444964,\n",
       " 3.6223549924444964,\n",
       " 3.6223549924444964,\n",
       " 3.6223549924444964,\n",
       " 3.6223549924444964,\n",
       " 3.6223549924444964,\n",
       " 3.6223549924444964,\n",
       " 3.6223549924444964,\n",
       " 3.6223549924444964,\n",
       " 3.6223549924444964,\n",
       " 3.6223549924444964,\n",
       " 3.6223549924444964,\n",
       " 3.6223549924444964,\n",
       " 3.6223549924444964,\n",
       " 3.6223549924444964,\n",
       " 3.6223549924444964,\n",
       " 3.6223549924444964,\n",
       " 3.6223549924444964,\n",
       " 3.6223549924444964,\n",
       " 3.6223549924444964,\n",
       " 3.6223549924444964,\n",
       " 3.6223549924444964,\n",
       " 3.6223549924444964,\n",
       " 3.6223549924444964,\n",
       " 3.6223549924444964,\n",
       " 3.6223549924444964,\n",
       " 3.6223549924444964,\n",
       " 3.6223549924444964,\n",
       " 3.6223549924444964,\n",
       " 3.6223549924444964,\n",
       " 3.6223549924444964,\n",
       " 3.6223549924444964,\n",
       " 3.6223549924444964,\n",
       " 3.6223549924444964,\n",
       " 3.6223549924444964,\n",
       " 3.6223549924444964,\n",
       " 3.6223549924444964,\n",
       " 3.6223549924444964,\n",
       " 3.6223549924444964,\n",
       " 3.6223549924444964,\n",
       " 3.6223549924444964,\n",
       " 3.6223549924444964,\n",
       " 3.6223549924444964,\n",
       " 3.6223549924444964,\n",
       " 3.6223549924444964,\n",
       " 3.6223549924444964,\n",
       " 3.6223549924444964,\n",
       " 3.6223549924444964,\n",
       " 3.6223549924444964,\n",
       " 3.6223549924444964,\n",
       " 3.6223549924444964,\n",
       " 3.6223549924444964,\n",
       " 3.6223549924444964,\n",
       " 3.6223549924444964,\n",
       " 3.6223549924444964,\n",
       " 3.6223549924444964,\n",
       " 3.6223549924444964,\n",
       " 3.6223549924444964,\n",
       " 3.6223549924444964,\n",
       " 3.6223549924444964,\n",
       " 3.6223549924444964,\n",
       " 3.6223549924444964,\n",
       " 3.6223549924444964,\n",
       " 3.6223549924444964,\n",
       " 3.6223549924444964,\n",
       " 3.6223549924444964,\n",
       " 3.6223549924444964,\n",
       " 3.6223549924444964,\n",
       " 3.6223549924444964,\n",
       " 3.6223549924444964,\n",
       " 3.6223549924444964,\n",
       " 3.6223549924444964,\n",
       " 3.6223549924444964,\n",
       " 3.6223549924444964,\n",
       " 3.6223549924444964,\n",
       " 3.6223549924444964,\n",
       " 3.6223549924444964,\n",
       " 3.6223549924444964,\n",
       " 3.6223549924444964,\n",
       " 3.6223549924444964,\n",
       " 3.6223549924444964,\n",
       " 3.6223549924444964,\n",
       " 3.6223549924444964,\n",
       " 3.6223549924444964,\n",
       " 3.6223549924444964,\n",
       " 3.6223549924444964,\n",
       " 3.6223549924444964,\n",
       " 3.6223549924444964,\n",
       " 3.6223549924444964,\n",
       " 3.6223549924444964,\n",
       " 3.6223549924444964,\n",
       " 3.6223549924444964,\n",
       " 3.6223549924444964,\n",
       " 3.6223549924444964,\n",
       " 3.6223549924444964,\n",
       " 3.6223549924444964,\n",
       " 3.6223549924444964,\n",
       " 3.6223549924444964,\n",
       " 3.6223549924444964,\n",
       " 3.6223549924444964,\n",
       " 3.6223549924444964,\n",
       " 3.6223549924444964,\n",
       " 3.6223549924444964,\n",
       " 3.6223549924444964,\n",
       " 3.6223549924444964,\n",
       " 3.6223549924444964,\n",
       " 3.6223549924444964,\n",
       " 3.6223549924444964,\n",
       " 3.6223549924444964,\n",
       " 3.6223549924444964,\n",
       " 3.6223549924444964,\n",
       " 3.6223549924444964,\n",
       " 3.6223549924444964,\n",
       " 3.6223549924444964,\n",
       " 3.6223549924444964,\n",
       " 3.6223549924444964,\n",
       " 3.6223549924444964,\n",
       " 3.6223549924444964,\n",
       " 3.6223549924444964,\n",
       " 3.6223549924444964,\n",
       " 3.6223549924444964,\n",
       " 3.6223549924444964,\n",
       " 3.6223549924444964,\n",
       " 3.6223549924444964,\n",
       " 3.6223549924444964,\n",
       " 3.6223549924444964,\n",
       " 3.6223549924444964,\n",
       " 3.6223549924444964,\n",
       " 3.6223549924444964,\n",
       " 3.6223549924444964,\n",
       " 3.6223549924444964,\n",
       " 3.6223549924444964,\n",
       " 3.6223549924444964,\n",
       " 3.6223549924444964,\n",
       " 3.6223549924444964,\n",
       " 3.6223549924444964,\n",
       " 3.6223549924444964,\n",
       " 3.6223549924444964,\n",
       " 3.6223549924444964,\n",
       " 3.6223549924444964,\n",
       " 3.6223549924444964,\n",
       " 3.6223549924444964,\n",
       " 3.6223549924444964,\n",
       " 3.6223549924444964,\n",
       " 3.6223549924444964,\n",
       " 3.6223549924444964,\n",
       " 3.6223549924444964,\n",
       " 3.6223549924444964,\n",
       " 3.6223549924444964,\n",
       " 3.6223549924444964,\n",
       " 3.6223549924444964,\n",
       " 3.6223549924444964,\n",
       " 3.6223549924444964,\n",
       " 3.6223549924444964,\n",
       " 3.6223549924444964,\n",
       " 3.6223549924444964,\n",
       " 3.6223549924444964,\n",
       " 3.6223549924444964,\n",
       " 3.6223549924444964,\n",
       " 3.6223549924444964,\n",
       " 3.6223549924444964,\n",
       " 3.6223549924444964,\n",
       " 3.6223549924444964,\n",
       " 3.6223549924444964,\n",
       " 3.6223549924444964,\n",
       " 3.6223549924444964,\n",
       " 3.6223549924444964,\n",
       " 3.6223549924444964,\n",
       " 3.6223549924444964,\n",
       " 3.6223549924444964,\n",
       " 3.6223549924444964,\n",
       " 3.6223549924444964,\n",
       " 3.6223549924444964,\n",
       " 3.6223549924444964,\n",
       " 3.6223549924444964,\n",
       " 3.6223549924444964,\n",
       " 3.6223549924444964,\n",
       " 3.6223549924444964,\n",
       " 3.6223549924444964,\n",
       " 3.6223549924444964,\n",
       " 3.6223549924444964,\n",
       " 3.6223549924444964,\n",
       " 3.6223549924444964,\n",
       " 3.6223549924444964,\n",
       " 3.6223549924444964,\n",
       " 3.6223549924444964,\n",
       " 3.6223549924444964,\n",
       " 3.6223549924444964,\n",
       " 3.6223549924444964,\n",
       " 3.6223549924444964,\n",
       " 3.6223549924444964,\n",
       " 3.6223549924444964,\n",
       " 3.6223549924444964,\n",
       " 3.6223549924444964,\n",
       " 3.6223549924444964,\n",
       " 3.6223549924444964,\n",
       " 3.6223549924444964,\n",
       " 3.6223549924444964,\n",
       " 3.6223549924444964,\n",
       " 3.6223549924444964,\n",
       " 3.6223549924444964,\n",
       " 3.6223549924444964,\n",
       " 3.6223549924444964,\n",
       " 3.6223549924444964,\n",
       " 3.6223549924444964,\n",
       " 3.6223549924444964,\n",
       " 3.6223549924444964,\n",
       " 3.6223549924444964,\n",
       " 3.6223549924444964,\n",
       " 3.6223549924444964,\n",
       " 3.6223549924444964,\n",
       " 3.6223549924444964,\n",
       " 3.6223549924444964,\n",
       " 3.6223549924444964,\n",
       " 3.6223549924444964,\n",
       " 3.6223549924444964,\n",
       " 3.6223549924444964,\n",
       " 3.6223549924444964,\n",
       " 3.6223549924444964,\n",
       " 3.6223549924444964,\n",
       " 3.6223549924444964,\n",
       " 3.6223549924444964,\n",
       " 3.6223549924444964,\n",
       " 3.6223549924444964,\n",
       " 3.6223549924444964,\n",
       " 3.6223549924444964,\n",
       " 3.6223549924444964,\n",
       " 3.6223549924444964,\n",
       " 3.6223549924444964,\n",
       " 3.6223549924444964,\n",
       " 3.6223549924444964,\n",
       " 3.6223549924444964,\n",
       " 3.6223549924444964,\n",
       " 3.6223549924444964,\n",
       " 3.6223549924444964,\n",
       " 3.6223549924444964,\n",
       " 3.6223549924444964,\n",
       " 3.6223549924444964,\n",
       " 3.6223549924444964,\n",
       " 3.6223549924444964,\n",
       " 3.6223549924444964,\n",
       " 3.6223549924444964,\n",
       " 3.6223549924444964,\n",
       " 3.6223549924444964,\n",
       " 3.6223549924444964,\n",
       " 3.6223549924444964,\n",
       " 3.6223549924444964,\n",
       " 3.6223549924444964,\n",
       " 3.6223549924444964,\n",
       " 3.6223549924444964,\n",
       " 3.6223549924444964,\n",
       " 3.6223549924444964,\n",
       " 3.6223549924444964,\n",
       " 3.6223549924444964,\n",
       " 3.6223549924444964,\n",
       " 3.6223549924444964,\n",
       " 3.6223549924444964,\n",
       " 3.6223549924444964,\n",
       " 3.6223549924444964,\n",
       " 3.6223549924444964,\n",
       " 3.6223549924444964,\n",
       " 3.6223549924444964,\n",
       " 3.6223549924444964,\n",
       " 3.6223549924444964,\n",
       " 3.6223549924444964,\n",
       " 3.6223549924444964,\n",
       " 3.6223549924444964,\n",
       " 3.6223549924444964,\n",
       " 3.6223549924444964,\n",
       " 3.6223549924444964,\n",
       " 3.6223549924444964,\n",
       " 3.6223549924444964,\n",
       " 3.6223549924444964,\n",
       " 3.6223549924444964,\n",
       " 3.6223549924444964,\n",
       " 3.6223549924444964,\n",
       " 3.6223549924444964,\n",
       " 3.6223549924444964,\n",
       " 3.6223549924444964,\n",
       " 3.6223549924444964,\n",
       " 3.6223549924444964,\n",
       " 3.6223549924444964,\n",
       " 3.6223549924444964,\n",
       " 3.6223549924444964,\n",
       " 3.6223549924444964,\n",
       " 3.6223549924444964,\n",
       " 3.6223549924444964,\n",
       " 3.6223549924444964,\n",
       " 3.6223549924444964,\n",
       " 3.6223549924444964,\n",
       " 3.6223549924444964,\n",
       " 3.6223549924444964,\n",
       " 3.6223549924444964,\n",
       " 3.6223549924444964,\n",
       " 3.6223549924444964,\n",
       " 3.6223549924444964,\n",
       " 3.6223549924444964,\n",
       " 3.6223549924444964,\n",
       " 3.6223549924444964,\n",
       " 3.6223549924444964,\n",
       " 3.6223549924444964,\n",
       " 3.6223549924444964,\n",
       " 3.6223549924444964,\n",
       " 3.6223549924444964,\n",
       " 3.6223549924444964,\n",
       " 3.6223549924444964,\n",
       " 3.6223549924444964,\n",
       " 3.6223549924444964,\n",
       " 3.6223549924444964,\n",
       " 3.6223549924444964,\n",
       " 3.6223549924444964,\n",
       " 3.6223549924444964,\n",
       " 3.6223549924444964,\n",
       " 3.6223549924444964,\n",
       " 3.6223549924444964,\n",
       " 3.6223549924444964,\n",
       " 3.6223549924444964,\n",
       " 3.6223549924444964,\n",
       " 3.6223549924444964,\n",
       " 3.6223549924444964,\n",
       " 3.6223549924444964,\n",
       " 3.6223549924444964,\n",
       " 3.6223549924444964,\n",
       " 3.6223549924444964,\n",
       " 3.6223549924444964,\n",
       " 3.6223549924444964,\n",
       " 3.6223549924444964,\n",
       " 3.6223549924444964,\n",
       " 3.6223549924444964,\n",
       " 3.6223549924444964,\n",
       " 3.6223549924444964,\n",
       " 3.6223549924444964,\n",
       " 3.6223549924444964,\n",
       " 3.6223549924444964,\n",
       " 3.6223549924444964,\n",
       " 3.6223549924444964,\n",
       " 3.6223549924444964,\n",
       " 3.6223549924444964,\n",
       " 3.6223549924444964,\n",
       " 3.6223549924444964,\n",
       " 3.6223549924444964,\n",
       " 3.6223549924444964,\n",
       " 3.6223549924444964,\n",
       " 3.6223549924444964,\n",
       " 3.6223549924444964,\n",
       " 3.6223549924444964,\n",
       " 3.6223549924444964,\n",
       " 3.6223549924444964,\n",
       " 3.6223549924444964,\n",
       " 3.6223549924444964,\n",
       " 3.6223549924444964,\n",
       " 3.6223549924444964,\n",
       " 3.6223549924444964,\n",
       " 3.6223549924444964,\n",
       " 3.6223549924444964,\n",
       " 3.6223549924444964,\n",
       " 3.6223549924444964,\n",
       " 3.6223549924444964,\n",
       " 3.6223549924444964,\n",
       " 3.6223549924444964,\n",
       " 3.6223549924444964,\n",
       " 3.6223549924444964,\n",
       " 3.6223549924444964,\n",
       " 3.6223549924444964,\n",
       " 3.6223549924444964,\n",
       " 3.6223549924444964,\n",
       " 3.6223549924444964,\n",
       " 3.6223549924444964,\n",
       " 3.6223549924444964,\n",
       " 3.6223549924444964,\n",
       " 3.6223549924444964,\n",
       " 3.6223549924444964,\n",
       " 3.6223549924444964,\n",
       " 3.6223549924444964,\n",
       " 3.6223549924444964,\n",
       " 3.6223549924444964,\n",
       " 3.6223549924444964,\n",
       " 3.6223549924444964,\n",
       " 3.6223549924444964,\n",
       " 3.6223549924444964,\n",
       " 3.6223549924444964,\n",
       " 3.6223549924444964,\n",
       " 3.6223549924444964,\n",
       " 3.6223549924444964,\n",
       " 3.6223549924444964,\n",
       " 3.6223549924444964,\n",
       " 3.6223549924444964,\n",
       " 3.6223549924444964,\n",
       " 3.6223549924444964,\n",
       " 3.6223549924444964,\n",
       " 3.6223549924444964,\n",
       " 3.6223549924444964,\n",
       " 3.6223549924444964,\n",
       " 3.6223549924444964,\n",
       " 3.6223549924444964,\n",
       " 3.6223549924444964,\n",
       " 3.6223549924444964,\n",
       " 3.6223549924444964,\n",
       " 3.6223549924444964,\n",
       " 3.6223549924444964,\n",
       " 3.6223549924444964,\n",
       " 3.6223549924444964,\n",
       " 3.6223549924444964,\n",
       " 3.6223549924444964,\n",
       " 3.6223549924444964,\n",
       " 3.6223549924444964,\n",
       " 3.6223549924444964,\n",
       " 3.6223549924444964,\n",
       " 3.6223549924444964,\n",
       " 3.6223549924444964,\n",
       " 3.6223549924444964,\n",
       " 3.6223549924444964,\n",
       " 3.6223549924444964,\n",
       " 3.6223549924444964,\n",
       " 3.6223549924444964,\n",
       " 3.6223549924444964,\n",
       " 3.6223549924444964,\n",
       " 3.6223549924444964,\n",
       " 3.6223549924444964,\n",
       " 3.6223549924444964,\n",
       " 3.6223549924444964,\n",
       " 3.6223549924444964,\n",
       " 3.6223549924444964,\n",
       " 3.6223549924444964,\n",
       " 3.6223549924444964,\n",
       " 3.6223549924444964,\n",
       " 3.6223549924444964,\n",
       " 3.6223549924444964,\n",
       " 3.6223549924444964,\n",
       " 3.6223549924444964,\n",
       " 3.6223549924444964,\n",
       " 3.6223549924444964,\n",
       " 3.6223549924444964,\n",
       " 3.6223549924444964,\n",
       " 3.6223549924444964,\n",
       " 3.6223549924444964,\n",
       " 3.6223549924444964,\n",
       " 3.6223549924444964,\n",
       " 3.6223549924444964,\n",
       " 3.6223549924444964,\n",
       " 3.6223549924444964,\n",
       " 3.6223549924444964,\n",
       " 3.6223549924444964,\n",
       " 3.6223549924444964,\n",
       " 3.6223549924444964,\n",
       " 3.6223549924444964,\n",
       " 3.6223549924444964,\n",
       " 3.6223549924444964,\n",
       " 3.6223549924444964,\n",
       " 3.6223549924444964,\n",
       " 3.6223549924444964,\n",
       " 3.6223549924444964,\n",
       " 3.6223549924444964,\n",
       " 3.6223549924444964,\n",
       " 3.6223549924444964,\n",
       " 3.6223549924444964,\n",
       " 3.6223549924444964,\n",
       " 3.6223549924444964,\n",
       " 3.6223549924444964,\n",
       " 3.6223549924444964,\n",
       " 3.6223549924444964,\n",
       " 3.6223549924444964,\n",
       " 3.6223549924444964,\n",
       " 3.6223549924444964,\n",
       " 3.6223549924444964,\n",
       " 3.6223549924444964,\n",
       " 3.6223549924444964,\n",
       " 3.6223549924444964,\n",
       " 3.6223549924444964,\n",
       " 3.6223549924444964,\n",
       " 3.6223549924444964,\n",
       " 3.6223549924444964,\n",
       " 3.6223549924444964,\n",
       " 3.6223549924444964,\n",
       " 3.6223549924444964,\n",
       " 3.6223549924444964,\n",
       " 3.6223549924444964,\n",
       " 3.6223549924444964,\n",
       " 3.6223549924444964,\n",
       " 3.6223549924444964,\n",
       " 3.6223549924444964,\n",
       " 3.6223549924444964,\n",
       " 3.6223549924444964,\n",
       " 3.6223549924444964,\n",
       " 3.6223549924444964,\n",
       " 3.6223549924444964,\n",
       " 3.6223549924444964,\n",
       " 3.6223549924444964,\n",
       " 3.6223549924444964,\n",
       " 3.6223549924444964,\n",
       " 3.6223549924444964,\n",
       " 3.6223549924444964,\n",
       " 3.6223549924444964,\n",
       " 3.6223549924444964,\n",
       " 3.6223549924444964,\n",
       " 3.6223549924444964,\n",
       " 3.6223549924444964,\n",
       " 3.6223549924444964,\n",
       " 3.6223549924444964,\n",
       " 3.6223549924444964,\n",
       " 3.6223549924444964,\n",
       " 3.6223549924444964,\n",
       " 3.6223549924444964,\n",
       " 3.6223549924444964,\n",
       " 3.6223549924444964,\n",
       " 3.6223549924444964,\n",
       " 3.6223549924444964,\n",
       " 3.6223549924444964,\n",
       " 3.6223549924444964,\n",
       " 3.6223549924444964,\n",
       " 3.6223549924444964,\n",
       " 3.6223549924444964,\n",
       " 3.6223549924444964,\n",
       " 3.6223549924444964,\n",
       " 3.6223549924444964,\n",
       " 3.6223549924444964,\n",
       " 3.6223549924444964,\n",
       " 3.6223549924444964,\n",
       " 3.6223549924444964,\n",
       " 3.6223549924444964,\n",
       " 3.6223549924444964,\n",
       " 3.6223549924444964,\n",
       " 3.6223549924444964,\n",
       " 3.6223549924444964,\n",
       " 3.6223549924444964,\n",
       " 3.6223549924444964,\n",
       " 3.6223549924444964,\n",
       " 3.6223549924444964,\n",
       " 3.6223549924444964,\n",
       " 3.6223549924444964,\n",
       " 3.6223549924444964,\n",
       " 3.6223549924444964,\n",
       " 3.6223549924444964,\n",
       " 3.6223549924444964,\n",
       " 3.6223549924444964,\n",
       " 3.6223549924444964,\n",
       " 3.6223549924444964,\n",
       " 3.6223549924444964,\n",
       " 3.6223549924444964,\n",
       " 3.6223549924444964,\n",
       " 3.6223549924444964,\n",
       " 3.6223549924444964,\n",
       " 3.6223549924444964,\n",
       " 3.6223549924444964,\n",
       " 3.6223549924444964,\n",
       " 3.6223549924444964,\n",
       " 3.6223549924444964,\n",
       " 3.6223549924444964,\n",
       " 3.6223549924444964,\n",
       " 3.6223549924444964,\n",
       " 3.6223549924444964,\n",
       " 3.6223549924444964,\n",
       " 3.6223549924444964,\n",
       " 3.6223549924444964,\n",
       " 3.6223549924444964,\n",
       " 3.6223549924444964,\n",
       " 3.6223549924444964,\n",
       " 3.6223549924444964,\n",
       " 3.6223549924444964,\n",
       " 3.6223549924444964,\n",
       " 3.6223549924444964,\n",
       " 3.6223549924444964,\n",
       " 3.6223549924444964,\n",
       " 3.6223549924444964,\n",
       " 3.6223549924444964,\n",
       " 3.6223549924444964,\n",
       " 3.6223549924444964,\n",
       " 3.6223549924444964,\n",
       " 3.6223549924444964,\n",
       " 3.6223549924444964,\n",
       " 3.6223549924444964,\n",
       " 3.6223549924444964,\n",
       " 3.6223549924444964,\n",
       " 3.6223549924444964,\n",
       " 3.6223549924444964,\n",
       " 3.6223549924444964,\n",
       " 3.6223549924444964,\n",
       " 3.6223549924444964,\n",
       " 3.6223549924444964,\n",
       " 3.6223549924444964,\n",
       " 3.6223549924444964,\n",
       " 3.6223549924444964,\n",
       " 3.6223549924444964,\n",
       " 3.6223549924444964,\n",
       " 3.6223549924444964,\n",
       " 3.6223549924444964,\n",
       " 3.6223549924444964,\n",
       " 3.6223549924444964,\n",
       " 3.6223549924444964,\n",
       " 3.6223549924444964,\n",
       " 3.6223549924444964,\n",
       " 3.6223549924444964,\n",
       " 3.6223549924444964,\n",
       " 3.6223549924444964,\n",
       " 3.6223549924444964,\n",
       " 3.6223549924444964,\n",
       " 3.6223549924444964,\n",
       " 3.6223549924444964,\n",
       " 3.6223549924444964,\n",
       " 3.6223549924444964,\n",
       " 3.6223549924444964,\n",
       " 3.6223549924444964,\n",
       " 3.6223549924444964,\n",
       " 3.6223549924444964,\n",
       " 3.6223549924444964,\n",
       " 3.6223549924444964,\n",
       " 3.6223549924444964,\n",
       " 3.6223549924444964,\n",
       " 3.6223549924444964,\n",
       " 3.6223549924444964,\n",
       " 3.6223549924444964,\n",
       " 3.6223549924444964,\n",
       " 3.6223549924444964,\n",
       " 3.6223549924444964,\n",
       " 3.6223549924444964,\n",
       " 3.6223549924444964,\n",
       " 3.6223549924444964,\n",
       " 3.6223549924444964,\n",
       " 3.6223549924444964,\n",
       " 3.6223549924444964,\n",
       " 3.6223549924444964,\n",
       " 3.6223549924444964,\n",
       " 3.6223549924444964,\n",
       " 3.6223549924444964,\n",
       " 3.6223549924444964,\n",
       " 3.6223549924444964,\n",
       " 3.6223549924444964,\n",
       " 3.6223549924444964,\n",
       " 3.6223549924444964,\n",
       " 3.6223549924444964,\n",
       " 3.6223549924444964,\n",
       " 3.6223549924444964,\n",
       " 3.6223549924444964,\n",
       " 3.6223549924444964,\n",
       " 3.6223549924444964,\n",
       " 3.6223549924444964,\n",
       " 3.6223549924444964,\n",
       " 3.6223549924444964,\n",
       " 3.6223549924444964,\n",
       " 3.6223549924444964,\n",
       " 3.6223549924444964,\n",
       " 3.6223549924444964,\n",
       " 3.6223549924444964,\n",
       " 3.6223549924444964,\n",
       " 3.6223549924444964,\n",
       " 3.6223549924444964,\n",
       " 3.6223549924444964,\n",
       " 3.6223549924444964,\n",
       " 3.6223549924444964,\n",
       " 3.6223549924444964,\n",
       " 3.6223549924444964,\n",
       " 3.6223549924444964,\n",
       " 3.6223549924444964,\n",
       " 3.6223549924444964,\n",
       " 3.6223549924444964,\n",
       " 3.6223549924444964,\n",
       " 3.6223549924444964,\n",
       " 3.6223549924444964,\n",
       " 3.6223549924444964,\n",
       " 3.6223549924444964,\n",
       " 3.6223549924444964,\n",
       " 3.6223549924444964,\n",
       " 3.6223549924444964,\n",
       " 3.6223549924444964,\n",
       " 3.6223549924444964,\n",
       " 3.6223549924444964,\n",
       " 3.6223549924444964,\n",
       " 3.6223549924444964,\n",
       " 3.6223549924444964,\n",
       " 3.6223549924444964,\n",
       " 3.6223549924444964,\n",
       " 3.6223549924444964,\n",
       " 3.6223549924444964,\n",
       " 3.6223549924444964,\n",
       " 3.6223549924444964,\n",
       " 3.6223549924444964,\n",
       " 3.6223549924444964,\n",
       " 3.6223549924444964,\n",
       " 3.6223549924444964,\n",
       " 3.6223549924444964,\n",
       " 3.6223549924444964,\n",
       " 3.6223549924444964,\n",
       " 3.6223549924444964,\n",
       " 3.6223549924444964,\n",
       " 3.6223549924444964,\n",
       " 3.6223549924444964,\n",
       " 3.6223549924444964,\n",
       " 3.6223549924444964,\n",
       " 3.6223549924444964,\n",
       " 3.6223549924444964,\n",
       " 3.6223549924444964,\n",
       " 3.6223549924444964,\n",
       " 3.6223549924444964,\n",
       " 3.6223549924444964,\n",
       " 3.6223549924444964,\n",
       " 3.6223549924444964,\n",
       " 3.6223549924444964,\n",
       " 3.6223549924444964,\n",
       " 3.6223549924444964,\n",
       " 3.6223549924444964,\n",
       " 3.6223549924444964,\n",
       " 3.6223549924444964,\n",
       " 3.6223549924444964,\n",
       " 3.6223549924444964,\n",
       " 3.6223549924444964,\n",
       " 3.6223549924444964,\n",
       " 3.6223549924444964,\n",
       " 3.6223549924444964,\n",
       " 3.6223549924444964,\n",
       " 3.6223549924444964,\n",
       " 3.6223549924444964,\n",
       " 3.6223549924444964,\n",
       " 3.6223549924444964,\n",
       " 3.6223549924444964,\n",
       " 3.6223549924444964,\n",
       " 3.6223549924444964,\n",
       " 3.6223549924444964,\n",
       " 3.6223549924444964,\n",
       " 3.6223549924444964,\n",
       " 3.6223549924444964,\n",
       " 3.6223549924444964,\n",
       " 3.6223549924444964,\n",
       " 3.6223549924444964,\n",
       " 3.6223549924444964,\n",
       " 3.6223549924444964,\n",
       " 3.6223549924444964,\n",
       " 3.6223549924444964,\n",
       " 3.6223549924444964,\n",
       " 3.6223549924444964,\n",
       " 3.6223549924444964,\n",
       " 3.6223549924444964,\n",
       " 3.6223549924444964,\n",
       " 3.6223549924444964,\n",
       " 3.6223549924444964,\n",
       " 3.6223549924444964,\n",
       " 3.6223549924444964,\n",
       " 3.6223549924444964,\n",
       " 3.6223549924444964,\n",
       " 3.6223549924444964,\n",
       " 3.6223549924444964,\n",
       " 3.6223549924444964,\n",
       " 3.6223549924444964,\n",
       " 3.6223549924444964,\n",
       " 3.6223549924444964,\n",
       " 3.6223549924444964,\n",
       " 3.6223549924444964,\n",
       " 3.6223549924444964,\n",
       " 3.6223549924444964,\n",
       " 3.6223549924444964,\n",
       " 3.6223549924444964,\n",
       " 3.6223549924444964,\n",
       " 3.6223549924444964,\n",
       " 3.6223549924444964,\n",
       " 3.6223549924444964,\n",
       " 3.6223549924444964,\n",
       " 3.6223549924444964,\n",
       " 3.6223549924444964,\n",
       " 3.6223549924444964,\n",
       " 3.6223549924444964,\n",
       " 3.6223549924444964,\n",
       " 3.6223549924444964,\n",
       " 3.6223549924444964,\n",
       " 3.6223549924444964,\n",
       " 3.6223549924444964,\n",
       " 3.6223549924444964,\n",
       " 3.6223549924444964,\n",
       " 3.6223549924444964,\n",
       " 3.6223549924444964,\n",
       " 3.6223549924444964,\n",
       " 3.6223549924444964,\n",
       " 3.6223549924444964,\n",
       " 3.6223549924444964,\n",
       " 3.6223549924444964,\n",
       " 3.6223549924444964,\n",
       " 3.6223549924444964,\n",
       " 3.6223549924444964,\n",
       " 3.6223549924444964,\n",
       " 3.6223549924444964,\n",
       " 3.6223549924444964,\n",
       " 3.6223549924444964,\n",
       " 3.6223549924444964,\n",
       " 3.6223549924444964,\n",
       " 3.6223549924444964,\n",
       " 3.6223549924444964,\n",
       " 3.6223549924444964,\n",
       " 3.6223549924444964,\n",
       " 3.6223549924444964,\n",
       " 3.6223549924444964,\n",
       " 3.6223549924444964,\n",
       " 3.6223549924444964,\n",
       " 3.6223549924444964,\n",
       " 3.6223549924444964,\n",
       " 3.6223549924444964,\n",
       " 3.6223549924444964,\n",
       " 3.6223549924444964,\n",
       " 3.6223549924444964,\n",
       " 3.6223549924444964,\n",
       " 3.6223549924444964,\n",
       " 3.6223549924444964,\n",
       " 3.6223549924444964,\n",
       " 3.6223549924444964,\n",
       " 3.6223549924444964,\n",
       " 3.6223549924444964,\n",
       " 3.6223549924444964,\n",
       " 3.6223549924444964,\n",
       " 3.6223549924444964,\n",
       " 3.6223549924444964,\n",
       " 3.6223549924444964,\n",
       " 3.6223549924444964,\n",
       " 3.6223549924444964,\n",
       " 3.6223549924444964,\n",
       " 3.6223549924444964,\n",
       " 3.6223549924444964,\n",
       " 3.6223549924444964,\n",
       " 3.6223549924444964,\n",
       " 3.6223549924444964,\n",
       " 3.6223549924444964,\n",
       " 3.6223549924444964,\n",
       " 3.6223549924444964,\n",
       " 3.6223549924444964,\n",
       " 3.6223549924444964,\n",
       " 3.6223549924444964,\n",
       " 3.6223549924444964,\n",
       " 3.6223549924444964,\n",
       " 3.6223549924444964,\n",
       " 3.6223549924444964,\n",
       " 3.6223549924444964,\n",
       " 3.6223549924444964,\n",
       " 3.6223549924444964,\n",
       " 3.6223549924444964,\n",
       " 3.6223549924444964,\n",
       " 3.6223549924444964,\n",
       " 3.6223549924444964,\n",
       " 3.6223549924444964,\n",
       " 3.6223549924444964,\n",
       " 3.6223549924444964,\n",
       " 3.6223549924444964,\n",
       " 3.6223549924444964,\n",
       " 3.6223549924444964,\n",
       " 3.6223549924444964,\n",
       " 3.6223549924444964,\n",
       " 3.6223549924444964,\n",
       " 3.6223549924444964,\n",
       " 3.6223549924444964,\n",
       " 3.6223549924444964,\n",
       " 3.6223549924444964,\n",
       " 3.6223549924444964,\n",
       " 3.6223549924444964,\n",
       " 3.6223549924444964,\n",
       " 3.6223549924444964,\n",
       " 3.6223549924444964,\n",
       " 3.6223549924444964,\n",
       " 3.6223549924444964,\n",
       " 3.6223549924444964,\n",
       " 3.6223549924444964,\n",
       " 3.6223549924444964,\n",
       " 3.6223549924444964,\n",
       " 3.6223549924444964,\n",
       " 3.6223549924444964,\n",
       " 3.6223549924444964,\n",
       " 3.6223549924444964,\n",
       " 3.6223549924444964,\n",
       " 3.6223549924444964,\n",
       " 3.6223549924444964,\n",
       " 3.6223549924444964,\n",
       " 3.6223549924444964,\n",
       " 3.6223549924444964,\n",
       " 3.6223549924444964,\n",
       " 3.6223549924444964,\n",
       " 3.6223549924444964,\n",
       " 3.6223549924444964,\n",
       " 3.6223549924444964,\n",
       " 3.6223549924444964,\n",
       " 3.6223549924444964,\n",
       " 3.6223549924444964,\n",
       " 3.6223549924444964,\n",
       " 3.6223549924444964,\n",
       " 3.6223549924444964,\n",
       " 3.6223549924444964,\n",
       " 3.6223549924444964,\n",
       " 3.6223549924444964,\n",
       " 3.6223549924444964,\n",
       " 3.6223549924444964,\n",
       " 3.6223549924444964,\n",
       " 3.6223549924444964,\n",
       " 3.6223549924444964,\n",
       " 3.6223549924444964,\n",
       " 3.6223549924444964,\n",
       " 3.6223549924444964,\n",
       " 3.6223549924444964,\n",
       " 3.6223549924444964,\n",
       " ...]"
      ]
     },
     "execution_count": 310,
     "metadata": {},
     "output_type": "execute_result"
    }
   ],
   "source": [
    "y_base"
   ]
  },
  {
   "cell_type": "code",
   "execution_count": 311,
   "id": "a938ee9e",
   "metadata": {},
   "outputs": [
    {
     "name": "stdout",
     "output_type": "stream",
     "text": [
      "Mean Squared Error of base model: 9.043470e+01\n"
     ]
    }
   ],
   "source": [
    "# our benchmark model\n",
    "mse_base = mean_squared_error(y_test, y_base )\n",
    "print(f'Mean Squared Error of base model: {mse_base:2e}')"
   ]
  },
  {
   "cell_type": "code",
   "execution_count": 312,
   "id": "866b751d",
   "metadata": {},
   "outputs": [
    {
     "name": "stdout",
     "output_type": "stream",
     "text": [
      "Mean Squared Error for training: 2.031903e+01\n",
      "Mean Squared Error for testing: 2.212826e+01\n"
     ]
    }
   ],
   "source": [
    "# MSE for Linear model\n",
    "mse_train = mean_squared_error(y_train, model.predict(X_train_scaled))\n",
    "mse_test = mean_squared_error(y_test, y_pred)\n",
    "print(f'Mean Squared Error for training: {mse_train:2e}')\n",
    "print(f'Mean Squared Error for testing: {mse_test:2e}')\n"
   ]
  },
  {
   "cell_type": "markdown",
   "id": "7c509d19",
   "metadata": {},
   "source": [
    "2. Mean Absolute Error"
   ]
  },
  {
   "cell_type": "code",
   "execution_count": 313,
   "id": "31513417",
   "metadata": {},
   "outputs": [
    {
     "name": "stdout",
     "output_type": "stream",
     "text": [
      "Mean Absolute  Error of base model: 4.482423e+00\n"
     ]
    }
   ],
   "source": [
    "# our benchmark model\n",
    "mae_base = mean_absolute_error(y_test, y_base )\n",
    "print(f'Mean Absolute  Error of base model: {mae_base:2e}')"
   ]
  },
  {
   "cell_type": "code",
   "execution_count": 314,
   "id": "27d2e79f",
   "metadata": {},
   "outputs": [
    {
     "name": "stdout",
     "output_type": "stream",
     "text": [
      "Mean Absolute Error for training: 2.099819e+00\n",
      "Mean Absolute Error for testing: 2.132939e+00\n"
     ]
    }
   ],
   "source": [
    "# Linear model\n",
    "mae_train = mean_absolute_error(y_train, model.predict(X_train_scaled))\n",
    "mae_test = mean_absolute_error(y_test, y_pred)\n",
    "print(f'Mean Absolute Error for training: {mae_train:2e}')\n",
    "print(f'Mean Absolute Error for testing: {mae_test:2e}')"
   ]
  },
  {
   "cell_type": "markdown",
   "id": "f2fbfc3b",
   "metadata": {},
   "source": [
    "3. Root Mean Squared Error"
   ]
  },
  {
   "cell_type": "code",
   "execution_count": 315,
   "id": "0fd83daf",
   "metadata": {},
   "outputs": [
    {
     "name": "stdout",
     "output_type": "stream",
     "text": [
      "Root Mean Squared  Error of base model: 9.509716e+00\n"
     ]
    }
   ],
   "source": [
    "# our benchmark model\n",
    "print(f'Root Mean Squared  Error of base model: {np.sqrt(mse_base):2e}')"
   ]
  },
  {
   "cell_type": "code",
   "execution_count": 316,
   "id": "8a4615d2",
   "metadata": {},
   "outputs": [
    {
     "name": "stdout",
     "output_type": "stream",
     "text": [
      "Root Mean Squared Error for training: 4.507664e+00\n",
      "Root Mean Squared Error for testing: 4.704069e+00\n"
     ]
    }
   ],
   "source": [
    "# RMSE for Linear model\n",
    "\n",
    "print(f'Root Mean Squared Error for training: {np.sqrt(mse_train):2e}')\n",
    "print(f'Root Mean Squared Error for testing: {np.sqrt(mse_test):2e}')\n"
   ]
  },
  {
   "cell_type": "markdown",
   "id": "630ae5f7",
   "metadata": {},
   "source": [
    "4. R Square"
   ]
  },
  {
   "cell_type": "code",
   "execution_count": 317,
   "id": "8c1128a6",
   "metadata": {},
   "outputs": [
    {
     "name": "stdout",
     "output_type": "stream",
     "text": [
      "R Square for training: 0.748494382792714\n",
      "R Square for testing: 0.7553122360006\n"
     ]
    }
   ],
   "source": [
    "# Linear model r2 score\n",
    "r2_score_train = r2_score(y_train, model.predict(X_train_scaled))\n",
    "r2_score_test = r2_score(y_test, y_pred)\n",
    "print(f'R Square for training: {r2_score_train}')\n",
    "print(f'R Square for testing: {r2_score_test}')"
   ]
  },
  {
   "cell_type": "markdown",
   "id": "1a33848f",
   "metadata": {},
   "source": [
    "#### Predictions vs. Real Values"
   ]
  },
  {
   "cell_type": "code",
   "execution_count": 318,
   "id": "df3744dc",
   "metadata": {},
   "outputs": [],
   "source": [
    "predictions = model.predict(X_test_scaled)\n",
    "#predictions"
   ]
  },
  {
   "cell_type": "code",
   "execution_count": 319,
   "id": "0c8713a3",
   "metadata": {},
   "outputs": [
    {
     "data": {
      "text/plain": [
       "array([-5.72161362e-02,  8.29518269e+01,  5.58750063e+00, ...,\n",
       "        4.25818196e+00,  2.83408869e+00,  2.86898392e+00])"
      ]
     },
     "execution_count": 319,
     "metadata": {},
     "output_type": "execute_result"
    }
   ],
   "source": [
    "predictions"
   ]
  },
  {
   "cell_type": "code",
   "execution_count": 320,
   "id": "bc732b9e",
   "metadata": {},
   "outputs": [],
   "source": [
    "Real_Values = np.array(y_test)\n",
    "# Real_Values"
   ]
  },
  {
   "cell_type": "code",
   "execution_count": 321,
   "id": "d3c1e877",
   "metadata": {},
   "outputs": [
    {
     "data": {
      "image/png": "[encoded data removed]",
      "text/plain": [
       "<Figure size 640x480 with 1 Axes>"
      ]
     },
     "metadata": {},
     "output_type": "display_data"
    }
   ],
   "source": [
    "plt.scatter(Real_Values, predictions)\n",
    "plt.plot([Real_Values.min(), Real_Values.max()], [Real_Values.min(), Real_Values.max()], color='red', lw=1)\n",
    "plt.xlabel('Real Values')\n",
    "plt.ylabel('Predictions')\n",
    "plt.title('Real Values vs Predictions')\n",
    "plt.show()"
   ]
  },
  {
   "cell_type": "markdown",
   "id": "56951874",
   "metadata": {},
   "source": [
    "#### Residual Histogram"
   ]
  },
  {
   "cell_type": "code",
   "execution_count": 322,
   "id": "5c980a16",
   "metadata": {},
   "outputs": [
    {
     "data": {
      "image/png": "[encoded data removed]",
      "text/plain": [
       "<Figure size 640x480 with 1 Axes>"
      ]
     },
     "metadata": {},
     "output_type": "display_data"
    }
   ],
   "source": [
    "sns.distplot((y_test-predictions),bins=50); # it's good if we get normal distribution"
   ]
  },
  {
   "cell_type": "markdown",
   "id": "11235f5c",
   "metadata": {},
   "source": [
    "# ML 2 Ridge and Lasso"
   ]
  },
  {
   "cell_type": "code",
   "execution_count": 323,
   "id": "229401ae",
   "metadata": {},
   "outputs": [],
   "source": [
    "ridge_model = Ridge()"
   ]
  },
  {
   "cell_type": "code",
   "execution_count": 267,
   "id": "757b2e67",
   "metadata": {},
   "outputs": [],
   "source": [
    "lasso_model = Lasso()"
   ]
  },
  {
   "cell_type": "code",
   "execution_count": 324,
   "id": "4c4a7361",
   "metadata": {},
   "outputs": [],
   "source": [
    "param_grid = {\n",
    "    'alpha': [0, 0.003, 0.0002, 0.001, 0.01,0.01, 0.5, 1, 5,10]  # Regularization strength\n",
    "}\n",
    "grid_search_ridge = GridSearchCV(estimator=ridge_model,\n",
    "                           param_grid=param_grid,\n",
    "                           cv=5,\n",
    "                           scoring='neg_mean_squared_error', \n",
    "                           verbose=1)\n",
    "\n",
    "grid_search_lasso = GridSearchCV(estimator=lasso_model,\n",
    "                           param_grid=param_grid,\n",
    "                           cv=5,\n",
    "                           scoring='neg_mean_squared_error', \n",
    "                           verbose=1)"
   ]
  },
  {
   "cell_type": "markdown",
   "id": "356b419f",
   "metadata": {},
   "source": [
    "## Train the Model"
   ]
  },
  {
   "cell_type": "code",
   "execution_count": 325,
   "id": "bbf9e0c1",
   "metadata": {},
   "outputs": [
    {
     "name": "stdout",
     "output_type": "stream",
     "text": [
      "Fitting 5 folds for each of 10 candidates, totalling 50 fits\n",
      "Fitting 5 folds for each of 10 candidates, totalling 50 fits\n",
      "Best Parameters for ridge model: {'alpha': 10}\n",
      "Best Parameters for lasso model: {'alpha': 0}\n"
     ]
    }
   ],
   "source": [
    "# Fit GridSearchCV on the training data\n",
    "grid_search_ridge.fit(X_train_scaled, y_train)\n",
    "grid_search_lasso.fit(X_train_scaled, y_train)\n",
    "\n",
    "# Get the best parameters and best model\n",
    "\n",
    "# Ridge\n",
    "best_params_ridge = grid_search_ridge.best_params_\n",
    "best_model_ridge = grid_search_ridge.best_estimator_\n",
    "\n",
    "# Lasso\n",
    "best_params_lasso = grid_search_lasso.best_params_\n",
    "best_model_lasso = grid_search_lasso.best_estimator_\n",
    "\n",
    "print(\"Best Parameters for ridge model:\", best_params_ridge)\n",
    "print(\"Best Parameters for lasso model:\", best_params_lasso)"
   ]
  },
  {
   "cell_type": "markdown",
   "id": "534cbbea",
   "metadata": {},
   "source": [
    "## Test the Model"
   ]
  },
  {
   "cell_type": "code",
   "execution_count": 326,
   "id": "0b8d553b",
   "metadata": {},
   "outputs": [],
   "source": [
    "# Predict and evaluate the model\n",
    "\n",
    "y_pred = model.predict(X_test_scaled)                  # Linear regression model\n",
    "y_pred_ridge = best_model_ridge.predict(X_test_scaled) # Ridge model\n",
    "y_pred_lasso = best_model_lasso.predict(X_test_scaled) # Lasso model"
   ]
  },
  {
   "cell_type": "markdown",
   "id": "aff66179",
   "metadata": {},
   "source": [
    "## Interpretation of the Model"
   ]
  },
  {
   "cell_type": "code",
   "execution_count": 329,
   "id": "da159bef",
   "metadata": {},
   "outputs": [],
   "source": [
    "coeff_df_ridge = pd.DataFrame(best_model_ridge.coef_,X.columns,columns=['Coefficient']) # Ridge model cofficients\n",
    "coeff_df_lasso = pd.DataFrame(best_model_lasso.coef_,X.columns,columns=['Coefficient']) # Lasso model cofficients\n"
   ]
  },
  {
   "cell_type": "code",
   "execution_count": 330,
   "id": "70e304b0",
   "metadata": {},
   "outputs": [
    {
     "data": {
      "text/html": [
       "<div>\n",
       "<style scoped>\n",
       "    .dataframe tbody tr th:only-of-type {\n",
       "        vertical-align: middle;\n",
       "    }\n",
       "\n",
       "    .dataframe tbody tr th {\n",
       "        vertical-align: top;\n",
       "    }\n",
       "\n",
       "    .dataframe thead th {\n",
       "        text-align: right;\n",
       "    }\n",
       "</style>\n",
       "<table border=\"1\" class=\"dataframe\">\n",
       "  <thead>\n",
       "    <tr style=\"text-align: right;\">\n",
       "      <th></th>\n",
       "      <th>Coefficient</th>\n",
       "    </tr>\n",
       "  </thead>\n",
       "  <tbody>\n",
       "    <tr>\n",
       "      <th>appearance</th>\n",
       "      <td>-0.936321</td>\n",
       "    </tr>\n",
       "    <tr>\n",
       "      <th>minutes played</th>\n",
       "      <td>1.911273</td>\n",
       "    </tr>\n",
       "    <tr>\n",
       "      <th>award</th>\n",
       "      <td>-1.994923</td>\n",
       "    </tr>\n",
       "    <tr>\n",
       "      <th>highest_value</th>\n",
       "      <td>7.641077</td>\n",
       "    </tr>\n",
       "    <tr>\n",
       "      <th>team_Arsenal FC</th>\n",
       "      <td>0.510869</td>\n",
       "    </tr>\n",
       "    <tr>\n",
       "      <th>team_Bayern Munich</th>\n",
       "      <td>0.602079</td>\n",
       "    </tr>\n",
       "    <tr>\n",
       "      <th>team_Chelsea FC</th>\n",
       "      <td>0.243499</td>\n",
       "    </tr>\n",
       "    <tr>\n",
       "      <th>team_FC Barcelona</th>\n",
       "      <td>0.343540</td>\n",
       "    </tr>\n",
       "    <tr>\n",
       "      <th>team_Manchester City</th>\n",
       "      <td>0.669035</td>\n",
       "    </tr>\n",
       "    <tr>\n",
       "      <th>team_Paris Saint-Germain</th>\n",
       "      <td>0.461487</td>\n",
       "    </tr>\n",
       "    <tr>\n",
       "      <th>team_Real Madrid</th>\n",
       "      <td>0.223511</td>\n",
       "    </tr>\n",
       "  </tbody>\n",
       "</table>\n",
       "</div>"
      ],
      "text/plain": [
       "                          Coefficient\n",
       "appearance                  -0.936321\n",
       "minutes played               1.911273\n",
       "award                       -1.994923\n",
       "highest_value                7.641077\n",
       "team_Arsenal FC              0.510869\n",
       "team_Bayern Munich           0.602079\n",
       "team_Chelsea FC              0.243499\n",
       "team_FC Barcelona            0.343540\n",
       "team_Manchester City         0.669035\n",
       "team_Paris Saint-Germain     0.461487\n",
       "team_Real Madrid             0.223511"
      ]
     },
     "execution_count": 330,
     "metadata": {},
     "output_type": "execute_result"
    }
   ],
   "source": [
    "coeff_df_ridge"
   ]
  },
  {
   "cell_type": "code",
   "execution_count": 331,
   "id": "403bde49",
   "metadata": {},
   "outputs": [
    {
     "data": {
      "text/html": [
       "<div>\n",
       "<style scoped>\n",
       "    .dataframe tbody tr th:only-of-type {\n",
       "        vertical-align: middle;\n",
       "    }\n",
       "\n",
       "    .dataframe tbody tr th {\n",
       "        vertical-align: top;\n",
       "    }\n",
       "\n",
       "    .dataframe thead th {\n",
       "        text-align: right;\n",
       "    }\n",
       "</style>\n",
       "<table border=\"1\" class=\"dataframe\">\n",
       "  <thead>\n",
       "    <tr style=\"text-align: right;\">\n",
       "      <th></th>\n",
       "      <th>Coefficient</th>\n",
       "    </tr>\n",
       "  </thead>\n",
       "  <tbody>\n",
       "    <tr>\n",
       "      <th>appearance</th>\n",
       "      <td>-0.971306</td>\n",
       "    </tr>\n",
       "    <tr>\n",
       "      <th>minutes played</th>\n",
       "      <td>1.941930</td>\n",
       "    </tr>\n",
       "    <tr>\n",
       "      <th>award</th>\n",
       "      <td>-2.004860</td>\n",
       "    </tr>\n",
       "    <tr>\n",
       "      <th>highest_value</th>\n",
       "      <td>7.659188</td>\n",
       "    </tr>\n",
       "    <tr>\n",
       "      <th>team_Arsenal FC</th>\n",
       "      <td>0.510199</td>\n",
       "    </tr>\n",
       "    <tr>\n",
       "      <th>team_Bayern Munich</th>\n",
       "      <td>0.601409</td>\n",
       "    </tr>\n",
       "    <tr>\n",
       "      <th>team_Chelsea FC</th>\n",
       "      <td>0.241121</td>\n",
       "    </tr>\n",
       "    <tr>\n",
       "      <th>team_FC Barcelona</th>\n",
       "      <td>0.341672</td>\n",
       "    </tr>\n",
       "    <tr>\n",
       "      <th>team_Manchester City</th>\n",
       "      <td>0.667964</td>\n",
       "    </tr>\n",
       "    <tr>\n",
       "      <th>team_Paris Saint-Germain</th>\n",
       "      <td>0.460540</td>\n",
       "    </tr>\n",
       "    <tr>\n",
       "      <th>team_Real Madrid</th>\n",
       "      <td>0.222642</td>\n",
       "    </tr>\n",
       "  </tbody>\n",
       "</table>\n",
       "</div>"
      ],
      "text/plain": [
       "                          Coefficient\n",
       "appearance                  -0.971306\n",
       "minutes played               1.941930\n",
       "award                       -2.004860\n",
       "highest_value                7.659188\n",
       "team_Arsenal FC              0.510199\n",
       "team_Bayern Munich           0.601409\n",
       "team_Chelsea FC              0.241121\n",
       "team_FC Barcelona            0.341672\n",
       "team_Manchester City         0.667964\n",
       "team_Paris Saint-Germain     0.460540\n",
       "team_Real Madrid             0.222642"
      ]
     },
     "execution_count": 331,
     "metadata": {},
     "output_type": "execute_result"
    }
   ],
   "source": [
    "coeff_df_lasso"
   ]
  },
  {
   "cell_type": "code",
   "execution_count": 332,
   "id": "36adb0f5",
   "metadata": {},
   "outputs": [
    {
     "name": "stdout",
     "output_type": "stream",
     "text": [
      " Ridge model intercept: 3.622354992444496\n"
     ]
    }
   ],
   "source": [
    "print(f\" Ridge model intercept: {best_model_ridge.intercept_}\") "
   ]
  },
  {
   "cell_type": "code",
   "execution_count": 333,
   "id": "4a4f0a55",
   "metadata": {},
   "outputs": [
    {
     "name": "stdout",
     "output_type": "stream",
     "text": [
      " Lasso model intercept: 3.622354992444496\n"
     ]
    }
   ],
   "source": [
    "print(f\" Lasso model intercept: {best_model_lasso.intercept_}\") "
   ]
  },
  {
   "cell_type": "markdown",
   "id": "6fa975d6",
   "metadata": {},
   "source": [
    "## Evaluating the Model "
   ]
  },
  {
   "cell_type": "markdown",
   "id": "1a0ff1f2",
   "metadata": {},
   "source": [
    "1. Mean Square Error"
   ]
  },
  {
   "cell_type": "code",
   "execution_count": 334,
   "id": "3ec0b6f8",
   "metadata": {},
   "outputs": [],
   "source": [
    "y_base = [y_train.mean()] * len(y_test)"
   ]
  },
  {
   "cell_type": "code",
   "execution_count": 335,
   "id": "135deb5b",
   "metadata": {},
   "outputs": [
    {
     "name": "stdout",
     "output_type": "stream",
     "text": [
      "Mean Squared Error of base model: 9.043470e+01\n"
     ]
    }
   ],
   "source": [
    "# our benchmark model\n",
    "mse_base = mean_squared_error(y_test, y_base )\n",
    "print(f'Mean Squared Error of base model: {mse_base:2e}')"
   ]
  },
  {
   "cell_type": "code",
   "execution_count": 336,
   "id": "7e57fb72",
   "metadata": {},
   "outputs": [
    {
     "name": "stdout",
     "output_type": "stream",
     "text": [
      "Mean Squared Error for training ridge model: 2.031932e+01\n",
      "Mean Squared Error for testing ridge model: 2.212773e+01\n"
     ]
    }
   ],
   "source": [
    "# MSE for Ridge model\n",
    "mse_train_ridge = mean_squared_error(y_train, best_model_ridge.predict(X_train_scaled))\n",
    "mse_test_ridge = mean_squared_error(y_test, y_pred_ridge)\n",
    "print(f'Mean Squared Error for training ridge model: {mse_train_ridge:2e}')\n",
    "print(f'Mean Squared Error for testing ridge model: {mse_test_ridge:2e}')\n"
   ]
  },
  {
   "cell_type": "code",
   "execution_count": 337,
   "id": "679b2b79",
   "metadata": {},
   "outputs": [
    {
     "name": "stdout",
     "output_type": "stream",
     "text": [
      "Mean Squared Error for training lasso model: 2.031903e+01\n",
      "Mean Squared Error for testing lasso model: 2.212826e+01\n"
     ]
    }
   ],
   "source": [
    "# MSE Lasso model\n",
    "mse_train_lasso = mean_squared_error(y_train, best_model_lasso.predict(X_train_scaled))\n",
    "mse_test_lasso = mean_squared_error(y_test, y_pred_lasso)\n",
    "print(f'Mean Squared Error for training lasso model: {mse_train_lasso:2e}')\n",
    "print(f'Mean Squared Error for testing lasso model: {mse_test_lasso:2e}')"
   ]
  },
  {
   "cell_type": "markdown",
   "id": "0cb0616f",
   "metadata": {},
   "source": [
    "2. Mean Absolute Error"
   ]
  },
  {
   "cell_type": "code",
   "execution_count": 338,
   "id": "12ea7b20",
   "metadata": {},
   "outputs": [
    {
     "name": "stdout",
     "output_type": "stream",
     "text": [
      "Mean Absolute  Error of base model: 4.482423e+00\n"
     ]
    }
   ],
   "source": [
    "# our benchmark model\n",
    "mae_base = mean_absolute_error(y_test, y_base )\n",
    "print(f'Mean Absolute  Error of base model: {mae_base:2e}')"
   ]
  },
  {
   "cell_type": "code",
   "execution_count": 339,
   "id": "f1a71e6e",
   "metadata": {},
   "outputs": [
    {
     "name": "stdout",
     "output_type": "stream",
     "text": [
      "Mean Absolute Error for training ridge model: 2.098497e+00\n",
      "Mean Absolute Error for testing ridge model: 2.131394e+00\n"
     ]
    }
   ],
   "source": [
    "# MSE for Ridge model\n",
    "mae_train_ridge = mean_absolute_error(y_train, best_model_ridge.predict(X_train_scaled))\n",
    "mae_test_ridge = mean_absolute_error(y_test, y_pred_ridge)\n",
    "print(f'Mean Absolute Error for training ridge model: {mae_train_ridge:2e}')\n",
    "print(f'Mean Absolute Error for testing ridge model: {mae_test_ridge:2e}')"
   ]
  },
  {
   "cell_type": "code",
   "execution_count": 340,
   "id": "e9f8f695",
   "metadata": {},
   "outputs": [
    {
     "name": "stdout",
     "output_type": "stream",
     "text": [
      "Mean Absolute Error for training lasso model: 2.099819e+00\n",
      "Mean Absolute Error for testing lasso model: 2.132939e+00\n"
     ]
    }
   ],
   "source": [
    "# Lasso model\n",
    "mae_train_lasso = mean_absolute_error(y_train, best_model_lasso.predict(X_train_scaled))\n",
    "mae_test_lasso = mean_absolute_error(y_test, y_pred_lasso)\n",
    "print(f'Mean Absolute Error for training lasso model: {mae_train_lasso:2e}')\n",
    "print(f'Mean Absolute Error for testing lasso model: {mae_test_lasso:2e}')"
   ]
  },
  {
   "cell_type": "markdown",
   "id": "4f7daff5",
   "metadata": {},
   "source": [
    "3. Root Mean Squared Error"
   ]
  },
  {
   "cell_type": "code",
   "execution_count": 341,
   "id": "156e6fae",
   "metadata": {},
   "outputs": [
    {
     "name": "stdout",
     "output_type": "stream",
     "text": [
      "Root Mean Squared  Error of base model: 9.509716e+00\n"
     ]
    }
   ],
   "source": [
    "# our benchmark model\n",
    "print(f'Root Mean Squared  Error of base model: {np.sqrt(mse_base):2e}')"
   ]
  },
  {
   "cell_type": "code",
   "execution_count": 343,
   "id": "606b3d2e",
   "metadata": {},
   "outputs": [
    {
     "name": "stdout",
     "output_type": "stream",
     "text": [
      "Root Mean Squared Error for training ridge model: 4.507696e+00\n",
      "Root Mean Squared Error for testing ridge model: 4.704013e+00\n"
     ]
    }
   ],
   "source": [
    "# RMSE for Ridge model\n",
    "\n",
    "print(f'Root Mean Squared Error for training ridge model: {np.sqrt(mse_train_ridge):2e}')\n",
    "print(f'Root Mean Squared Error for testing ridge model: {np.sqrt(mse_test_ridge):2e}')\n"
   ]
  },
  {
   "cell_type": "code",
   "execution_count": 344,
   "id": "858784ca",
   "metadata": {},
   "outputs": [
    {
     "name": "stdout",
     "output_type": "stream",
     "text": [
      "Root Mean Squared Error for training lasso model: 4.507664e+00\n",
      "Root Mean Squared Error for testing lasso model: 4.704069e+00\n"
     ]
    }
   ],
   "source": [
    "# RMSE Lasso model\n",
    "\n",
    "print(f'Root Mean Squared Error for training lasso model: {np.sqrt(mse_train_lasso):2e}')\n",
    "print(f'Root Mean Squared Error for testing lasso model: {np.sqrt(mse_test_lasso):2e}')"
   ]
  },
  {
   "cell_type": "markdown",
   "id": "2b5aeb24",
   "metadata": {},
   "source": [
    "4. R Square"
   ]
  },
  {
   "cell_type": "code",
   "execution_count": 345,
   "id": "623b13d1",
   "metadata": {},
   "outputs": [
    {
     "name": "stdout",
     "output_type": "stream",
     "text": [
      "R Square for training: 0.748494382792714\n",
      "R Square for testing: 0.7553122360006\n"
     ]
    }
   ],
   "source": [
    "# Linear model r2 score\n",
    "r2_score_train = r2_score(y_train, model.predict(X_train_scaled))\n",
    "r2_score_test = r2_score(y_test, y_pred)\n",
    "print(f'R Square for training: {r2_score_train}')\n",
    "print(f'R Square for testing: {r2_score_test}')"
   ]
  },
  {
   "cell_type": "code",
   "execution_count": 346,
   "id": "d27e6406",
   "metadata": {},
   "outputs": [
    {
     "name": "stdout",
     "output_type": "stream",
     "text": [
      "R Square for training ridge model: 0.7484908398925327\n",
      "R Square for testing ridge model: 0.7553180815617939\n"
     ]
    }
   ],
   "source": [
    "# Ridge model r2 score\n",
    "r2_score_train_ridge = r2_score(y_train, best_model_ridge.predict(X_train_scaled))\n",
    "r2_score_test_ridge = r2_score(y_test, y_pred_ridge)\n",
    "print(f'R Square for training ridge model: {r2_score_train_ridge}')\n",
    "print(f'R Square for testing ridge model: {r2_score_test_ridge}')"
   ]
  },
  {
   "cell_type": "code",
   "execution_count": 347,
   "id": "cfd8600c",
   "metadata": {},
   "outputs": [
    {
     "name": "stdout",
     "output_type": "stream",
     "text": [
      "R Square for training lasso model: 0.748494382792714\n",
      "R Square for testing lasso model: 0.7553122360006\n"
     ]
    }
   ],
   "source": [
    "# Lasso model r2 score\n",
    "r2_score_train_lasso = r2_score(y_train, best_model_lasso.predict(X_train_scaled))\n",
    "r2_score_test_lasso = r2_score(y_test, y_pred_lasso)\n",
    "print(f'R Square for training lasso model: {r2_score_train_lasso}')\n",
    "print(f'R Square for testing lasso model: {r2_score_test_lasso}')"
   ]
  },
  {
   "cell_type": "markdown",
   "id": "3119bf56",
   "metadata": {},
   "source": [
    "#### Predictions vs. Real Values"
   ]
  },
  {
   "cell_type": "code",
   "execution_count": 348,
   "id": "342c5634",
   "metadata": {},
   "outputs": [],
   "source": [
    "predictions = model.predict(X_test_scaled)\n",
    "#predictions"
   ]
  },
  {
   "cell_type": "code",
   "execution_count": 349,
   "id": "d13b6089",
   "metadata": {},
   "outputs": [
    {
     "data": {
      "text/plain": [
       "array([-5.72161362e-02,  8.29518269e+01,  5.58750063e+00, ...,\n",
       "        4.25818196e+00,  2.83408869e+00,  2.86898392e+00])"
      ]
     },
     "execution_count": 349,
     "metadata": {},
     "output_type": "execute_result"
    }
   ],
   "source": [
    "predictions"
   ]
  },
  {
   "cell_type": "code",
   "execution_count": 350,
   "id": "26062677",
   "metadata": {},
   "outputs": [],
   "source": [
    "Real_Values = np.array(y_test)\n",
    "# Real_Values"
   ]
  },
  {
   "cell_type": "code",
   "execution_count": null,
   "id": "47942b19",
   "metadata": {},
   "outputs": [
    {
     "data": {
      "image/png": "[encoded data removed]",
      "text/plain": [
       "<Figure size 1500x500 with 3 Axes>"
      ]
     },
     "metadata": {},
     "output_type": "display_data"
    }
   ],
   "source": [
    "# Linear Model\n",
    "plt.figure(figsize=(15, 5))\n",
    "\n",
    "plt.subplot(1, 3, 1)\n",
    "plt.scatter(y_test, y_pred)\n",
    "plt.plot([y_test.min(), y_test.max()], [y_test.min(), y_test.max()], color='red', lw=1)\n",
    "plt.xlabel('Real Values')\n",
    "plt.ylabel('Predictions')\n",
    "plt.title('Linear Model: Real Values vs Predictions')\n",
    "\n",
    "# Ridge Model\n",
    "plt.subplot(1, 3, 2)\n",
    "plt.scatter(y_test, y_pred_ridge)\n",
    "plt.plot([y_test.min(), y_test.max()], [y_test.min(), y_test.max()], color='red', lw=1)\n",
    "plt.xlabel('Real Values')\n",
    "plt.ylabel('Predictions')\n",
    "plt.title('Ridge Model: Real Values vs Predictions')\n",
    "\n",
    "# Lasso Model\n",
    "plt.subplot(1, 3, 3)\n",
    "plt.scatter(y_test, y_pred_lasso)\n",
    "plt.plot([y_test.min(), y_test.max()], [y_test.min(), y_test.max()], color='red', lw=1)\n",
    "plt.xlabel('Real Values')\n",
    "plt.ylabel('Predictions')\n",
    "plt.title('Lasso Model: Real Values vs Predictions')\n",
    "\n",
    "plt.tight_layout()\n",
    "plt.show()"
   ]
  },
  {
   "cell_type": "markdown",
   "id": "ac7fc5a9",
   "metadata": {},
   "source": [
    "#### Residual Histogram"
   ]
  },
  {
   "cell_type": "code",
   "execution_count": 352,
   "id": "fa22f7dc",
   "metadata": {},
   "outputs": [
    {
     "data": {
      "image/png": "[encoded data removed]",
      "text/plain": [
       "<Figure size 1500x500 with 3 Axes>"
      ]
     },
     "metadata": {},
     "output_type": "display_data"
    }
   ],
   "source": [
    "plt.figure(figsize=(15, 5))\n",
    "\n",
    "plt.subplot(1, 3, 1)\n",
    "sns.distplot((y_test - y_pred), bins=50)\n",
    "plt.title('Linear Model Residuals')\n",
    "\n",
    "plt.subplot(1, 3, 2)\n",
    "sns.distplot((y_test - y_pred_ridge), bins=50)\n",
    "plt.title('Ridge Model Residuals')\n",
    "\n",
    "plt.subplot(1, 3, 3)\n",
    "sns.distplot((y_test - y_pred_lasso), bins=50)\n",
    "plt.title('Lasso Model Residuals')\n",
    "\n",
    "plt.tight_layout()\n",
    "plt.show()"
   ]
  },
  {
   "cell_type": "markdown",
   "id": "4c6e382b",
   "metadata": {},
   "source": [
    "### We will see that there is no significant difference between Linear Regression, Ridge Regression, and Lasso Regression, which suggests that there is no overfitting in our model."
   ]
  },
  {
   "cell_type": "markdown",
   "id": "1ffe9e39",
   "metadata": {},
   "source": [
    "# ML 3 LogisticRegression"
   ]
  },
  {
   "cell_type": "code",
   "execution_count": 353,
   "id": "49d6db18",
   "metadata": {},
   "outputs": [],
   "source": [
    "# Calculate the 35th and 75th percentiles of the current_value_million\n",
    "p35 = football_players_data['current_value_million'].quantile(0.35)\n",
    "p75 = football_players_data['current_value_million'].quantile(0.75)"
   ]
  },
  {
   "cell_type": "code",
   "execution_count": 354,
   "id": "b170f0ea",
   "metadata": {},
   "outputs": [
    {
     "data": {
      "text/plain": [
       "(0.45, 3.0)"
      ]
     },
     "execution_count": 354,
     "metadata": {},
     "output_type": "execute_result"
    }
   ],
   "source": [
    "p35, p75 # in million"
   ]
  },
  {
   "cell_type": "code",
   "execution_count": 355,
   "id": "0c5a8762",
   "metadata": {},
   "outputs": [],
   "source": [
    "# Function to categorize prices\n",
    "def categorize_price(value):\n",
    "    if value < p35:\n",
    "        return 'Affordable'\n",
    "    elif value < p75:\n",
    "        return 'Fair Value'\n",
    "    else:\n",
    "        return 'Premium'"
   ]
  },
  {
   "cell_type": "code",
   "execution_count": 356,
   "id": "f1645188",
   "metadata": {},
   "outputs": [
    {
     "name": "stdout",
     "output_type": "stream",
     "text": [
      "current_value_category\n",
      "Fair Value    4310\n",
      "Affordable    3754\n",
      "Premium       2690\n",
      "Name: count, dtype: int64\n"
     ]
    }
   ],
   "source": [
    "football_players_data['current_value_category'] = football_players_data['current_value_million'].apply(categorize_price)\n",
    "\n",
    "print(football_players_data['current_value_category'].value_counts())"
   ]
  },
  {
   "cell_type": "code",
   "execution_count": 357,
   "id": "a7da7045",
   "metadata": {},
   "outputs": [],
   "source": [
    "football_players_data.drop(['current_value','current_value_million'], axis=1, inplace=True)"
   ]
  },
  {
   "cell_type": "code",
   "execution_count": 358,
   "id": "9f11c1a2",
   "metadata": {},
   "outputs": [],
   "source": [
    "encoder = LabelEncoder()\n",
    "football_players_data['current_value_category_encoded'] = encoder.fit_transform(football_players_data['current_value_category'])  "
   ]
  },
  {
   "cell_type": "markdown",
   "id": "08b494d1",
   "metadata": {},
   "source": [
    "#### 3. Feature selection"
   ]
  },
  {
   "cell_type": "code",
   "execution_count": 359,
   "id": "9ced2923",
   "metadata": {},
   "outputs": [
    {
     "name": "stdout",
     "output_type": "stream",
     "text": [
      "current_value_category_encoded    1.000000\n",
      "appearance                        0.546979\n",
      "minutes played                    0.519476\n",
      "highest_value                     0.488265\n",
      "award                             0.242359\n",
      "                                    ...   \n",
      "team_Royal AM FC                 -0.067733\n",
      "position_Attack                  -0.082597\n",
      "position_midfield                -0.096901\n",
      "goals conceded                   -0.128555\n",
      "position_Goalkeeper              -0.172988\n",
      "Name: current_value_category_encoded, Length: 409, dtype: float64\n"
     ]
    }
   ],
   "source": [
    "correlation = football_players_data.corr(numeric_only=True)\n",
    "#print(correlation['Price'].sort_values(ascending=False))\n",
    "print(correlation['current_value_category_encoded'].sort_values(ascending=False))"
   ]
  },
  {
   "cell_type": "code",
   "execution_count": 399,
   "id": "59a3e3b6",
   "metadata": {},
   "outputs": [
    {
     "data": {
      "text/plain": [
       "Index(['appearance', 'minutes played', 'games_injured', 'award',\n",
       "       'highest_value', 'current_value_category_encoded'],\n",
       "      dtype='object')"
      ]
     },
     "execution_count": 399,
     "metadata": {},
     "output_type": "execute_result"
    }
   ],
   "source": [
    "# Set the correlation threshold\n",
    "threshold = 0.20 # You can change this value based on your requirement\n",
    "\n",
    "# Filter the correlations\n",
    "# We use `abs()` for absolute value to consider both strong positive and negative correlations\n",
    "selected_features = correlation[abs(correlation['current_value_category_encoded']) > \\\n",
    "threshold]['current_value_category_encoded'].index\n",
    "selected_features"
   ]
  },
  {
   "cell_type": "code",
   "execution_count": 400,
   "id": "3eadd010",
   "metadata": {},
   "outputs": [
    {
     "data": {
      "text/html": [
       "<div>\n",
       "<style scoped>\n",
       "    .dataframe tbody tr th:only-of-type {\n",
       "        vertical-align: middle;\n",
       "    }\n",
       "\n",
       "    .dataframe tbody tr th {\n",
       "        vertical-align: top;\n",
       "    }\n",
       "\n",
       "    .dataframe thead th {\n",
       "        text-align: right;\n",
       "    }\n",
       "</style>\n",
       "<table border=\"1\" class=\"dataframe\">\n",
       "  <thead>\n",
       "    <tr style=\"text-align: right;\">\n",
       "      <th></th>\n",
       "      <th>appearance</th>\n",
       "      <th>minutes played</th>\n",
       "      <th>games_injured</th>\n",
       "      <th>award</th>\n",
       "      <th>highest_value</th>\n",
       "      <th>current_value_category_encoded</th>\n",
       "    </tr>\n",
       "  </thead>\n",
       "  <tbody>\n",
       "    <tr>\n",
       "      <th>0</th>\n",
       "      <td>104</td>\n",
       "      <td>9390</td>\n",
       "      <td>5</td>\n",
       "      <td>13</td>\n",
       "      <td>70000000</td>\n",
       "      <td>2</td>\n",
       "    </tr>\n",
       "    <tr>\n",
       "      <th>1</th>\n",
       "      <td>15</td>\n",
       "      <td>1304</td>\n",
       "      <td>58</td>\n",
       "      <td>1</td>\n",
       "      <td>22000000</td>\n",
       "      <td>1</td>\n",
       "    </tr>\n",
       "    <tr>\n",
       "      <th>2</th>\n",
       "      <td>4</td>\n",
       "      <td>292</td>\n",
       "      <td>84</td>\n",
       "      <td>4</td>\n",
       "      <td>6000000</td>\n",
       "      <td>1</td>\n",
       "    </tr>\n",
       "    <tr>\n",
       "      <th>3</th>\n",
       "      <td>82</td>\n",
       "      <td>6408</td>\n",
       "      <td>22</td>\n",
       "      <td>9</td>\n",
       "      <td>50000000</td>\n",
       "      <td>2</td>\n",
       "    </tr>\n",
       "    <tr>\n",
       "      <th>4</th>\n",
       "      <td>63</td>\n",
       "      <td>5031</td>\n",
       "      <td>51</td>\n",
       "      <td>21</td>\n",
       "      <td>80000000</td>\n",
       "      <td>2</td>\n",
       "    </tr>\n",
       "  </tbody>\n",
       "</table>\n",
       "</div>"
      ],
      "text/plain": [
       "   appearance  minutes played  games_injured  award  highest_value  \\\n",
       "0         104            9390              5     13       70000000   \n",
       "1          15            1304             58      1       22000000   \n",
       "2           4             292             84      4        6000000   \n",
       "3          82            6408             22      9       50000000   \n",
       "4          63            5031             51     21       80000000   \n",
       "\n",
       "   current_value_category_encoded  \n",
       "0                               2  \n",
       "1                               1  \n",
       "2                               1  \n",
       "3                               2  \n",
       "4                               2  "
      ]
     },
     "execution_count": 400,
     "metadata": {},
     "output_type": "execute_result"
    }
   ],
   "source": [
    "football_players_data_Logistic = football_players_data[selected_features]\n",
    "football_players_data_Logistic.head()"
   ]
  },
  {
   "cell_type": "markdown",
   "id": "0d031e6a",
   "metadata": {},
   "source": [
    "#### 4. Prepare train and test data"
   ]
  },
  {
   "cell_type": "code",
   "execution_count": 401,
   "id": "ed8e7d11",
   "metadata": {},
   "outputs": [],
   "source": [
    "# Prepare data\n",
    "X = football_players_data_Logistic.drop(['current_value_category_encoded'], axis=1)\n",
    "y = football_players_data_Logistic['current_value_category_encoded']\n",
    "\n",
    "# Split data into training and testing sets\n",
    "X_train, X_test, y_train, y_test = train_test_split(X, y,\n",
    "                                                    test_size=0.2,\n",
    "                                                    shuffle=True,\n",
    "                                                    random_state=42)\n",
    "\n",
    "# sacle the data\n",
    "scaler = StandardScaler()\n",
    "scaler.fit(X_train)\n",
    "X_train_scaled = scaler.transform(X_train)\n",
    "X_test_scaled = scaler.transform(X_test)"
   ]
  },
  {
   "cell_type": "code",
   "execution_count": 402,
   "id": "93a2659c",
   "metadata": {},
   "outputs": [
    {
     "data": {
      "text/plain": [
       "(10754, 5)"
      ]
     },
     "execution_count": 402,
     "metadata": {},
     "output_type": "execute_result"
    }
   ],
   "source": [
    "X.shape"
   ]
  },
  {
   "cell_type": "markdown",
   "id": "e019874e",
   "metadata": {},
   "source": [
    "## Buliding the Model"
   ]
  },
  {
   "cell_type": "code",
   "execution_count": 403,
   "id": "ef920c0d",
   "metadata": {},
   "outputs": [],
   "source": [
    "model_Logistic = LogisticRegression()"
   ]
  },
  {
   "cell_type": "markdown",
   "id": "b485f089",
   "metadata": {},
   "source": [
    "## Train the Model"
   ]
  },
  {
   "cell_type": "code",
   "execution_count": 404,
   "id": "1dbfb351",
   "metadata": {},
   "outputs": [
    {
     "data": {
      "text/html": [
       "<style>#sk-container-id-11 {\n",
       "  /* Definition of color scheme common for light and dark mode */\n",
       "  --sklearn-color-text: #000;\n",
       "  --sklearn-color-text-muted: #666;\n",
       "  --sklearn-color-line: gray;\n",
       "  /* Definition of color scheme for unfitted estimators */\n",
       "  --sklearn-color-unfitted-level-0: #fff5e6;\n",
       "  --sklearn-color-unfitted-level-1: #f6e4d2;\n",
       "  --sklearn-color-unfitted-level-2: #ffe0b3;\n",
       "  --sklearn-color-unfitted-level-3: chocolate;\n",
       "  /* Definition of color scheme for fitted estimators */\n",
       "  --sklearn-color-fitted-level-0: #f0f8ff;\n",
       "  --sklearn-color-fitted-level-1: #d4ebff;\n",
       "  --sklearn-color-fitted-level-2: #b3dbfd;\n",
       "  --sklearn-color-fitted-level-3: cornflowerblue;\n",
       "\n",
       "  /* Specific color for light theme */\n",
       "  --sklearn-color-text-on-default-background: var(--sg-text-color, var(--theme-code-foreground, var(--jp-content-font-color1, black)));\n",
       "  --sklearn-color-background: var(--sg-background-color, var(--theme-background, var(--jp-layout-color0, white)));\n",
       "  --sklearn-color-border-box: var(--sg-text-color, var(--theme-code-foreground, var(--jp-content-font-color1, black)));\n",
       "  --sklearn-color-icon: #696969;\n",
       "\n",
       "  @media (prefers-color-scheme: dark) {\n",
       "    /* Redefinition of color scheme for dark theme */\n",
       "    --sklearn-color-text-on-default-background: var(--sg-text-color, var(--theme-code-foreground, var(--jp-content-font-color1, white)));\n",
       "    --sklearn-color-background: var(--sg-background-color, var(--theme-background, var(--jp-layout-color0, #111)));\n",
       "    --sklearn-color-border-box: var(--sg-text-color, var(--theme-code-foreground, var(--jp-content-font-color1, white)));\n",
       "    --sklearn-color-icon: #878787;\n",
       "  }\n",
       "}\n",
       "\n",
       "#sk-container-id-11 {\n",
       "  color: var(--sklearn-color-text);\n",
       "}\n",
       "\n",
       "#sk-container-id-11 pre {\n",
       "  padding: 0;\n",
       "}\n",
       "\n",
       "#sk-container-id-11 input.sk-hidden--visually {\n",
       "  border: 0;\n",
       "  clip: rect(1px 1px 1px 1px);\n",
       "  clip: rect(1px, 1px, 1px, 1px);\n",
       "  height: 1px;\n",
       "  margin: -1px;\n",
       "  overflow: hidden;\n",
       "  padding: 0;\n",
       "  position: absolute;\n",
       "  width: 1px;\n",
       "}\n",
       "\n",
       "#sk-container-id-11 div.sk-dashed-wrapped {\n",
       "  border: 1px dashed var(--sklearn-color-line);\n",
       "  margin: 0 0.4em 0.5em 0.4em;\n",
       "  box-sizing: border-box;\n",
       "  padding-bottom: 0.4em;\n",
       "  background-color: var(--sklearn-color-background);\n",
       "}\n",
       "\n",
       "#sk-container-id-11 div.sk-container {\n",
       "  /* jupyter's `normalize.less` sets `[hidden] { display: none; }`\n",
       "     but bootstrap.min.css set `[hidden] { display: none !important; }`\n",
       "     so we also need the `!important` here to be able to override the\n",
       "     default hidden behavior on the sphinx rendered scikit-learn.org.\n",
       "     See: https://github.com/scikit-learn/scikit-learn/issues/21755 */\n",
       "  display: inline-block !important;\n",
       "  position: relative;\n",
       "}\n",
       "\n",
       "#sk-container-id-11 div.sk-text-repr-fallback {\n",
       "  display: none;\n",
       "}\n",
       "\n",
       "div.sk-parallel-item,\n",
       "div.sk-serial,\n",
       "div.sk-item {\n",
       "  /* draw centered vertical line to link estimators */\n",
       "  background-image: linear-gradient(var(--sklearn-color-text-on-default-background), var(--sklearn-color-text-on-default-background));\n",
       "  background-size: 2px 100%;\n",
       "  background-repeat: no-repeat;\n",
       "  background-position: center center;\n",
       "}\n",
       "\n",
       "/* Parallel-specific style estimator block */\n",
       "\n",
       "#sk-container-id-11 div.sk-parallel-item::after {\n",
       "  content: \"\";\n",
       "  width: 100%;\n",
       "  border-bottom: 2px solid var(--sklearn-color-text-on-default-background);\n",
       "  flex-grow: 1;\n",
       "}\n",
       "\n",
       "#sk-container-id-11 div.sk-parallel {\n",
       "  display: flex;\n",
       "  align-items: stretch;\n",
       "  justify-content: center;\n",
       "  background-color: var(--sklearn-color-background);\n",
       "  position: relative;\n",
       "}\n",
       "\n",
       "#sk-container-id-11 div.sk-parallel-item {\n",
       "  display: flex;\n",
       "  flex-direction: column;\n",
       "}\n",
       "\n",
       "#sk-container-id-11 div.sk-parallel-item:first-child::after {\n",
       "  align-self: flex-end;\n",
       "  width: 50%;\n",
       "}\n",
       "\n",
       "#sk-container-id-11 div.sk-parallel-item:last-child::after {\n",
       "  align-self: flex-start;\n",
       "  width: 50%;\n",
       "}\n",
       "\n",
       "#sk-container-id-11 div.sk-parallel-item:only-child::after {\n",
       "  width: 0;\n",
       "}\n",
       "\n",
       "/* Serial-specific style estimator block */\n",
       "\n",
       "#sk-container-id-11 div.sk-serial {\n",
       "  display: flex;\n",
       "  flex-direction: column;\n",
       "  align-items: center;\n",
       "  background-color: var(--sklearn-color-background);\n",
       "  padding-right: 1em;\n",
       "  padding-left: 1em;\n",
       "}\n",
       "\n",
       "\n",
       "/* Toggleable style: style used for estimator/Pipeline/ColumnTransformer box that is\n",
       "clickable and can be expanded/collapsed.\n",
       "- Pipeline and ColumnTransformer use this feature and define the default style\n",
       "- Estimators will overwrite some part of the style using the `sk-estimator` class\n",
       "*/\n",
       "\n",
       "/* Pipeline and ColumnTransformer style (default) */\n",
       "\n",
       "#sk-container-id-11 div.sk-toggleable {\n",
       "  /* Default theme specific background. It is overwritten whether we have a\n",
       "  specific estimator or a Pipeline/ColumnTransformer */\n",
       "  background-color: var(--sklearn-color-background);\n",
       "}\n",
       "\n",
       "/* Toggleable label */\n",
       "#sk-container-id-11 label.sk-toggleable__label {\n",
       "  cursor: pointer;\n",
       "  display: flex;\n",
       "  width: 100%;\n",
       "  margin-bottom: 0;\n",
       "  padding: 0.5em;\n",
       "  box-sizing: border-box;\n",
       "  text-align: center;\n",
       "  align-items: start;\n",
       "  justify-content: space-between;\n",
       "  gap: 0.5em;\n",
       "}\n",
       "\n",
       "#sk-container-id-11 label.sk-toggleable__label .caption {\n",
       "  font-size: 0.6rem;\n",
       "  font-weight: lighter;\n",
       "  color: var(--sklearn-color-text-muted);\n",
       "}\n",
       "\n",
       "#sk-container-id-11 label.sk-toggleable__label-arrow:before {\n",
       "  /* Arrow on the left of the label */\n",
       "  content: \"▸\";\n",
       "  float: left;\n",
       "  margin-right: 0.25em;\n",
       "  color: var(--sklearn-color-icon);\n",
       "}\n",
       "\n",
       "#sk-container-id-11 label.sk-toggleable__label-arrow:hover:before {\n",
       "  color: var(--sklearn-color-text);\n",
       "}\n",
       "\n",
       "/* Toggleable content - dropdown */\n",
       "\n",
       "#sk-container-id-11 div.sk-toggleable__content {\n",
       "  max-height: 0;\n",
       "  max-width: 0;\n",
       "  overflow: hidden;\n",
       "  text-align: left;\n",
       "  /* unfitted */\n",
       "  background-color: var(--sklearn-color-unfitted-level-0);\n",
       "}\n",
       "\n",
       "#sk-container-id-11 div.sk-toggleable__content.fitted {\n",
       "  /* fitted */\n",
       "  background-color: var(--sklearn-color-fitted-level-0);\n",
       "}\n",
       "\n",
       "#sk-container-id-11 div.sk-toggleable__content pre {\n",
       "  margin: 0.2em;\n",
       "  border-radius: 0.25em;\n",
       "  color: var(--sklearn-color-text);\n",
       "  /* unfitted */\n",
       "  background-color: var(--sklearn-color-unfitted-level-0);\n",
       "}\n",
       "\n",
       "#sk-container-id-11 div.sk-toggleable__content.fitted pre {\n",
       "  /* unfitted */\n",
       "  background-color: var(--sklearn-color-fitted-level-0);\n",
       "}\n",
       "\n",
       "#sk-container-id-11 input.sk-toggleable__control:checked~div.sk-toggleable__content {\n",
       "  /* Expand drop-down */\n",
       "  max-height: 200px;\n",
       "  max-width: 100%;\n",
       "  overflow: auto;\n",
       "}\n",
       "\n",
       "#sk-container-id-11 input.sk-toggleable__control:checked~label.sk-toggleable__label-arrow:before {\n",
       "  content: \"▾\";\n",
       "}\n",
       "\n",
       "/* Pipeline/ColumnTransformer-specific style */\n",
       "\n",
       "#sk-container-id-11 div.sk-label input.sk-toggleable__control:checked~label.sk-toggleable__label {\n",
       "  color: var(--sklearn-color-text);\n",
       "  background-color: var(--sklearn-color-unfitted-level-2);\n",
       "}\n",
       "\n",
       "#sk-container-id-11 div.sk-label.fitted input.sk-toggleable__control:checked~label.sk-toggleable__label {\n",
       "  background-color: var(--sklearn-color-fitted-level-2);\n",
       "}\n",
       "\n",
       "/* Estimator-specific style */\n",
       "\n",
       "/* Colorize estimator box */\n",
       "#sk-container-id-11 div.sk-estimator input.sk-toggleable__control:checked~label.sk-toggleable__label {\n",
       "  /* unfitted */\n",
       "  background-color: var(--sklearn-color-unfitted-level-2);\n",
       "}\n",
       "\n",
       "#sk-container-id-11 div.sk-estimator.fitted input.sk-toggleable__control:checked~label.sk-toggleable__label {\n",
       "  /* fitted */\n",
       "  background-color: var(--sklearn-color-fitted-level-2);\n",
       "}\n",
       "\n",
       "#sk-container-id-11 div.sk-label label.sk-toggleable__label,\n",
       "#sk-container-id-11 div.sk-label label {\n",
       "  /* The background is the default theme color */\n",
       "  color: var(--sklearn-color-text-on-default-background);\n",
       "}\n",
       "\n",
       "/* On hover, darken the color of the background */\n",
       "#sk-container-id-11 div.sk-label:hover label.sk-toggleable__label {\n",
       "  color: var(--sklearn-color-text);\n",
       "  background-color: var(--sklearn-color-unfitted-level-2);\n",
       "}\n",
       "\n",
       "/* Label box, darken color on hover, fitted */\n",
       "#sk-container-id-11 div.sk-label.fitted:hover label.sk-toggleable__label.fitted {\n",
       "  color: var(--sklearn-color-text);\n",
       "  background-color: var(--sklearn-color-fitted-level-2);\n",
       "}\n",
       "\n",
       "/* Estimator label */\n",
       "\n",
       "#sk-container-id-11 div.sk-label label {\n",
       "  font-family: monospace;\n",
       "  font-weight: bold;\n",
       "  display: inline-block;\n",
       "  line-height: 1.2em;\n",
       "}\n",
       "\n",
       "#sk-container-id-11 div.sk-label-container {\n",
       "  text-align: center;\n",
       "}\n",
       "\n",
       "/* Estimator-specific */\n",
       "#sk-container-id-11 div.sk-estimator {\n",
       "  font-family: monospace;\n",
       "  border: 1px dotted var(--sklearn-color-border-box);\n",
       "  border-radius: 0.25em;\n",
       "  box-sizing: border-box;\n",
       "  margin-bottom: 0.5em;\n",
       "  /* unfitted */\n",
       "  background-color: var(--sklearn-color-unfitted-level-0);\n",
       "}\n",
       "\n",
       "#sk-container-id-11 div.sk-estimator.fitted {\n",
       "  /* fitted */\n",
       "  background-color: var(--sklearn-color-fitted-level-0);\n",
       "}\n",
       "\n",
       "/* on hover */\n",
       "#sk-container-id-11 div.sk-estimator:hover {\n",
       "  /* unfitted */\n",
       "  background-color: var(--sklearn-color-unfitted-level-2);\n",
       "}\n",
       "\n",
       "#sk-container-id-11 div.sk-estimator.fitted:hover {\n",
       "  /* fitted */\n",
       "  background-color: var(--sklearn-color-fitted-level-2);\n",
       "}\n",
       "\n",
       "/* Specification for estimator info (e.g. \"i\" and \"?\") */\n",
       "\n",
       "/* Common style for \"i\" and \"?\" */\n",
       "\n",
       ".sk-estimator-doc-link,\n",
       "a:link.sk-estimator-doc-link,\n",
       "a:visited.sk-estimator-doc-link {\n",
       "  float: right;\n",
       "  font-size: smaller;\n",
       "  line-height: 1em;\n",
       "  font-family: monospace;\n",
       "  background-color: var(--sklearn-color-background);\n",
       "  border-radius: 1em;\n",
       "  height: 1em;\n",
       "  width: 1em;\n",
       "  text-decoration: none !important;\n",
       "  margin-left: 0.5em;\n",
       "  text-align: center;\n",
       "  /* unfitted */\n",
       "  border: var(--sklearn-color-unfitted-level-1) 1pt solid;\n",
       "  color: var(--sklearn-color-unfitted-level-1);\n",
       "}\n",
       "\n",
       ".sk-estimator-doc-link.fitted,\n",
       "a:link.sk-estimator-doc-link.fitted,\n",
       "a:visited.sk-estimator-doc-link.fitted {\n",
       "  /* fitted */\n",
       "  border: var(--sklearn-color-fitted-level-1) 1pt solid;\n",
       "  color: var(--sklearn-color-fitted-level-1);\n",
       "}\n",
       "\n",
       "/* On hover */\n",
       "div.sk-estimator:hover .sk-estimator-doc-link:hover,\n",
       ".sk-estimator-doc-link:hover,\n",
       "div.sk-label-container:hover .sk-estimator-doc-link:hover,\n",
       ".sk-estimator-doc-link:hover {\n",
       "  /* unfitted */\n",
       "  background-color: var(--sklearn-color-unfitted-level-3);\n",
       "  color: var(--sklearn-color-background);\n",
       "  text-decoration: none;\n",
       "}\n",
       "\n",
       "div.sk-estimator.fitted:hover .sk-estimator-doc-link.fitted:hover,\n",
       ".sk-estimator-doc-link.fitted:hover,\n",
       "div.sk-label-container:hover .sk-estimator-doc-link.fitted:hover,\n",
       ".sk-estimator-doc-link.fitted:hover {\n",
       "  /* fitted */\n",
       "  background-color: var(--sklearn-color-fitted-level-3);\n",
       "  color: var(--sklearn-color-background);\n",
       "  text-decoration: none;\n",
       "}\n",
       "\n",
       "/* Span, style for the box shown on hovering the info icon */\n",
       ".sk-estimator-doc-link span {\n",
       "  display: none;\n",
       "  z-index: 9999;\n",
       "  position: relative;\n",
       "  font-weight: normal;\n",
       "  right: .2ex;\n",
       "  padding: .5ex;\n",
       "  margin: .5ex;\n",
       "  width: min-content;\n",
       "  min-width: 20ex;\n",
       "  max-width: 50ex;\n",
       "  color: var(--sklearn-color-text);\n",
       "  box-shadow: 2pt 2pt 4pt #999;\n",
       "  /* unfitted */\n",
       "  background: var(--sklearn-color-unfitted-level-0);\n",
       "  border: .5pt solid var(--sklearn-color-unfitted-level-3);\n",
       "}\n",
       "\n",
       ".sk-estimator-doc-link.fitted span {\n",
       "  /* fitted */\n",
       "  background: var(--sklearn-color-fitted-level-0);\n",
       "  border: var(--sklearn-color-fitted-level-3);\n",
       "}\n",
       "\n",
       ".sk-estimator-doc-link:hover span {\n",
       "  display: block;\n",
       "}\n",
       "\n",
       "/* \"?\"-specific style due to the `<a>` HTML tag */\n",
       "\n",
       "#sk-container-id-11 a.estimator_doc_link {\n",
       "  float: right;\n",
       "  font-size: 1rem;\n",
       "  line-height: 1em;\n",
       "  font-family: monospace;\n",
       "  background-color: var(--sklearn-color-background);\n",
       "  border-radius: 1rem;\n",
       "  height: 1rem;\n",
       "  width: 1rem;\n",
       "  text-decoration: none;\n",
       "  /* unfitted */\n",
       "  color: var(--sklearn-color-unfitted-level-1);\n",
       "  border: var(--sklearn-color-unfitted-level-1) 1pt solid;\n",
       "}\n",
       "\n",
       "#sk-container-id-11 a.estimator_doc_link.fitted {\n",
       "  /* fitted */\n",
       "  border: var(--sklearn-color-fitted-level-1) 1pt solid;\n",
       "  color: var(--sklearn-color-fitted-level-1);\n",
       "}\n",
       "\n",
       "/* On hover */\n",
       "#sk-container-id-11 a.estimator_doc_link:hover {\n",
       "  /* unfitted */\n",
       "  background-color: var(--sklearn-color-unfitted-level-3);\n",
       "  color: var(--sklearn-color-background);\n",
       "  text-decoration: none;\n",
       "}\n",
       "\n",
       "#sk-container-id-11 a.estimator_doc_link.fitted:hover {\n",
       "  /* fitted */\n",
       "  background-color: var(--sklearn-color-fitted-level-3);\n",
       "}\n",
       "</style><div id=\"sk-container-id-11\" class=\"sk-top-container\"><div class=\"sk-text-repr-fallback\"><pre>LogisticRegression()</pre><b>In a Jupyter environment, please rerun this cell to show the HTML representation or trust the notebook. <br />On GitHub, the HTML representation is unable to render, please try loading this page with nbviewer.org.</b></div><div class=\"sk-container\" hidden><div class=\"sk-item\"><div class=\"sk-estimator fitted sk-toggleable\"><input class=\"sk-toggleable__control sk-hidden--visually\" id=\"sk-estimator-id-11\" type=\"checkbox\" checked><label for=\"sk-estimator-id-11\" class=\"sk-toggleable__label fitted sk-toggleable__label-arrow\"><div><div>LogisticRegression</div></div><div><a class=\"sk-estimator-doc-link fitted\" rel=\"noreferrer\" target=\"_blank\" href=\"https://scikit-learn.org/1.6/modules/generated/sklearn.linear_model.LogisticRegression.html\">?<span>Documentation for LogisticRegression</span></a><span class=\"sk-estimator-doc-link fitted\">i<span>Fitted</span></span></div></label><div class=\"sk-toggleable__content fitted\"><pre>LogisticRegression()</pre></div> </div></div></div></div>"
      ],
      "text/plain": [
       "LogisticRegression()"
      ]
     },
     "execution_count": 404,
     "metadata": {},
     "output_type": "execute_result"
    }
   ],
   "source": [
    "# Fit the model on the training data\n",
    "model_Logistic.fit(X_train_scaled, y_train)"
   ]
  },
  {
   "cell_type": "markdown",
   "id": "20855146",
   "metadata": {},
   "source": [
    "## Test the Model"
   ]
  },
  {
   "cell_type": "code",
   "execution_count": 405,
   "id": "e737ffd9",
   "metadata": {},
   "outputs": [],
   "source": [
    "# Predict and evaluate the model\n",
    "y_pred_test = model_Logistic.predict(X_test_scaled)"
   ]
  },
  {
   "cell_type": "markdown",
   "id": "72bf063b",
   "metadata": {},
   "source": [
    "## Interpretation of the Model"
   ]
  },
  {
   "cell_type": "code",
   "execution_count": 406,
   "id": "a6b75bac",
   "metadata": {},
   "outputs": [
    {
     "data": {
      "text/html": [
       "<div>\n",
       "<style scoped>\n",
       "    .dataframe tbody tr th:only-of-type {\n",
       "        vertical-align: middle;\n",
       "    }\n",
       "\n",
       "    .dataframe tbody tr th {\n",
       "        vertical-align: top;\n",
       "    }\n",
       "\n",
       "    .dataframe thead th {\n",
       "        text-align: right;\n",
       "    }\n",
       "</style>\n",
       "<table border=\"1\" class=\"dataframe\">\n",
       "  <thead>\n",
       "    <tr style=\"text-align: right;\">\n",
       "      <th></th>\n",
       "      <th>Coefficient</th>\n",
       "    </tr>\n",
       "  </thead>\n",
       "  <tbody>\n",
       "    <tr>\n",
       "      <th>appearance</th>\n",
       "      <td>0.314941</td>\n",
       "    </tr>\n",
       "    <tr>\n",
       "      <th>minutes played</th>\n",
       "      <td>0.269011</td>\n",
       "    </tr>\n",
       "    <tr>\n",
       "      <th>games_injured</th>\n",
       "      <td>-0.199832</td>\n",
       "    </tr>\n",
       "    <tr>\n",
       "      <th>award</th>\n",
       "      <td>-0.519238</td>\n",
       "    </tr>\n",
       "    <tr>\n",
       "      <th>highest_value</th>\n",
       "      <td>5.136920</td>\n",
       "    </tr>\n",
       "  </tbody>\n",
       "</table>\n",
       "</div>"
      ],
      "text/plain": [
       "                Coefficient\n",
       "appearance         0.314941\n",
       "minutes played     0.269011\n",
       "games_injured     -0.199832\n",
       "award             -0.519238\n",
       "highest_value      5.136920"
      ]
     },
     "execution_count": 406,
     "metadata": {},
     "output_type": "execute_result"
    }
   ],
   "source": [
    "# Each row of the model.coef_ matrix tells you how each feature affects being in the corresponding class versus any other class\n",
    "coeff_df = pd.DataFrame(model_Logistic.coef_[2],X.columns,columns=['Coefficient'])\n",
    "coeff_df"
   ]
  },
  {
   "cell_type": "code",
   "execution_count": 407,
   "id": "8ed97245",
   "metadata": {},
   "outputs": [
    {
     "data": {
      "text/plain": [
       "array([[-0.41343431, -0.25262201,  0.07625927,  0.36148122, -6.64374911],\n",
       "       [ 0.09849349, -0.01638921,  0.12357322,  0.157757  ,  1.50682891],\n",
       "       [ 0.31494083,  0.26901123, -0.19983249, -0.51923822,  5.1369202 ]])"
      ]
     },
     "execution_count": 407,
     "metadata": {},
     "output_type": "execute_result"
    }
   ],
   "source": [
    "model_Logistic.coef_"
   ]
  },
  {
   "cell_type": "code",
   "execution_count": 408,
   "id": "737f4500",
   "metadata": {},
   "outputs": [
    {
     "name": "stdout",
     "output_type": "stream",
     "text": [
      "[-1.93505426  1.28585574  0.64919852]\n"
     ]
    }
   ],
   "source": [
    "print(model_Logistic.intercept_) "
   ]
  },
  {
   "cell_type": "markdown",
   "id": "9435ca80",
   "metadata": {},
   "source": [
    "## Evaluating the Model "
   ]
  },
  {
   "cell_type": "code",
   "execution_count": 409,
   "id": "abdb2b55",
   "metadata": {},
   "outputs": [
    {
     "data": {
      "text/plain": [
       "40.08"
      ]
     },
     "execution_count": 409,
     "metadata": {},
     "output_type": "execute_result"
    }
   ],
   "source": [
    "# our benchmark model\n",
    "base_model = round(football_players_data_Logistic['current_value_category_encoded'].value_counts()[1]/football_players_data_Logistic.shape[0]*100, 2)\n",
    "base_model"
   ]
  },
  {
   "cell_type": "markdown",
   "id": "34d8b2fb",
   "metadata": {},
   "source": [
    "1. Accuracy"
   ]
  },
  {
   "cell_type": "code",
   "execution_count": 410,
   "id": "e7a63ed4",
   "metadata": {},
   "outputs": [
    {
     "data": {
      "text/plain": [
       "0.7008020457979774"
      ]
     },
     "execution_count": 410,
     "metadata": {},
     "output_type": "execute_result"
    }
   ],
   "source": [
    "# Train score\n",
    "y_pred_train = model_Logistic.predict(X_train_scaled)\n",
    "accuracy_Train = accuracy_score(y_train, y_pred_train)\n",
    "accuracy_Train"
   ]
  },
  {
   "cell_type": "code",
   "execution_count": 411,
   "id": "9a0337c3",
   "metadata": {},
   "outputs": [
    {
     "data": {
      "text/plain": [
       "0.6871222687122269"
      ]
     },
     "execution_count": 411,
     "metadata": {},
     "output_type": "execute_result"
    }
   ],
   "source": [
    "# Test score\n",
    "accuracy_test = accuracy_score(y_test, y_pred_test)\n",
    "accuracy_test"
   ]
  },
  {
   "cell_type": "markdown",
   "id": "db0e3714",
   "metadata": {},
   "source": [
    "- Confusion matrix"
   ]
  },
  {
   "cell_type": "code",
   "execution_count": 412,
   "id": "bea889ec",
   "metadata": {},
   "outputs": [
    {
     "data": {
      "text/plain": [
       "array([[606, 144,   6],\n",
       "       [286, 544,  52],\n",
       "       [  0, 185, 328]])"
      ]
     },
     "execution_count": 412,
     "metadata": {},
     "output_type": "execute_result"
    }
   ],
   "source": [
    "conf_matrix = confusion_matrix(y_test, y_pred_test)\n",
    "conf_matrix"
   ]
  },
  {
   "cell_type": "code",
   "execution_count": 413,
   "id": "d4e80bc3",
   "metadata": {},
   "outputs": [
    {
     "data": {
      "image/png": "[encoded data removed]",
      "text/plain": [
       "<Figure size 640x480 with 2 Axes>"
      ]
     },
     "metadata": {},
     "output_type": "display_data"
    }
   ],
   "source": [
    "from sklearn.metrics import confusion_matrix, ConfusionMatrixDisplay\n",
    "\n",
    "ConfusionMatrixDisplay.from_predictions(y_test, y_pred_test,\n",
    "                                        display_labels=model_Logistic.classes_,\n",
    "                                        cmap=\"Blues\",\n",
    "                                        xticks_rotation='vertical')\n",
    "plt.title('Confusion Matrix')\n",
    "plt.show()"
   ]
  },
  {
   "cell_type": "markdown",
   "id": "56aceeea",
   "metadata": {},
   "source": [
    "2. Precision"
   ]
  },
  {
   "cell_type": "code",
   "execution_count": 414,
   "id": "7bd7f726",
   "metadata": {},
   "outputs": [
    {
     "name": "stdout",
     "output_type": "stream",
     "text": [
      "Precision in train: 0.73\n",
      "Precision in test: 0.72\n"
     ]
    }
   ],
   "source": [
    "# Train score\n",
    "precision_train = precision_score(y_train, y_pred_train, average='macro')\n",
    "print(f\"Precision in train: {precision_train:.2f}\")\n",
    "\n",
    "# Test score\n",
    "precision_test = precision_score(y_test, y_pred_test, average='macro')\n",
    "print(f\"Precision in test: {precision_test:.2f}\")"
   ]
  },
  {
   "cell_type": "markdown",
   "id": "9ef79bb3",
   "metadata": {},
   "source": [
    "3. Recall"
   ]
  },
  {
   "cell_type": "code",
   "execution_count": 415,
   "id": "98def6ad",
   "metadata": {},
   "outputs": [
    {
     "name": "stdout",
     "output_type": "stream",
     "text": [
      "Recall in train: 0.70\n",
      "Recall in test: 0.69\n"
     ]
    }
   ],
   "source": [
    "# Train score\n",
    "recall_train = recall_score(y_train, y_pred_train, average='macro')\n",
    "print(f\"Recall in train: {recall_train:.2f}\")\n",
    "\n",
    "# Test score\n",
    "recall_test = recall_score(y_test, y_pred_test, average='macro')\n",
    "print(f\"Recall in test: {recall_test:.2f}\")"
   ]
  },
  {
   "cell_type": "markdown",
   "id": "9eb57a2e",
   "metadata": {},
   "source": [
    "4. F1-Score"
   ]
  },
  {
   "cell_type": "code",
   "execution_count": 416,
   "id": "f4d8338f",
   "metadata": {},
   "outputs": [
    {
     "name": "stdout",
     "output_type": "stream",
     "text": [
      "f1-score in train: 0.71\n",
      "f1-score in test: 0.72\n"
     ]
    }
   ],
   "source": [
    "# Train score\n",
    "f1_train = f1_score(y_train, y_pred_train, average='macro')\n",
    "print(f\"f1-score in train: {f1_train:.2f}\")\n",
    "\n",
    "# Test score\n",
    "f1_test = precision_score(y_test, y_pred_test, average='macro')\n",
    "print(f\"f1-score in test: {f1_test:.2f}\")"
   ]
  },
  {
   "cell_type": "markdown",
   "id": "5ff6f083",
   "metadata": {},
   "source": [
    "- Classification report"
   ]
  },
  {
   "cell_type": "code",
   "execution_count": 417,
   "id": "44dd8137",
   "metadata": {},
   "outputs": [
    {
     "name": "stdout",
     "output_type": "stream",
     "text": [
      "Train report: \n",
      "              precision    recall  f1-score   support\n",
      "\n",
      "           0       0.71      0.82      0.76      2998\n",
      "           1       0.63      0.64      0.63      3428\n",
      "           2       0.85      0.64      0.73      2177\n",
      "\n",
      "    accuracy                           0.70      8603\n",
      "   macro avg       0.73      0.70      0.71      8603\n",
      "weighted avg       0.71      0.70      0.70      8603\n",
      "\n",
      "Test report: \n",
      "              precision    recall  f1-score   support\n",
      "\n",
      "           0       0.68      0.80      0.74       756\n",
      "           1       0.62      0.62      0.62       882\n",
      "           2       0.85      0.64      0.73       513\n",
      "\n",
      "    accuracy                           0.69      2151\n",
      "   macro avg       0.72      0.69      0.70      2151\n",
      "weighted avg       0.70      0.69      0.69      2151\n",
      "\n"
     ]
    }
   ],
   "source": [
    "from sklearn.metrics import classification_report\n",
    "\n",
    "print('Train report: ')\n",
    "print(classification_report(y_train, y_pred_train))\n",
    "\n",
    "print('Test report: ')\n",
    "print(classification_report(y_test, y_pred_test))"
   ]
  }
 ],
 "metadata": {
  "kernelspec": {
   "display_name": "Python 3",
   "language": "python",
   "name": "python3"
  },
  "language_info": {
   "codemirror_mode": {
    "name": "ipython",
    "version": 3
   },
   "file_extension": ".py",
   "mimetype": "text/x-python",
   "name": "python",
   "nbconvert_exporter": "python",
   "pygments_lexer": "ipython3",
   "version": "3.9.6"
  }
 },
 "nbformat": 4,
 "nbformat_minor": 5
}
